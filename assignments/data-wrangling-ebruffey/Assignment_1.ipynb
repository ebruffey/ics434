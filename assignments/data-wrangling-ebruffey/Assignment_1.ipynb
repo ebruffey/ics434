{
 "cells": [
  {
   "cell_type": "markdown",
   "metadata": {},
   "source": [
    "### Brief Overview \n",
    "\n",
    "- The goal of this assignment is to practice some important data wrangling functionality commonly required in real-world projects.\n",
    "\n",
    "- Here we will use two datasets:\n",
    "  - IRS Statistics of Income (SOI) dataset\n",
    "  - The Medicaid Data per State  \n",
    "\n",
    "\n",
    "- The final product here is a table with medication cost per Medicaid enrollee per state. This dataset will allow us to answer such questions as:\n",
    "  - Which medications account for the bulk of a state's spending   \n",
    "  - Which drugs are prescribed much more in one state compared to the other states.\n",
    "etc.\n"
   ]
  },
  {
   "cell_type": "markdown",
   "metadata": {},
   "source": []
  },
  {
   "cell_type": "code",
   "execution_count": 1,
   "metadata": {
    "collapsed": true
   },
   "outputs": [],
   "source": [
    "import pandas as pd\n",
    "import numpy as np"
   ]
  },
  {
   "cell_type": "markdown",
   "metadata": {},
   "source": [
    "\n",
    "* Load the IRS Statistics of Income (SOI) dataset (tax_data.csv) into a `DataFrame` called `tax_data`. The file is `tax_data.csv` is located in the `data` directory of the assignment folder.\n",
    "\n",
    "* This dataset was preprocessed but the original one was obtained at the following URL:\n",
    "\n",
    "        https://www.irs.gov/pub/irs-soi/15zpallagi.csv\n"
   ]
  },
  {
   "cell_type": "code",
   "execution_count": 2,
   "metadata": {
    "collapsed": true
   },
   "outputs": [],
   "source": [
    "## WRITE YOUR CODE HERE \n",
    "tax_data = pd.read_csv('data/tax_data.csv')"
   ]
  },
  {
   "cell_type": "markdown",
   "metadata": {},
   "source": [
    "* Use a `tax_data` method or property to display the first eight (8) rows of the `DataFrame`"
   ]
  },
  {
   "cell_type": "code",
   "execution_count": 3,
   "metadata": {
    "collapsed": true
   },
   "outputs": [
    {
     "data": {
      "text/plain": "   STATEFIPS STATE  zipcode  agi_stub        N1     mars1     MARS2     MARS4  \\\n0        1.0    AL      0.0       1.0  836320.0  481570.0  109790.0  233260.0   \n1        1.0    AL      0.0       2.0  494830.0  206630.0  146250.0  129390.0   \n2        1.0    AL      0.0       3.0  261250.0   80720.0  139280.0   36130.0   \n3        1.0    AL      0.0       4.0  166690.0   28510.0  124650.0   10630.0   \n4        1.0    AL      0.0       5.0  212660.0   19520.0  184320.0    4830.0   \n5        1.0    AL      0.0       6.0   55360.0    2950.0   49260.0     350.0   \n6        1.0    AL  35004.0       1.0    1490.0     970.0     230.0     280.0   \n7        1.0    AL  35004.0       2.0    1350.0     630.0     360.0     300.0   \n\n       PREP         N2  ...    N10300     A10300   N85530   A85530   N85300  \\\n0  455560.0  1356760.0  ...  373410.0   328469.0      0.0      0.0      0.0   \n1  275920.0  1010990.0  ...  395880.0   965011.0      0.0      0.0      0.0   \n2  155100.0   583910.0  ...  251490.0  1333418.0      0.0      0.0      0.0   \n3   99950.0   423990.0  ...  165320.0  1414283.0      0.0      0.0      0.0   \n4  126860.0   589490.0  ...  212000.0  3820152.0    420.0    168.0     60.0   \n5   41410.0   160530.0  ...   55300.0  6027793.0  22090.0  39519.0  27550.0   \n6     700.0     2160.0  ...     690.0      610.0      0.0      0.0      0.0   \n7     610.0     2540.0  ...    1140.0     3019.0      0.0      0.0      0.0   \n\n    A85300   N11901    A11901    N11902     A11902  \n0      0.0  61920.0   48150.0  732670.0  1933120.0  \n1      0.0  73720.0  107304.0  415410.0  1187403.0  \n2      0.0  64200.0  139598.0  193030.0   536699.0  \n3      0.0  45460.0  128823.0  116440.0   377177.0  \n4     31.0  83330.0  421004.0  121570.0   483682.0  \n5  95112.0  28590.0  791573.0   15960.0   250289.0  \n6      0.0    120.0      94.0    1290.0     2792.0  \n7      0.0    210.0     301.0    1130.0     2935.0  \n\n[8 rows x 91 columns]",
      "text/html": "<div>\n<style scoped>\n    .dataframe tbody tr th:only-of-type {\n        vertical-align: middle;\n    }\n\n    .dataframe tbody tr th {\n        vertical-align: top;\n    }\n\n    .dataframe thead th {\n        text-align: right;\n    }\n</style>\n<table border=\"1\" class=\"dataframe\">\n  <thead>\n    <tr style=\"text-align: right;\">\n      <th></th>\n      <th>STATEFIPS</th>\n      <th>STATE</th>\n      <th>zipcode</th>\n      <th>agi_stub</th>\n      <th>N1</th>\n      <th>mars1</th>\n      <th>MARS2</th>\n      <th>MARS4</th>\n      <th>PREP</th>\n      <th>N2</th>\n      <th>...</th>\n      <th>N10300</th>\n      <th>A10300</th>\n      <th>N85530</th>\n      <th>A85530</th>\n      <th>N85300</th>\n      <th>A85300</th>\n      <th>N11901</th>\n      <th>A11901</th>\n      <th>N11902</th>\n      <th>A11902</th>\n    </tr>\n  </thead>\n  <tbody>\n    <tr>\n      <th>0</th>\n      <td>1.0</td>\n      <td>AL</td>\n      <td>0.0</td>\n      <td>1.0</td>\n      <td>836320.0</td>\n      <td>481570.0</td>\n      <td>109790.0</td>\n      <td>233260.0</td>\n      <td>455560.0</td>\n      <td>1356760.0</td>\n      <td>...</td>\n      <td>373410.0</td>\n      <td>328469.0</td>\n      <td>0.0</td>\n      <td>0.0</td>\n      <td>0.0</td>\n      <td>0.0</td>\n      <td>61920.0</td>\n      <td>48150.0</td>\n      <td>732670.0</td>\n      <td>1933120.0</td>\n    </tr>\n    <tr>\n      <th>1</th>\n      <td>1.0</td>\n      <td>AL</td>\n      <td>0.0</td>\n      <td>2.0</td>\n      <td>494830.0</td>\n      <td>206630.0</td>\n      <td>146250.0</td>\n      <td>129390.0</td>\n      <td>275920.0</td>\n      <td>1010990.0</td>\n      <td>...</td>\n      <td>395880.0</td>\n      <td>965011.0</td>\n      <td>0.0</td>\n      <td>0.0</td>\n      <td>0.0</td>\n      <td>0.0</td>\n      <td>73720.0</td>\n      <td>107304.0</td>\n      <td>415410.0</td>\n      <td>1187403.0</td>\n    </tr>\n    <tr>\n      <th>2</th>\n      <td>1.0</td>\n      <td>AL</td>\n      <td>0.0</td>\n      <td>3.0</td>\n      <td>261250.0</td>\n      <td>80720.0</td>\n      <td>139280.0</td>\n      <td>36130.0</td>\n      <td>155100.0</td>\n      <td>583910.0</td>\n      <td>...</td>\n      <td>251490.0</td>\n      <td>1333418.0</td>\n      <td>0.0</td>\n      <td>0.0</td>\n      <td>0.0</td>\n      <td>0.0</td>\n      <td>64200.0</td>\n      <td>139598.0</td>\n      <td>193030.0</td>\n      <td>536699.0</td>\n    </tr>\n    <tr>\n      <th>3</th>\n      <td>1.0</td>\n      <td>AL</td>\n      <td>0.0</td>\n      <td>4.0</td>\n      <td>166690.0</td>\n      <td>28510.0</td>\n      <td>124650.0</td>\n      <td>10630.0</td>\n      <td>99950.0</td>\n      <td>423990.0</td>\n      <td>...</td>\n      <td>165320.0</td>\n      <td>1414283.0</td>\n      <td>0.0</td>\n      <td>0.0</td>\n      <td>0.0</td>\n      <td>0.0</td>\n      <td>45460.0</td>\n      <td>128823.0</td>\n      <td>116440.0</td>\n      <td>377177.0</td>\n    </tr>\n    <tr>\n      <th>4</th>\n      <td>1.0</td>\n      <td>AL</td>\n      <td>0.0</td>\n      <td>5.0</td>\n      <td>212660.0</td>\n      <td>19520.0</td>\n      <td>184320.0</td>\n      <td>4830.0</td>\n      <td>126860.0</td>\n      <td>589490.0</td>\n      <td>...</td>\n      <td>212000.0</td>\n      <td>3820152.0</td>\n      <td>420.0</td>\n      <td>168.0</td>\n      <td>60.0</td>\n      <td>31.0</td>\n      <td>83330.0</td>\n      <td>421004.0</td>\n      <td>121570.0</td>\n      <td>483682.0</td>\n    </tr>\n    <tr>\n      <th>5</th>\n      <td>1.0</td>\n      <td>AL</td>\n      <td>0.0</td>\n      <td>6.0</td>\n      <td>55360.0</td>\n      <td>2950.0</td>\n      <td>49260.0</td>\n      <td>350.0</td>\n      <td>41410.0</td>\n      <td>160530.0</td>\n      <td>...</td>\n      <td>55300.0</td>\n      <td>6027793.0</td>\n      <td>22090.0</td>\n      <td>39519.0</td>\n      <td>27550.0</td>\n      <td>95112.0</td>\n      <td>28590.0</td>\n      <td>791573.0</td>\n      <td>15960.0</td>\n      <td>250289.0</td>\n    </tr>\n    <tr>\n      <th>6</th>\n      <td>1.0</td>\n      <td>AL</td>\n      <td>35004.0</td>\n      <td>1.0</td>\n      <td>1490.0</td>\n      <td>970.0</td>\n      <td>230.0</td>\n      <td>280.0</td>\n      <td>700.0</td>\n      <td>2160.0</td>\n      <td>...</td>\n      <td>690.0</td>\n      <td>610.0</td>\n      <td>0.0</td>\n      <td>0.0</td>\n      <td>0.0</td>\n      <td>0.0</td>\n      <td>120.0</td>\n      <td>94.0</td>\n      <td>1290.0</td>\n      <td>2792.0</td>\n    </tr>\n    <tr>\n      <th>7</th>\n      <td>1.0</td>\n      <td>AL</td>\n      <td>35004.0</td>\n      <td>2.0</td>\n      <td>1350.0</td>\n      <td>630.0</td>\n      <td>360.0</td>\n      <td>300.0</td>\n      <td>610.0</td>\n      <td>2540.0</td>\n      <td>...</td>\n      <td>1140.0</td>\n      <td>3019.0</td>\n      <td>0.0</td>\n      <td>0.0</td>\n      <td>0.0</td>\n      <td>0.0</td>\n      <td>210.0</td>\n      <td>301.0</td>\n      <td>1130.0</td>\n      <td>2935.0</td>\n    </tr>\n  </tbody>\n</table>\n<p>8 rows × 91 columns</p>\n</div>"
     },
     "execution_count": 3,
     "metadata": {},
     "output_type": "execute_result"
    }
   ],
   "source": [
    "## WRITE YOUR CODE HERE \n",
    "tax_data.head(8)"
   ]
  },
  {
   "cell_type": "markdown",
   "metadata": {},
   "source": [
    "*  Modify `tax_data` to uppercase all the header name. \n",
    "  * Your answer can only use `DataFrame` or `Series` methods or properties\n",
    "  * Do not hardcode the operation by uppercasing the columns yourself\n",
    "  *  You can `tax_data.columns`, which returns a `Series` of the column names.\n",
    "  \n",
    "* The resulting column name should look as follows:\n",
    "\n",
    "\n",
    "```\n",
    "STATEFIPS    STATE    ZIPCODE    AGI_STUB    N1    MARS1    MARS2    MARS4    PREP    N2    ...    \n",
    "```\n",
    "\n",
    "This operation is useful for standardizing column names and avoid guessing whether the column header was in upper case, lower case or a mix of both."
   ]
  },
  {
   "cell_type": "code",
   "execution_count": 4,
   "metadata": {
    "collapsed": true
   },
   "outputs": [],
   "source": [
    "tax_data.columns = tax_data.columns.str.upper()"
   ]
  },
  {
   "cell_type": "markdown",
   "metadata": {},
   "source": [
    "* What is the total number of entries (also called observations) in `tax_data`?\n",
    "\n",
    "  * Your answer can only use `DataFrame` or `Series` methods or properties\n"
   ]
  },
  {
   "cell_type": "code",
   "execution_count": 5,
   "metadata": {
    "collapsed": true
   },
   "outputs": [
    {
     "data": {
      "text/plain": "(166698, 91)"
     },
     "execution_count": 5,
     "metadata": {},
     "output_type": "execute_result"
    }
   ],
   "source": [
    "## WRITE YOUR CODE HERE \n",
    "tax_data.shape"
   ]
  },
  {
   "cell_type": "markdown",
   "metadata": {},
   "source": [
    "- If `STATEFIPS` is header title of the first column of the `tax_data` `DataFrame`, what is the title of the 32nd column\n",
    "  - Your answer can only use `DataFrame` or `Series` methods or properties and should use a single python expression\n",
    "\n"
   ]
  },
  {
   "cell_type": "code",
   "execution_count": 6,
   "metadata": {
    "collapsed": true
   },
   "outputs": [
    {
     "data": {
      "text/plain": "'N00900'"
     },
     "execution_count": 6,
     "metadata": {},
     "output_type": "execute_result"
    }
   ],
   "source": [
    "## WRITE YOUR CODE HERE \n",
    "tax_data.columns[31]"
   ]
  },
  {
   "cell_type": "markdown",
   "metadata": {},
   "source": [
    "* If `STATEFIPS` is the the first column, what is the index of the column name `N10300`?\n",
    "\n",
    "  * Your answer can only use `DataFrame` or `Series` methods or properties\n"
   ]
  },
  {
   "cell_type": "code",
   "execution_count": 7,
   "metadata": {
    "collapsed": true
   },
   "outputs": [
    {
     "data": {
      "text/plain": "81"
     },
     "execution_count": 7,
     "metadata": {},
     "output_type": "execute_result"
    }
   ],
   "source": [
    "## WRITE YOUR CODE HERE \n",
    "tax_data.columns.get_loc('N10300')"
   ]
  },
  {
   "cell_type": "markdown",
   "metadata": {},
   "source": []
  },
  {
   "cell_type": "code",
   "execution_count": 8,
   "metadata": {
    "collapsed": true
   },
   "outputs": [],
   "source": [
    "## WRITE YOUR CODE HERE \n",
    "states_zips = tax_data.groupby('STATE')['ZIPCODE'].nunique()\n",
    "states_zips = states_zips.reset_index()\n",
    "states_zips = states_zips.sort_values(by='ZIPCODE', ascending=False)"
   ]
  },
  {
   "cell_type": "markdown",
   "metadata": {},
   "source": [
    "- Identify the position of HI in the list of zip code counts per state (questions directly above)\n",
    "  - Your answer can only use `DataFrame` or `Series` methods or properties"
   ]
  },
  {
   "cell_type": "code",
   "execution_count": 9,
   "metadata": {
    "collapsed": true
   },
   "outputs": [
    {
     "data": {
      "text/plain": "   STATE  ZIPCODE\n11    HI       60",
      "text/html": "<div>\n<style scoped>\n    .dataframe tbody tr th:only-of-type {\n        vertical-align: middle;\n    }\n\n    .dataframe tbody tr th {\n        vertical-align: top;\n    }\n\n    .dataframe thead th {\n        text-align: right;\n    }\n</style>\n<table border=\"1\" class=\"dataframe\">\n  <thead>\n    <tr style=\"text-align: right;\">\n      <th></th>\n      <th>STATE</th>\n      <th>ZIPCODE</th>\n    </tr>\n  </thead>\n  <tbody>\n    <tr>\n      <th>11</th>\n      <td>HI</td>\n      <td>60</td>\n    </tr>\n  </tbody>\n</table>\n</div>"
     },
     "execution_count": 9,
     "metadata": {},
     "output_type": "execute_result"
    }
   ],
   "source": [
    "## WRITE YOUR CODE HERE\n",
    "states_zips.loc[states_zips['STATE'] == 'HI']"
   ]
  },
  {
   "cell_type": "markdown",
   "metadata": {},
   "source": [
    "### Identifying and Removing Ambiguous Zip Codes\n",
    "\n",
    "- Count the number of entries where ZIPCODE is 0, assign your results to a variable named  `nb_invalid_zip`"
   ]
  },
  {
   "cell_type": "code",
   "execution_count": 10,
   "metadata": {
    "collapsed": true
   },
   "outputs": [
    {
     "name": "stdout",
     "output_type": "stream",
     "text": [
      "306\n"
     ]
    }
   ],
   "source": [
    "## WRITE YOUR CODE HERE \n",
    "nb_invalid_zip = tax_data['ZIPCODE'].value_counts()[0.0].tolist()\n",
    "#type(nb_invalid_zip)\n",
    "print(nb_invalid_zip)"
   ]
  },
  {
   "cell_type": "markdown",
   "metadata": {},
   "source": [
    "* Run the line below to make sure that `nb_invalid_zip` is an integer (`int`)\n",
    "  * Note that `assert` will only print an error if `type(nb_invalid_zip)` is not of type `int`\n",
    "  \n",
    "* If `nb_invalid_zip` then change your answer above so that the value returned is effectively a number."
   ]
  },
  {
   "cell_type": "code",
   "execution_count": 11,
   "metadata": {
    "collapsed": true
   },
   "outputs": [],
   "source": [
    "assert(type(nb_invalid_zip) == int)"
   ]
  },
  {
   "cell_type": "markdown",
   "metadata": {},
   "source": [
    "- Remove from `tax_data` all the lines where the zip code is `0` and save resulting `DataFrame` to a variable named `tax_data_valid_zip`\n",
    "  - Your answer can only use `DataFrame` or `Series` methods or properties\n"
   ]
  },
  {
   "cell_type": "code",
   "execution_count": 12,
   "outputs": [
    {
     "data": {
      "text/plain": "(166392, 91)"
     },
     "execution_count": 12,
     "metadata": {},
     "output_type": "execute_result"
    }
   ],
   "source": [
    "tax_data_valid_zip = tax_data[tax_data['ZIPCODE'] != 0.0]\n",
    "tax_data_valid_zip.shape"
   ],
   "metadata": {
    "collapsed": false,
    "pycharm": {
     "name": "#%%\n"
    }
   }
  },
  {
   "cell_type": "markdown",
   "metadata": {},
   "source": [
    "* Run the line below to confirm that the operation worked as expected\n",
    "\n",
    "  * The assertion below is testing that the number of lines with \"zip code equal to  0\" + number of lines in `tax_data_valid_zip` is equal to the number of lines in the original `DataFrame` `tax_data`\n",
    "  \n",
    "  * The assertion below will fail (and print an error message) if the results do not match. If that is the case, please review your code above."
   ]
  },
  {
   "cell_type": "code",
   "execution_count": 13,
   "metadata": {
    "collapsed": true
   },
   "outputs": [],
   "source": [
    "assert((tax_data_valid_zip.shape[0] + nb_invalid_zip) == tax_data.shape[0])"
   ]
  },
  {
   "cell_type": "markdown",
   "metadata": {},
   "source": [
    "### Identifying and Removing Lines with Missing Values\n",
    "\n",
    "* How many lines contain at least one missing value `NaN` in the `tax_data_valid_zip` `DataFrame`?\n",
    "  * Your answer can only use `DataFrame` methods and properties\n",
    "* Assing the count of `NaN` into a variable called nb_missing_values"
   ]
  },
  {
   "cell_type": "code",
   "execution_count": 14,
   "outputs": [
    {
     "data": {
      "text/plain": "139"
     },
     "execution_count": 14,
     "metadata": {},
     "output_type": "execute_result"
    }
   ],
   "source": [
    "## WRITE YOUR CODE HERE\n",
    "nb_missing_values = tax_data_valid_zip.isnull().any(axis=1).sum()\n",
    "#tax_data_valid_zip.info()\n",
    "nb_missing_values"
   ],
   "metadata": {
    "collapsed": false,
    "pycharm": {
     "name": "#%%\n"
    }
   }
  },
  {
   "cell_type": "markdown",
   "metadata": {},
   "source": [
    "* Create a new `DataFrame` containing all the lines from `tax_data_valid_zip`, except lines containing missing values\n",
    "\n",
    "* Call the new `DataFrame` `tax_data_valid_zip_cleaned"
   ]
  },
  {
   "cell_type": "code",
   "execution_count": 15,
   "metadata": {
    "collapsed": true
   },
   "outputs": [
    {
     "data": {
      "text/plain": "(166253, 91)"
     },
     "execution_count": 15,
     "metadata": {},
     "output_type": "execute_result"
    }
   ],
   "source": [
    "## WRITE YOUR CODE HERE \n",
    "tax_data_valid_zip_cleaned = tax_data_valid_zip.dropna(axis=0)\n",
    "tax_data_valid_zip_cleaned.shape"
   ]
  },
  {
   "cell_type": "markdown",
   "metadata": {},
   "source": [
    "* Run the line below to confirm that the operation worked as expected. The assertion below is testing that:  \n",
    "`nb_missing_values` + number of lines in `tax_data_valid_zip_cleaned` is equal to the number of lines in `tax_data_valid_zip`\n",
    "  \n",
    "* Note that assert will only print an error if the results do not match"
   ]
  },
  {
   "cell_type": "code",
   "execution_count": 16,
   "metadata": {
    "collapsed": true
   },
   "outputs": [],
   "source": [
    "assert((tax_data_valid_zip_cleaned.shape[0] + nb_missing_values) == tax_data_valid_zip.shape[0])"
   ]
  },
  {
   "cell_type": "markdown",
   "metadata": {},
   "source": [
    "### Computing the Percentile Income per Zip Code\n",
    "\n",
    "* The function `compute_percentile_zipcode` below computes the percentile income per zip code\n",
    "\n",
    "* By default percentile=0.5,  i.e., the function computes the median\n",
    "\n",
    "* Read the code and make sure you understand what it does before moving on to the next question\n"
   ]
  },
  {
   "cell_type": "code",
   "execution_count": 17,
   "metadata": {
    "collapsed": true
   },
   "outputs": [],
   "source": [
    "#def compute_percentile_zip(df_zip, percentile=0.5):\n",
    "    #index_median = sum(( df_zip[\"N1\"]/ sum(df_zip[\"N1\"])).cumsum() <= percentile)\n",
    "    #val_below_or_at_median = (df_zip[\"A00100\"] /df_zip[\"N1\"]).iloc[index_median]\n",
    "    #return val_below_or_at_median"
   ]
  },
  {
   "cell_type": "code",
   "execution_count": 18,
   "outputs": [],
   "source": [
    "tax_data_valid_zip_cleaned = tax_data_valid_zip_cleaned.reset_index(drop=True)"
   ],
   "metadata": {
    "collapsed": false,
    "pycharm": {
     "name": "#%%\n"
    }
   }
  },
  {
   "cell_type": "code",
   "execution_count": 19,
   "outputs": [],
   "source": [
    "def compute_percentile_zip(df_zip, percentile=0.65):\n",
    "    index_median = sum(( df_zip[\"N1\"]/ sum(df_zip[\"N1\"])).cumsum() <= percentile)\n",
    "    val_below_or_at_median = (df_zip[\"A00100\"] /df_zip[\"N1\"]).iloc[index_median]\n",
    "    return val_below_or_at_median"
   ],
   "metadata": {
    "collapsed": false,
    "pycharm": {
     "name": "#%%\n"
    }
   }
  },
  {
   "cell_type": "markdown",
   "metadata": {},
   "source": []
  },
  {
   "cell_type": "code",
   "execution_count": 20,
   "metadata": {
    "collapsed": true
   },
   "outputs": [],
   "source": [
    "## WRITE YOUR CODE HERE\n",
    "grouper = tax_data_valid_zip_cleaned.groupby('ZIPCODE').apply(compute_percentile_zip)"
   ]
  },
  {
   "cell_type": "code",
   "execution_count": 21,
   "outputs": [
    {
     "data": {
      "text/plain": "ZIPCODE\n33109.0    3954.114286\n33480.0    3413.301538\n94301.0    3109.443711\n94027.0    3091.537013\n10577.0    2414.855556\ndtype: float64"
     },
     "execution_count": 21,
     "metadata": {},
     "output_type": "execute_result"
    }
   ],
   "source": [
    "zip_rev_all = grouper.sort_values(ascending=False)\n",
    "zip_rev_all.head()"
   ],
   "metadata": {
    "collapsed": false,
    "pycharm": {
     "name": "#%%\n"
    }
   }
  },
  {
   "cell_type": "markdown",
   "metadata": {},
   "source": [
    "- What are the three zip codes with the most significant 65th percentile value for income?"
   ]
  },
  {
   "cell_type": "code",
   "execution_count": 22,
   "metadata": {
    "collapsed": true
   },
   "outputs": [
    {
     "data": {
      "text/plain": "ZIPCODE\n33109.0    3954.114286\n33480.0    3413.301538\n94301.0    3109.443711\ndtype: float64"
     },
     "execution_count": 22,
     "metadata": {},
     "output_type": "execute_result"
    }
   ],
   "source": [
    "## WRITE YOUR CODE HERE\n",
    "zip_rev_all.head(3)"
   ]
  },
  {
   "cell_type": "markdown",
   "metadata": {},
   "source": [
    "# 2 Working with the Medicaid Data"
   ]
  },
  {
   "cell_type": "markdown",
   "metadata": {},
   "source": [
    "### Loading and exploring the data \n",
    "\n",
    "* Load the Medicaid data stored in the file `medicaid_data.csv` into a `DataFrame` called `medicaid_data`. The file is located in the `data` directory of the assignment folder. \n",
    "* Note that this is quite large and may take some time to load on a computer with modest RAM resources (4GB or less)\n"
   ]
  },
  {
   "cell_type": "code",
   "execution_count": 23,
   "metadata": {
    "collapsed": true
   },
   "outputs": [
    {
     "data": {
      "text/plain": "  Utilization Type State          NDC Product Name  Units Reimbursed  \\\n0             MCOU    PA  55150023930   Dexamethas              33.0   \n1             FFSU    NY     23917710   ALPHAGAN P             570.0   \n2             MCOU    OR  13925050501   Dapsone 10             456.0   \n3             FFSU    MN  51862006401     DIAZEPAM             780.0   \n4             FFSU    MN    781237101   DEXTROAMPH             451.0   \n\n   Number of Prescriptions  Total Amount Reimbursed  \\\n0                     19.0                   234.98   \n1                     57.0                 16006.34   \n2                     15.0                  1052.42   \n3                     16.0                    89.60   \n4                     12.0                  1411.24   \n\n   Medicaid Amount Reimbursed  Non Medicaid Amount Reimbursed  \\\n0                      234.98                            0.00   \n1                    16006.34                            0.00   \n2                     1052.42                            0.00   \n3                       77.60                           12.00   \n4                      198.93                         1212.31   \n\n               Location  \n0    (40.5773, -77.264)  \n1   (42.1497, -74.9384)  \n2  (44.5672, -122.1269)  \n3   (45.7326, -93.9196)  \n4   (45.7326, -93.9196)  ",
      "text/html": "<div>\n<style scoped>\n    .dataframe tbody tr th:only-of-type {\n        vertical-align: middle;\n    }\n\n    .dataframe tbody tr th {\n        vertical-align: top;\n    }\n\n    .dataframe thead th {\n        text-align: right;\n    }\n</style>\n<table border=\"1\" class=\"dataframe\">\n  <thead>\n    <tr style=\"text-align: right;\">\n      <th></th>\n      <th>Utilization Type</th>\n      <th>State</th>\n      <th>NDC</th>\n      <th>Product Name</th>\n      <th>Units Reimbursed</th>\n      <th>Number of Prescriptions</th>\n      <th>Total Amount Reimbursed</th>\n      <th>Medicaid Amount Reimbursed</th>\n      <th>Non Medicaid Amount Reimbursed</th>\n      <th>Location</th>\n    </tr>\n  </thead>\n  <tbody>\n    <tr>\n      <th>0</th>\n      <td>MCOU</td>\n      <td>PA</td>\n      <td>55150023930</td>\n      <td>Dexamethas</td>\n      <td>33.0</td>\n      <td>19.0</td>\n      <td>234.98</td>\n      <td>234.98</td>\n      <td>0.00</td>\n      <td>(40.5773, -77.264)</td>\n    </tr>\n    <tr>\n      <th>1</th>\n      <td>FFSU</td>\n      <td>NY</td>\n      <td>23917710</td>\n      <td>ALPHAGAN P</td>\n      <td>570.0</td>\n      <td>57.0</td>\n      <td>16006.34</td>\n      <td>16006.34</td>\n      <td>0.00</td>\n      <td>(42.1497, -74.9384)</td>\n    </tr>\n    <tr>\n      <th>2</th>\n      <td>MCOU</td>\n      <td>OR</td>\n      <td>13925050501</td>\n      <td>Dapsone 10</td>\n      <td>456.0</td>\n      <td>15.0</td>\n      <td>1052.42</td>\n      <td>1052.42</td>\n      <td>0.00</td>\n      <td>(44.5672, -122.1269)</td>\n    </tr>\n    <tr>\n      <th>3</th>\n      <td>FFSU</td>\n      <td>MN</td>\n      <td>51862006401</td>\n      <td>DIAZEPAM</td>\n      <td>780.0</td>\n      <td>16.0</td>\n      <td>89.60</td>\n      <td>77.60</td>\n      <td>12.00</td>\n      <td>(45.7326, -93.9196)</td>\n    </tr>\n    <tr>\n      <th>4</th>\n      <td>FFSU</td>\n      <td>MN</td>\n      <td>781237101</td>\n      <td>DEXTROAMPH</td>\n      <td>451.0</td>\n      <td>12.0</td>\n      <td>1411.24</td>\n      <td>198.93</td>\n      <td>1212.31</td>\n      <td>(45.7326, -93.9196)</td>\n    </tr>\n  </tbody>\n</table>\n</div>"
     },
     "execution_count": 23,
     "metadata": {},
     "output_type": "execute_result"
    }
   ],
   "source": [
    "## WRITE YOUR CODE HERE\n",
    "medicaid_data = pd.read_csv('data/medicaid_data.csv')\n",
    "medicaid_data.head()"
   ]
  },
  {
   "cell_type": "markdown",
   "metadata": {},
   "source": [
    "\n",
    "- Modify `medicaid_data` to uppercase all the column names \n",
    "\n",
    "  - If your solution uses an assignment, the righthand side of the assignment (rvalue) can only use `DataFrame` or `Series` methods or properties\n"
   ]
  },
  {
   "cell_type": "code",
   "execution_count": 24,
   "metadata": {
    "collapsed": true
   },
   "outputs": [
    {
     "data": {
      "text/plain": "  UTILIZATION TYPE STATE          NDC PRODUCT NAME  UNITS REIMBURSED  \\\n0             MCOU    PA  55150023930   Dexamethas              33.0   \n1             FFSU    NY     23917710   ALPHAGAN P             570.0   \n2             MCOU    OR  13925050501   Dapsone 10             456.0   \n3             FFSU    MN  51862006401     DIAZEPAM             780.0   \n4             FFSU    MN    781237101   DEXTROAMPH             451.0   \n\n   NUMBER OF PRESCRIPTIONS  TOTAL AMOUNT REIMBURSED  \\\n0                     19.0                   234.98   \n1                     57.0                 16006.34   \n2                     15.0                  1052.42   \n3                     16.0                    89.60   \n4                     12.0                  1411.24   \n\n   MEDICAID AMOUNT REIMBURSED  NON MEDICAID AMOUNT REIMBURSED  \\\n0                      234.98                            0.00   \n1                    16006.34                            0.00   \n2                     1052.42                            0.00   \n3                       77.60                           12.00   \n4                      198.93                         1212.31   \n\n               LOCATION  \n0    (40.5773, -77.264)  \n1   (42.1497, -74.9384)  \n2  (44.5672, -122.1269)  \n3   (45.7326, -93.9196)  \n4   (45.7326, -93.9196)  ",
      "text/html": "<div>\n<style scoped>\n    .dataframe tbody tr th:only-of-type {\n        vertical-align: middle;\n    }\n\n    .dataframe tbody tr th {\n        vertical-align: top;\n    }\n\n    .dataframe thead th {\n        text-align: right;\n    }\n</style>\n<table border=\"1\" class=\"dataframe\">\n  <thead>\n    <tr style=\"text-align: right;\">\n      <th></th>\n      <th>UTILIZATION TYPE</th>\n      <th>STATE</th>\n      <th>NDC</th>\n      <th>PRODUCT NAME</th>\n      <th>UNITS REIMBURSED</th>\n      <th>NUMBER OF PRESCRIPTIONS</th>\n      <th>TOTAL AMOUNT REIMBURSED</th>\n      <th>MEDICAID AMOUNT REIMBURSED</th>\n      <th>NON MEDICAID AMOUNT REIMBURSED</th>\n      <th>LOCATION</th>\n    </tr>\n  </thead>\n  <tbody>\n    <tr>\n      <th>0</th>\n      <td>MCOU</td>\n      <td>PA</td>\n      <td>55150023930</td>\n      <td>Dexamethas</td>\n      <td>33.0</td>\n      <td>19.0</td>\n      <td>234.98</td>\n      <td>234.98</td>\n      <td>0.00</td>\n      <td>(40.5773, -77.264)</td>\n    </tr>\n    <tr>\n      <th>1</th>\n      <td>FFSU</td>\n      <td>NY</td>\n      <td>23917710</td>\n      <td>ALPHAGAN P</td>\n      <td>570.0</td>\n      <td>57.0</td>\n      <td>16006.34</td>\n      <td>16006.34</td>\n      <td>0.00</td>\n      <td>(42.1497, -74.9384)</td>\n    </tr>\n    <tr>\n      <th>2</th>\n      <td>MCOU</td>\n      <td>OR</td>\n      <td>13925050501</td>\n      <td>Dapsone 10</td>\n      <td>456.0</td>\n      <td>15.0</td>\n      <td>1052.42</td>\n      <td>1052.42</td>\n      <td>0.00</td>\n      <td>(44.5672, -122.1269)</td>\n    </tr>\n    <tr>\n      <th>3</th>\n      <td>FFSU</td>\n      <td>MN</td>\n      <td>51862006401</td>\n      <td>DIAZEPAM</td>\n      <td>780.0</td>\n      <td>16.0</td>\n      <td>89.60</td>\n      <td>77.60</td>\n      <td>12.00</td>\n      <td>(45.7326, -93.9196)</td>\n    </tr>\n    <tr>\n      <th>4</th>\n      <td>FFSU</td>\n      <td>MN</td>\n      <td>781237101</td>\n      <td>DEXTROAMPH</td>\n      <td>451.0</td>\n      <td>12.0</td>\n      <td>1411.24</td>\n      <td>198.93</td>\n      <td>1212.31</td>\n      <td>(45.7326, -93.9196)</td>\n    </tr>\n  </tbody>\n</table>\n</div>"
     },
     "execution_count": 24,
     "metadata": {},
     "output_type": "execute_result"
    }
   ],
   "source": [
    "## WRITE YOUR CODE HERE\n",
    "medicaid_data.columns = medicaid_data.columns.str.upper()\n",
    "medicaid_data.head()"
   ]
  },
  {
   "cell_type": "markdown",
   "metadata": {},
   "source": [
    "\n",
    "- Familiarize your self with the data\n",
    "  - the `NDC` column stands for National Drug Code, a universal product identifier for human drugs in the United States\n",
    "  \n",
    "  - The remaining column names are self-explanatory\n",
    "  \n",
    "- Explore the number of lines and columns in the data\n",
    "\n",
    "- Check that your column headers are in uppercase"
   ]
  },
  {
   "cell_type": "code",
   "execution_count": 25,
   "metadata": {
    "collapsed": true
   },
   "outputs": [
    {
     "name": "stdout",
     "output_type": "stream",
     "text": [
      "Index(['UTILIZATION TYPE', 'STATE', 'NDC', 'PRODUCT NAME', 'UNITS REIMBURSED',\n",
      "       'NUMBER OF PRESCRIPTIONS', 'TOTAL AMOUNT REIMBURSED',\n",
      "       'MEDICAID AMOUNT REIMBURSED', 'NON MEDICAID AMOUNT REIMBURSED',\n",
      "       'LOCATION'],\n",
      "      dtype='object')\n",
      "(1695546, 10)\n",
      "16955460\n"
     ]
    }
   ],
   "source": [
    "## WRITE YOUR CODE HERE\n",
    "print(medicaid_data.columns)\n",
    "print(medicaid_data.shape)\n",
    "print(medicaid_data.size)"
   ]
  },
  {
   "cell_type": "markdown",
   "metadata": {},
   "source": [
    "* If you explore the  `Location` column for all the entries for which \"STATE\" value is equal to \"HI\" you'll notice that all the values are identical\n",
    "\n",
    "* Are there any states that have more than one value for `Location`. \n",
    "  * Hint: think about using a sorted aggregation as part of a split-apply-combine operation to answer this question\n",
    "  - Your answer can only use `DataFrame` or `Series` methods or properties\n"
   ]
  },
  {
   "cell_type": "code",
   "execution_count": 26,
   "outputs": [
    {
     "data": {
      "text/plain": "        UTILIZATION TYPE STATE          NDC PRODUCT NAME  UNITS REIMBURSED  \\\n154                 MCOU    HI  16714034804   DASETTA 1-             448.0   \n294                 MCOU    HI  49348002972    SM TRIPLE             821.6   \n318                 MCOU    HI    378043301    BUPROPION            5461.0   \n397                 MCOU    HI  49348004537   SM ALLERGY            5016.0   \n557                 MCOU    HI     54007928   BALSALAZID            3630.0   \n...                  ...   ...          ...          ...               ...   \n1694941             MCOU    HI  45802006436   TRIAMCINOL           11520.0   \n1695124             MCOU    HI    299590825   EPIDUO 0.1            1890.0   \n1695291             MCOU    HI  69097084507   CYCLOBENZA            4811.0   \n1695327             MCOU    HI  52544024928   MICROGESTI            9576.0   \n1695509             MCOU    HI     93227534    AMOX-CLAV            3493.0   \n\n         NUMBER OF PRESCRIPTIONS  TOTAL AMOUNT REIMBURSED  \\\n154                         16.0                   267.07   \n294                         27.0                   143.34   \n318                         97.0                  2206.56   \n397                         35.0                   105.57   \n557                         14.0                  3204.75   \n...                          ...                      ...   \n1694941                    138.0                  1331.15   \n1695124                     37.0                  6509.69   \n1695291                    129.0                   714.83   \n1695327                    131.0                  5166.67   \n1695509                    185.0                  2287.13   \n\n         MEDICAID AMOUNT REIMBURSED  NON MEDICAID AMOUNT REIMBURSED  \\\n154                          267.07                            0.00   \n294                          143.34                            0.00   \n318                         2206.56                            0.00   \n397                          105.57                            0.00   \n557                         3204.75                            0.00   \n...                             ...                             ...   \n1694941                     1331.15                            0.00   \n1695124                     6509.69                            0.00   \n1695291                      707.49                            7.34   \n1695327                     5166.67                            0.00   \n1695509                     2282.69                            4.44   \n\n                     LOCATION  \n154      (21.1098, -157.5311)  \n294      (21.1098, -157.5311)  \n318      (21.1098, -157.5311)  \n397      (21.1098, -157.5311)  \n557      (21.1098, -157.5311)  \n...                       ...  \n1694941  (21.1098, -157.5311)  \n1695124  (21.1098, -157.5311)  \n1695291  (21.1098, -157.5311)  \n1695327  (21.1098, -157.5311)  \n1695509  (21.1098, -157.5311)  \n\n[13438 rows x 10 columns]",
      "text/html": "<div>\n<style scoped>\n    .dataframe tbody tr th:only-of-type {\n        vertical-align: middle;\n    }\n\n    .dataframe tbody tr th {\n        vertical-align: top;\n    }\n\n    .dataframe thead th {\n        text-align: right;\n    }\n</style>\n<table border=\"1\" class=\"dataframe\">\n  <thead>\n    <tr style=\"text-align: right;\">\n      <th></th>\n      <th>UTILIZATION TYPE</th>\n      <th>STATE</th>\n      <th>NDC</th>\n      <th>PRODUCT NAME</th>\n      <th>UNITS REIMBURSED</th>\n      <th>NUMBER OF PRESCRIPTIONS</th>\n      <th>TOTAL AMOUNT REIMBURSED</th>\n      <th>MEDICAID AMOUNT REIMBURSED</th>\n      <th>NON MEDICAID AMOUNT REIMBURSED</th>\n      <th>LOCATION</th>\n    </tr>\n  </thead>\n  <tbody>\n    <tr>\n      <th>154</th>\n      <td>MCOU</td>\n      <td>HI</td>\n      <td>16714034804</td>\n      <td>DASETTA 1-</td>\n      <td>448.0</td>\n      <td>16.0</td>\n      <td>267.07</td>\n      <td>267.07</td>\n      <td>0.00</td>\n      <td>(21.1098, -157.5311)</td>\n    </tr>\n    <tr>\n      <th>294</th>\n      <td>MCOU</td>\n      <td>HI</td>\n      <td>49348002972</td>\n      <td>SM TRIPLE</td>\n      <td>821.6</td>\n      <td>27.0</td>\n      <td>143.34</td>\n      <td>143.34</td>\n      <td>0.00</td>\n      <td>(21.1098, -157.5311)</td>\n    </tr>\n    <tr>\n      <th>318</th>\n      <td>MCOU</td>\n      <td>HI</td>\n      <td>378043301</td>\n      <td>BUPROPION</td>\n      <td>5461.0</td>\n      <td>97.0</td>\n      <td>2206.56</td>\n      <td>2206.56</td>\n      <td>0.00</td>\n      <td>(21.1098, -157.5311)</td>\n    </tr>\n    <tr>\n      <th>397</th>\n      <td>MCOU</td>\n      <td>HI</td>\n      <td>49348004537</td>\n      <td>SM ALLERGY</td>\n      <td>5016.0</td>\n      <td>35.0</td>\n      <td>105.57</td>\n      <td>105.57</td>\n      <td>0.00</td>\n      <td>(21.1098, -157.5311)</td>\n    </tr>\n    <tr>\n      <th>557</th>\n      <td>MCOU</td>\n      <td>HI</td>\n      <td>54007928</td>\n      <td>BALSALAZID</td>\n      <td>3630.0</td>\n      <td>14.0</td>\n      <td>3204.75</td>\n      <td>3204.75</td>\n      <td>0.00</td>\n      <td>(21.1098, -157.5311)</td>\n    </tr>\n    <tr>\n      <th>...</th>\n      <td>...</td>\n      <td>...</td>\n      <td>...</td>\n      <td>...</td>\n      <td>...</td>\n      <td>...</td>\n      <td>...</td>\n      <td>...</td>\n      <td>...</td>\n      <td>...</td>\n    </tr>\n    <tr>\n      <th>1694941</th>\n      <td>MCOU</td>\n      <td>HI</td>\n      <td>45802006436</td>\n      <td>TRIAMCINOL</td>\n      <td>11520.0</td>\n      <td>138.0</td>\n      <td>1331.15</td>\n      <td>1331.15</td>\n      <td>0.00</td>\n      <td>(21.1098, -157.5311)</td>\n    </tr>\n    <tr>\n      <th>1695124</th>\n      <td>MCOU</td>\n      <td>HI</td>\n      <td>299590825</td>\n      <td>EPIDUO 0.1</td>\n      <td>1890.0</td>\n      <td>37.0</td>\n      <td>6509.69</td>\n      <td>6509.69</td>\n      <td>0.00</td>\n      <td>(21.1098, -157.5311)</td>\n    </tr>\n    <tr>\n      <th>1695291</th>\n      <td>MCOU</td>\n      <td>HI</td>\n      <td>69097084507</td>\n      <td>CYCLOBENZA</td>\n      <td>4811.0</td>\n      <td>129.0</td>\n      <td>714.83</td>\n      <td>707.49</td>\n      <td>7.34</td>\n      <td>(21.1098, -157.5311)</td>\n    </tr>\n    <tr>\n      <th>1695327</th>\n      <td>MCOU</td>\n      <td>HI</td>\n      <td>52544024928</td>\n      <td>MICROGESTI</td>\n      <td>9576.0</td>\n      <td>131.0</td>\n      <td>5166.67</td>\n      <td>5166.67</td>\n      <td>0.00</td>\n      <td>(21.1098, -157.5311)</td>\n    </tr>\n    <tr>\n      <th>1695509</th>\n      <td>MCOU</td>\n      <td>HI</td>\n      <td>93227534</td>\n      <td>AMOX-CLAV</td>\n      <td>3493.0</td>\n      <td>185.0</td>\n      <td>2287.13</td>\n      <td>2282.69</td>\n      <td>4.44</td>\n      <td>(21.1098, -157.5311)</td>\n    </tr>\n  </tbody>\n</table>\n<p>13438 rows × 10 columns</p>\n</div>"
     },
     "execution_count": 26,
     "metadata": {},
     "output_type": "execute_result"
    }
   ],
   "source": [
    "hawaii = medicaid_data.groupby('STATE').get_group('HI')\n",
    "hawaii"
   ],
   "metadata": {
    "collapsed": false,
    "pycharm": {
     "name": "#%%\n"
    }
   }
  },
  {
   "cell_type": "code",
   "execution_count": 27,
   "outputs": [],
   "source": [
    "def loc_comp(df):\n",
    "    df['match'] = df.LOCATION.eq(df.LOCATION.shift())\n",
    "    return df"
   ],
   "metadata": {
    "collapsed": false,
    "pycharm": {
     "name": "#%%\n"
    }
   }
  },
  {
   "cell_type": "code",
   "execution_count": 28,
   "outputs": [],
   "source": [
    "groups = medicaid_data.groupby('STATE').apply(loc_comp)"
   ],
   "metadata": {
    "collapsed": false,
    "pycharm": {
     "name": "#%%\n"
    }
   }
  },
  {
   "cell_type": "code",
   "execution_count": 29,
   "outputs": [
    {
     "data": {
      "text/plain": "STATE\nXX    153253\nAL         1\nND         1\nNE         1\nNH         1\nNJ         1\nNM         1\nNV         1\nNY         1\nOH         1\nOK         1\nOR         1\nPA         1\nRI         1\nSC         1\nSD         1\nTN         1\nTX         1\nUT         1\nVA         1\nVT         1\nWA         1\nWI         1\nWV         1\nWY         1\nNC         1\nAK         1\nMS         1\nIA         1\nAR         1\nAZ         1\nCA         1\nCO         1\nCT         1\nDC         1\nDE         1\nFL         1\nGA         1\nHI         1\nID         1\nMO         1\nIL         1\nIN         1\nKS         1\nKY         1\nLA         1\nMA         1\nMD         1\nME         1\nMI         1\nMN         1\nMT         1\ndtype: int64"
     },
     "execution_count": 29,
     "metadata": {},
     "output_type": "execute_result"
    }
   ],
   "source": [
    "new_df = groups[groups['match'] == False]\n",
    "counts = new_df.value_counts(new_df['STATE'])\n",
    "counts"
   ],
   "metadata": {
    "collapsed": false,
    "pycharm": {
     "name": "#%%\n"
    }
   }
  },
  {
   "cell_type": "markdown",
   "metadata": {},
   "source": [
    "\n",
    "\n",
    "* To compare medication prescriptions across states in a fair and balanced way, we need the number of Medicaid beneficiaries in each state. The following example illustrates the importance of normalizing the values `UNITS REIMBURSED` for each medication in each state by the number of Medicaid enrollees in each state.\n",
    "  \n",
    "* The `medicaid_data` DataFrame shows that for the drug with NDC `61958180101` (the drug name is HARVONI and it's used to treat Hepatitis C) there were 11,886  units sold in KY, versus 40,142 in CA -- that's almost 4 times more units sold in CA compared to KY. However, there are 1,284,193 Medicaid enrollees in KY, versus 13,096,861 in California. If we normalize the number of units sold in KY, versus CA, we find that the normalized there were close to 3 times more HARVONI prescription in KY  than in CA. This is ___perhaps___ justified by the fact the KY has one of the highest rates of reported cases of Hepatitis C in the US (2.7% in KY versus 0.2% in CA).\n",
    "  \n",
    "https://www.cdc.gov/hepatitis/statistics/2015surveillance/pdfs/2015hepsurveillancerpt.pdf"
   ]
  },
  {
   "cell_type": "markdown",
   "metadata": {},
   "source": [
    "* The number of enrollees per state was obtained here:\n",
    "\n",
    "    https://www.medicaid.gov/medicaid/managed-care/enrollment/index.html\n",
    "    \n",
    "    \n",
    "* A parsed/processed version (medicaid_enrollment.tsv) can be in data director of the assignment folder. Use `pandas` to load the medicaid_enrollmen file into DataFrame named `medicaid_enrollment`"
   ]
  },
  {
   "cell_type": "code",
   "execution_count": 30,
   "metadata": {
    "collapsed": true
   },
   "outputs": [],
   "source": [
    "## WRITE YOUR CODE HERE\n",
    "medicaid_enrollment = pd.read_csv('data/medicaid_enrollment.tsv', sep='\\t')"
   ]
  },
  {
   "cell_type": "markdown",
   "metadata": {},
   "source": [
    "* Modify `medicaid_enrollment` to uppercase all the column names \n",
    "\n",
    "  * Your answer can only use `DataFrame` or `Series` methods or properties\n",
    "  * Do not hardcode the operation by uppercasing the columns yourself\n"
   ]
  },
  {
   "cell_type": "code",
   "execution_count": 31,
   "metadata": {
    "collapsed": true
   },
   "outputs": [
    {
     "data": {
      "text/plain": "Index(['STATE', 'TOTAL MEDICAID ENROLLEES'], dtype='object')"
     },
     "execution_count": 31,
     "metadata": {},
     "output_type": "execute_result"
    }
   ],
   "source": [
    "## WRITE YOUR CODE HERE\n",
    "medicaid_enrollment.columns = medicaid_enrollment.columns.str.upper()\n",
    "medicaid_enrollment.columns"
   ]
  },
  {
   "cell_type": "markdown",
   "metadata": {},
   "source": [
    "* Note that some states/territories have missing values. Remove the missing values and save the resulting `DataFrame` as a new variable named `medicaid_enrollment_cleaned`\n",
    "\n",
    "* Pay attention to how 'n/a' is given here!\n",
    "* After cleaning, do you still have the Guam entry? If so, reconsider what missing values means in this context"
   ]
  },
  {
   "cell_type": "code",
   "execution_count": 32,
   "metadata": {
    "collapsed": true
   },
   "outputs": [],
   "source": [
    "## WRITE YOUR CODE HERE\n",
    "medicaid_enrollment_cleaned = medicaid_enrollment.dropna()\n",
    "medicaid_enrollment_cleaned = medicaid_enrollment_cleaned[medicaid_enrollment_cleaned['TOTAL MEDICAID ENROLLEES'].str.contains('n/a') == False]"
   ]
  },
  {
   "cell_type": "markdown",
   "metadata": {},
   "source": [
    "### Converting `TOTAL MEDICAID ENROLLEE` Data Type\n",
    "\n",
    "* Given that data on `TOTAL MEDICAID ENROLLEE` column contains commas on file (ex. 3,269,999 instead of 3269999), `pandas` has erroneously set the data type for that column as a string. We need to convert the column from string to `int` since we will be using it in an arithmetic expression during normalization\n",
    "\n",
    " \n",
    "\n",
    "* Inspect the `dtype` property of \"TOTAL MEDICAID ENROLLEES\" column, and  make sure that the data type is `int`\n"
   ]
  },
  {
   "cell_type": "code",
   "execution_count": 33,
   "metadata": {
    "collapsed": true
   },
   "outputs": [],
   "source": [
    "## WRITE YOUR CODE HERE\n",
    "medicaid_enrollment_cleaned['TOTAL MEDICAID ENROLLEES'] = medicaid_enrollment_cleaned['TOTAL MEDICAID ENROLLEES'].str.replace(',', '').astype(float)"
   ]
  },
  {
   "cell_type": "markdown",
   "metadata": {},
   "source": [
    "### Associating `medicaid_data` and `medicaid_enrollment_cleaned`\n",
    "\n",
    "- We can use the shared State information across both tables to associate both tables (SQL JOIN).\n",
    "- However,  `medicaid_data` contains two-letter state abbreviations, while `medicaid_enrollment_cleaned` contains the complete state name\n",
    "  - We need to convert (or append) two-letter state abbreviations to `medicaid_enrollment_cleaned`\n",
    "\n",
    "- Pandas can read HTML and parse the code for tables. We will use that functionality to read in the state abbreviations from a Wikipedia page.\n",
    "  - A brief description of what the code does is included in the comments"
   ]
  },
  {
   "cell_type": "code",
   "execution_count": 34,
   "metadata": {},
   "outputs": [
    {
     "data": {
      "text/plain": "     US STATE POSTAL ABBREVIATION STANDARD ABBREVIATION\n0     Alabama                  AL                  Ala.\n1      Alaska                  AK                Alaska\n2     Arizona                  AZ                 Ariz.\n3    Arkansas                  AR                  Ark.\n4  California                  CA                Calif.",
      "text/html": "<div>\n<style scoped>\n    .dataframe tbody tr th:only-of-type {\n        vertical-align: middle;\n    }\n\n    .dataframe tbody tr th {\n        vertical-align: top;\n    }\n\n    .dataframe thead th {\n        text-align: right;\n    }\n</style>\n<table border=\"1\" class=\"dataframe\">\n  <thead>\n    <tr style=\"text-align: right;\">\n      <th></th>\n      <th>US STATE</th>\n      <th>POSTAL ABBREVIATION</th>\n      <th>STANDARD ABBREVIATION</th>\n    </tr>\n  </thead>\n  <tbody>\n    <tr>\n      <th>0</th>\n      <td>Alabama</td>\n      <td>AL</td>\n      <td>Ala.</td>\n    </tr>\n    <tr>\n      <th>1</th>\n      <td>Alaska</td>\n      <td>AK</td>\n      <td>Alaska</td>\n    </tr>\n    <tr>\n      <th>2</th>\n      <td>Arizona</td>\n      <td>AZ</td>\n      <td>Ariz.</td>\n    </tr>\n    <tr>\n      <th>3</th>\n      <td>Arkansas</td>\n      <td>AR</td>\n      <td>Ark.</td>\n    </tr>\n    <tr>\n      <th>4</th>\n      <td>California</td>\n      <td>CA</td>\n      <td>Calif.</td>\n    </tr>\n  </tbody>\n</table>\n</div>"
     },
     "execution_count": 34,
     "metadata": {},
     "output_type": "execute_result"
    }
   ],
   "source": [
    "import requests\n",
    "\n",
    "url = 'https://www.50states.com/abbreviations.htm'\n",
    "header = {\n",
    "    \"User-Agent\": \"Mozilla/5.0 (X11; Linux x86_64) AppleWebKit/537.36 (KHTML, like Gecko) Chrome/50.0.2661.75 Safari/537.36\",\n",
    "    \"X-Requested-With\": \"XMLHttpRequest\"\n",
    "}\n",
    "\n",
    "r = requests.get(url, headers=header)\n",
    "\n",
    "tables = pd.read_html(r.text)\n",
    "\n",
    "\n",
    "# We access the desired table by giving it's index.\n",
    "# Since the URL contain only one table, then we can access that table using index 0\n",
    "Codes_abbreviations = tables[0]\n",
    "Codes_abbreviations.head(5)"
   ]
  },
  {
   "cell_type": "markdown",
   "metadata": {},
   "source": [
    "* Change the the `DataFrame`'s headers from ['US State:', 'Abbreviation:'] to ['US STATE', 'ABBREVIATION']\n",
    "\n",
    "  * You can hard code this operation\n"
   ]
  },
  {
   "cell_type": "code",
   "execution_count": 35,
   "metadata": {
    "collapsed": true
   },
   "outputs": [],
   "source": [
    "## WRITE YOUR CODE HERE \n",
    "Codes_abbreviations = Codes_abbreviations.rename(columns={'POSTAL ABBREVIATION': 'ABBREVIATION'})"
   ]
  },
  {
   "cell_type": "markdown",
   "metadata": {},
   "source": [
    "* Combine the tables `medicaid_enrollment_cleaned` and `Codes_abbreviations` such that the resulting `DataFrame` contains all the columns in `medicaid_enrollment_cleaned` and only `ABBREVIATION` from `Codes_abbreviations` \n",
    "* Save the results to variable named `medicaid_enrollment_cleaned_with_zip`\n",
    "\n",
    "- `medicaid_enrollment_cleaned_with_zip` should look like the following ( '...' represents remaining data that is not shown):\n",
    "\n",
    "\n",
    "```\n",
    "   STATE    Total Medicaid Enrollees    ABBREVIATION\n",
    "0    Alabama    1,050,989    AL\n",
    "1    Alaska    164,783    AK\n",
    "2    Arizona    1,740,520    AZ\n",
    "3    Arkansas    762,166    AR\n",
    "4    California    13,096,861    CA\n",
    "...\n",
    "```\n",
    "\n",
    "* We did not cover joins in class -- you find a plethora of examples on how to do this online. See for instance:\n",
    "\n",
    "`https://pandas.pydata.org/pandas-docs/stable/generated/pandas.DataFrame.merge.html`\n",
    "\n",
    "* If you cannot get it to work, contact the `TA` for the solution. You will not be penalized if you don't answer this question. "
   ]
  },
  {
   "cell_type": "code",
   "execution_count": 36,
   "metadata": {
    "collapsed": true
   },
   "outputs": [],
   "source": [
    "medicaid_enrollment_cleaned_with_zip = medicaid_enrollment_cleaned.merge(Codes_abbreviations, how='left', left_on='STATE', right_on='US STATE')"
   ]
  },
  {
   "cell_type": "markdown",
   "metadata": {},
   "source": [
    "* We have no further use for the column STATE in  `medicaid_enrollment_cleaned_with_zip`\n",
    "  * Remove the column make sure your data in `medicaid_enrollment_cleaned_with_zip` looks like the following  ( `...` represents remaining data that is not shown):\n",
    "\n",
    "```\n",
    "    Total Medicaid Enrollees    ABBREVIATION\n",
    "0   1,050,989                  AL\n",
    "1   164,783                    AK\n",
    "2   1,740,520                  AZ\n",
    "3   762,166                    AR\n",
    "4   13,096,861                 CA\n",
    "....\n",
    "```"
   ]
  },
  {
   "cell_type": "code",
   "execution_count": 37,
   "metadata": {
    "collapsed": true
   },
   "outputs": [],
   "source": [
    "medicaid_enrollment_cleaned_with_zip = medicaid_enrollment_cleaned_with_zip.drop(['US STATE',\n",
    "                                                                                  'STANDARD ABBREVIATION',\n",
    "                                                                                  'STATE'], axis=1)"
   ]
  },
  {
   "cell_type": "markdown",
   "metadata": {},
   "source": [
    "- Use `DataFrame medicaid_enrollment_cleaned_with_zip` to assign the appropriate number of Medicaid enrollees to each entry in the `medicaid_data`\n",
    "\n",
    "   I.E., instead of the 10 original columns, `medicaid_data` will now have an 11th column representing the `TOTAL MEDICAID ENROLLEES` according to the STATE value in the entry.\n",
    "   \n",
    "- Save the resulting DataFrame into a new variable called `medicaid_data_w_enrollments`\n",
    "- The resulting DataFrame should look like the following (`...` represents remaining data that is not shown):\n",
    "\n",
    "```\n",
    "UTILIZATION TYPE    STATE    NDC    PRODUCT NAME    UNITS REIMBURSED    NUMBER OF PRESCRIPTIONS    TOTAL AMOUNT REIMBURSED    MEDICAID AMOUNT REIMBURSED    NON MEDICAID AMOUNT REIMBURSED    LOCATION\n",
    "0    MCOU    PA    55150023930    Dexamethas    33.0    19.0    234.98    234.98    0.0    (40.5773, -77.264)\n",
    "1    FFSU    NY    23917710    ALPHAGAN P    570.0    57.0    16006.34    16006.34    0.0    (42.1497, -74.9384)\n",
    "2    MCOU    OR    13925050501    Dapsone 10    456.0    15.0    1052.42    1052.42    0.0    (44.5672, -122.1269)\n",
    "...\n",
    "```\n",
    "\n",
    "* The order of the columns in the `DataFrame` is not important. This answer uses the same approach as the one used to `merge` the tables above. "
   ]
  },
  {
   "cell_type": "code",
   "execution_count": 38,
   "metadata": {
    "collapsed": true
   },
   "outputs": [],
   "source": [
    "## WRITE YOUR CODE HERE\n",
    "#medicaid_enrollment_cleaned_with_zip = medicaid_enrollment_cleaned.merge(Codes_abbreviations, how='left', #left_on='STATE', right_on='US STATE')\n",
    "medicaid_data_w_enrollments = medicaid_data.merge(medicaid_enrollment_cleaned_with_zip,\n",
    "                                                  how='left', left_on='STATE', right_on='ABBREVIATION')"
   ]
  },
  {
   "cell_type": "code",
   "execution_count": 39,
   "outputs": [],
   "source": [
    "medicaid_data_w_enrollments = medicaid_data_w_enrollments.drop(['ABBREVIATION'], axis=1)"
   ],
   "metadata": {
    "collapsed": false,
    "pycharm": {
     "name": "#%%\n"
    }
   }
  },
  {
   "cell_type": "markdown",
   "metadata": {},
   "source": [
    "- Remove any lines where \"STATE\" or \"PRODUCT NAME\" are missing from  `medicaid_data_w_enrollments`"
   ]
  },
  {
   "cell_type": "code",
   "execution_count": 40,
   "metadata": {
    "collapsed": true
   },
   "outputs": [],
   "source": [
    "## WRITE YOUR CODE HERE\n",
    "medicaid_data_w_enrollments.dropna(subset=['STATE', 'PRODUCT NAME'], inplace=True)\n",
    "medicaid_data_w_enrollments = medicaid_data_w_enrollments[~medicaid_data_w_enrollments.STATE.str.contains('XX')]"
   ]
  },
  {
   "cell_type": "markdown",
   "metadata": {},
   "source": [
    "- Use [\"STATE\", \"PRODUCT NAME\"] as hierarchical index for `medicaid_data_w_enrollments`. Recall that a hierarchical index is simply an index with multiple levels of indexing (multiple columns)\n",
    "  * Hint: the function to set an index on a `DataFrame` can take a single column name or a list of column names. The list here is  [\"STATE\", \"NDC\"]\n",
    "- Call the new data `medicaid_data_w_enrollments_hierarch`\n",
    "- Inspect your data to make sure the new index has now two levels (STATE and NDC)"
   ]
  },
  {
   "cell_type": "code",
   "execution_count": 41,
   "metadata": {
    "collapsed": true
   },
   "outputs": [],
   "source": [
    "## WRITE YOUR CODE HERE \n",
    "medicaid_data_w_enrollments_hierarch = medicaid_data_w_enrollments.set_index(['STATE', 'NDC'])"
   ]
  },
  {
   "cell_type": "code",
   "execution_count": 42,
   "outputs": [
    {
     "data": {
      "text/plain": "                  UTILIZATION TYPE PRODUCT NAME  UNITS REIMBURSED  \\\nSTATE NDC                                                           \nPA    55150023930             MCOU   Dexamethas              33.0   \nNY    23917710                FFSU   ALPHAGAN P             570.0   \nOR    13925050501             MCOU   Dapsone 10             456.0   \nMN    51862006401             FFSU     DIAZEPAM             780.0   \n      781237101               FFSU   DEXTROAMPH             451.0   \n\n                   NUMBER OF PRESCRIPTIONS  TOTAL AMOUNT REIMBURSED  \\\nSTATE NDC                                                             \nPA    55150023930                     19.0                   234.98   \nNY    23917710                        57.0                 16006.34   \nOR    13925050501                     15.0                  1052.42   \nMN    51862006401                     16.0                    89.60   \n      781237101                       12.0                  1411.24   \n\n                   MEDICAID AMOUNT REIMBURSED  NON MEDICAID AMOUNT REIMBURSED  \\\nSTATE NDC                                                                       \nPA    55150023930                      234.98                            0.00   \nNY    23917710                       16006.34                            0.00   \nOR    13925050501                     1052.42                            0.00   \nMN    51862006401                       77.60                           12.00   \n      781237101                        198.93                         1212.31   \n\n                               LOCATION  TOTAL MEDICAID ENROLLEES  \nSTATE NDC                                                          \nPA    55150023930    (40.5773, -77.264)                 2569232.0  \nNY    23917710      (42.1497, -74.9384)                 6281038.0  \nOR    13925050501  (44.5672, -122.1269)                 1123913.0  \nMN    51862006401   (45.7326, -93.9196)                 1052521.0  \n      781237101     (45.7326, -93.9196)                 1052521.0  ",
      "text/html": "<div>\n<style scoped>\n    .dataframe tbody tr th:only-of-type {\n        vertical-align: middle;\n    }\n\n    .dataframe tbody tr th {\n        vertical-align: top;\n    }\n\n    .dataframe thead th {\n        text-align: right;\n    }\n</style>\n<table border=\"1\" class=\"dataframe\">\n  <thead>\n    <tr style=\"text-align: right;\">\n      <th></th>\n      <th></th>\n      <th>UTILIZATION TYPE</th>\n      <th>PRODUCT NAME</th>\n      <th>UNITS REIMBURSED</th>\n      <th>NUMBER OF PRESCRIPTIONS</th>\n      <th>TOTAL AMOUNT REIMBURSED</th>\n      <th>MEDICAID AMOUNT REIMBURSED</th>\n      <th>NON MEDICAID AMOUNT REIMBURSED</th>\n      <th>LOCATION</th>\n      <th>TOTAL MEDICAID ENROLLEES</th>\n    </tr>\n    <tr>\n      <th>STATE</th>\n      <th>NDC</th>\n      <th></th>\n      <th></th>\n      <th></th>\n      <th></th>\n      <th></th>\n      <th></th>\n      <th></th>\n      <th></th>\n      <th></th>\n    </tr>\n  </thead>\n  <tbody>\n    <tr>\n      <th>PA</th>\n      <th>55150023930</th>\n      <td>MCOU</td>\n      <td>Dexamethas</td>\n      <td>33.0</td>\n      <td>19.0</td>\n      <td>234.98</td>\n      <td>234.98</td>\n      <td>0.00</td>\n      <td>(40.5773, -77.264)</td>\n      <td>2569232.0</td>\n    </tr>\n    <tr>\n      <th>NY</th>\n      <th>23917710</th>\n      <td>FFSU</td>\n      <td>ALPHAGAN P</td>\n      <td>570.0</td>\n      <td>57.0</td>\n      <td>16006.34</td>\n      <td>16006.34</td>\n      <td>0.00</td>\n      <td>(42.1497, -74.9384)</td>\n      <td>6281038.0</td>\n    </tr>\n    <tr>\n      <th>OR</th>\n      <th>13925050501</th>\n      <td>MCOU</td>\n      <td>Dapsone 10</td>\n      <td>456.0</td>\n      <td>15.0</td>\n      <td>1052.42</td>\n      <td>1052.42</td>\n      <td>0.00</td>\n      <td>(44.5672, -122.1269)</td>\n      <td>1123913.0</td>\n    </tr>\n    <tr>\n      <th rowspan=\"2\" valign=\"top\">MN</th>\n      <th>51862006401</th>\n      <td>FFSU</td>\n      <td>DIAZEPAM</td>\n      <td>780.0</td>\n      <td>16.0</td>\n      <td>89.60</td>\n      <td>77.60</td>\n      <td>12.00</td>\n      <td>(45.7326, -93.9196)</td>\n      <td>1052521.0</td>\n    </tr>\n    <tr>\n      <th>781237101</th>\n      <td>FFSU</td>\n      <td>DEXTROAMPH</td>\n      <td>451.0</td>\n      <td>12.0</td>\n      <td>1411.24</td>\n      <td>198.93</td>\n      <td>1212.31</td>\n      <td>(45.7326, -93.9196)</td>\n      <td>1052521.0</td>\n    </tr>\n  </tbody>\n</table>\n</div>"
     },
     "execution_count": 42,
     "metadata": {},
     "output_type": "execute_result"
    }
   ],
   "source": [
    "medicaid_data_w_enrollments_hierarch.head()"
   ],
   "metadata": {
    "collapsed": false,
    "pycharm": {
     "name": "#%%\n"
    }
   }
  },
  {
   "cell_type": "markdown",
   "source": [
    "\n",
    "* Write a single Pandas expression to print all the lines with containing NDC 61958180101 in \"PA\"\n",
    "\n",
    " * Use a single indexing call (bracket notation) using `loc`\n",
    "\n",
    " * Hint 1: Since your index is hierarchical, `loc` is expecting two values, the first for STATE and the second for NDC\n"
   ],
   "metadata": {
    "collapsed": false
   }
  },
  {
   "cell_type": "code",
   "execution_count": 43,
   "outputs": [
    {
     "name": "stderr",
     "output_type": "stream",
     "text": [
      "/var/folders/jn/lb25bnzx4js5f2jfpwzh8brw0000gn/T/ipykernel_41793/4092694910.py:1: PerformanceWarning: indexing past lexsort depth may impact performance.\n",
      "  medicaid_data_w_enrollments_hierarch.loc['PA', 61958180101]\n"
     ]
    },
    {
     "data": {
      "text/plain": "                  UTILIZATION TYPE PRODUCT NAME  UNITS REIMBURSED  \\\nSTATE NDC                                                           \nPA    61958180101             FFSU   Harvoni  (             924.0   \n      61958180101             MCOU   Harvoni  (            2604.0   \n      61958180101             FFSU   Harvoni  (            1008.0   \n      61958180101             MCOU   Harvoni  (            1932.0   \n      61958180101             FFSU   Harvoni  (             924.0   \n      61958180101             MCOU   Harvoni  (            3220.0   \n\n                   NUMBER OF PRESCRIPTIONS  TOTAL AMOUNT REIMBURSED  \\\nSTATE NDC                                                             \nPA    61958180101                     33.0               1017644.54   \n      61958180101                     93.0               2952891.16   \n      61958180101                     36.0               1107725.22   \n      61958180101                     69.0               2178602.30   \n      61958180101                     33.0               1015383.60   \n      61958180101                    115.0               3599192.35   \n\n                   MEDICAID AMOUNT REIMBURSED  NON MEDICAID AMOUNT REIMBURSED  \\\nSTATE NDC                                                                       \nPA    61958180101                   985269.84                        32374.70   \n      61958180101                  2860100.54                        92790.62   \n      61958180101                  1107725.22                            0.00   \n      61958180101                  2118612.30                        59990.00   \n      61958180101                  1015383.60                            0.00   \n      61958180101                  3482188.68                       117003.67   \n\n                             LOCATION  TOTAL MEDICAID ENROLLEES  \nSTATE NDC                                                        \nPA    61958180101  (40.5773, -77.264)                 2569232.0  \n      61958180101  (40.5773, -77.264)                 2569232.0  \n      61958180101  (40.5773, -77.264)                 2569232.0  \n      61958180101  (40.5773, -77.264)                 2569232.0  \n      61958180101  (40.5773, -77.264)                 2569232.0  \n      61958180101  (40.5773, -77.264)                 2569232.0  ",
      "text/html": "<div>\n<style scoped>\n    .dataframe tbody tr th:only-of-type {\n        vertical-align: middle;\n    }\n\n    .dataframe tbody tr th {\n        vertical-align: top;\n    }\n\n    .dataframe thead th {\n        text-align: right;\n    }\n</style>\n<table border=\"1\" class=\"dataframe\">\n  <thead>\n    <tr style=\"text-align: right;\">\n      <th></th>\n      <th></th>\n      <th>UTILIZATION TYPE</th>\n      <th>PRODUCT NAME</th>\n      <th>UNITS REIMBURSED</th>\n      <th>NUMBER OF PRESCRIPTIONS</th>\n      <th>TOTAL AMOUNT REIMBURSED</th>\n      <th>MEDICAID AMOUNT REIMBURSED</th>\n      <th>NON MEDICAID AMOUNT REIMBURSED</th>\n      <th>LOCATION</th>\n      <th>TOTAL MEDICAID ENROLLEES</th>\n    </tr>\n    <tr>\n      <th>STATE</th>\n      <th>NDC</th>\n      <th></th>\n      <th></th>\n      <th></th>\n      <th></th>\n      <th></th>\n      <th></th>\n      <th></th>\n      <th></th>\n      <th></th>\n    </tr>\n  </thead>\n  <tbody>\n    <tr>\n      <th rowspan=\"6\" valign=\"top\">PA</th>\n      <th>61958180101</th>\n      <td>FFSU</td>\n      <td>Harvoni  (</td>\n      <td>924.0</td>\n      <td>33.0</td>\n      <td>1017644.54</td>\n      <td>985269.84</td>\n      <td>32374.70</td>\n      <td>(40.5773, -77.264)</td>\n      <td>2569232.0</td>\n    </tr>\n    <tr>\n      <th>61958180101</th>\n      <td>MCOU</td>\n      <td>Harvoni  (</td>\n      <td>2604.0</td>\n      <td>93.0</td>\n      <td>2952891.16</td>\n      <td>2860100.54</td>\n      <td>92790.62</td>\n      <td>(40.5773, -77.264)</td>\n      <td>2569232.0</td>\n    </tr>\n    <tr>\n      <th>61958180101</th>\n      <td>FFSU</td>\n      <td>Harvoni  (</td>\n      <td>1008.0</td>\n      <td>36.0</td>\n      <td>1107725.22</td>\n      <td>1107725.22</td>\n      <td>0.00</td>\n      <td>(40.5773, -77.264)</td>\n      <td>2569232.0</td>\n    </tr>\n    <tr>\n      <th>61958180101</th>\n      <td>MCOU</td>\n      <td>Harvoni  (</td>\n      <td>1932.0</td>\n      <td>69.0</td>\n      <td>2178602.30</td>\n      <td>2118612.30</td>\n      <td>59990.00</td>\n      <td>(40.5773, -77.264)</td>\n      <td>2569232.0</td>\n    </tr>\n    <tr>\n      <th>61958180101</th>\n      <td>FFSU</td>\n      <td>Harvoni  (</td>\n      <td>924.0</td>\n      <td>33.0</td>\n      <td>1015383.60</td>\n      <td>1015383.60</td>\n      <td>0.00</td>\n      <td>(40.5773, -77.264)</td>\n      <td>2569232.0</td>\n    </tr>\n    <tr>\n      <th>61958180101</th>\n      <td>MCOU</td>\n      <td>Harvoni  (</td>\n      <td>3220.0</td>\n      <td>115.0</td>\n      <td>3599192.35</td>\n      <td>3482188.68</td>\n      <td>117003.67</td>\n      <td>(40.5773, -77.264)</td>\n      <td>2569232.0</td>\n    </tr>\n  </tbody>\n</table>\n</div>"
     },
     "execution_count": 43,
     "metadata": {},
     "output_type": "execute_result"
    }
   ],
   "source": [
    "medicaid_data_w_enrollments_hierarch.loc['PA', 61958180101]"
   ],
   "metadata": {
    "collapsed": false,
    "pycharm": {
     "name": "#%%\n"
    }
   }
  },
  {
   "cell_type": "markdown",
   "metadata": {},
   "source": []
  },
  {
   "cell_type": "code",
   "execution_count": 44,
   "outputs": [],
   "source": [
    "ratio_reimbursed = (medicaid_data_w_enrollments_hierarch.groupby(['STATE', 'NDC'])['UNITS REIMBURSED'].sum() /                             medicaid_data_w_enrollments_hierarch.groupby(['STATE', 'NDC'])['TOTAL MEDICAID ENROLLEES'].unique())"
   ],
   "metadata": {
    "collapsed": false,
    "pycharm": {
     "name": "#%%\n"
    }
   }
  },
  {
   "cell_type": "code",
   "execution_count": 45,
   "outputs": [
    {
     "data": {
      "text/plain": "STATE  NDC    \nAK     2143380    -9.609109\n       2143480   -10.008280\n       2322730    -6.109830\n       2322830    -4.444321\n       2322930    -3.855995\ndtype: float64"
     },
     "execution_count": 45,
     "metadata": {},
     "output_type": "execute_result"
    }
   ],
   "source": [
    "ratio_reimbursed = ratio_reimbursed.astype(float)\n",
    "medicaid_reimbursement_per_enrollee = np.log2(ratio_reimbursed)\n",
    "medicaid_reimbursement_per_enrollee.head()"
   ],
   "metadata": {
    "collapsed": false,
    "pycharm": {
     "name": "#%%\n"
    }
   }
  },
  {
   "cell_type": "markdown",
   "metadata": {},
   "source": [
    "- To facilitate working with the final data, we are going to unstack `medicaid_reimbursement_per_enrollee` into a variable called  `medicaid_norm_ndc`\n",
    "\n",
    "- Using `medicaid_reimbursement_per_enrollee`, generate a `DataFrame` where: \n",
    "  - index should be the two-letter state symbol \n",
    "  - the column names should be the NDC codes \n",
    "\n",
    "- The `DataFrame`  should be formatted as in the image below\n",
    "  - Hint, simply unstack the data\n"
   ]
  },
  {
   "cell_type": "markdown",
   "metadata": {},
   "source": [
    "<img src=\"media/unstacked.png\" alt=\"drawing\" style=\"width:900px;\"/>\n"
   ]
  },
  {
   "cell_type": "code",
   "execution_count": 46,
   "metadata": {
    "collapsed": true
   },
   "outputs": [],
   "source": [
    "## WRITE YOUR CODE HERE \n",
    "medicaid_norm_ndc = medicaid_reimbursement_per_enrollee.unstack(level=-1)"
   ]
  },
  {
   "cell_type": "code",
   "execution_count": 47,
   "outputs": [
    {
     "data": {
      "text/plain": "NDC    2143380      2143480      2144511      2144527      2197590      \\\nSTATE                                                                    \nAK       -9.609109   -10.008280          NaN          NaN          NaN   \nAL       -9.940595    -9.805485          NaN          NaN          NaN   \nAR      -12.985157   -12.657103          NaN          NaN          NaN   \nAZ      -11.533870   -10.821194          NaN          NaN          NaN   \nCA      -10.926863   -10.698372   -16.127018          NaN    -9.464364   \n\nNDC    2322730      2322830      2322930      2323030      2323130      ...  \\\nSTATE                                                                   ...   \nAK       -6.109830    -4.444321    -3.855995          NaN          NaN  ...   \nAL       -5.336260    -4.243688    -3.645575          NaN          NaN  ...   \nAR       -4.720964    -2.886635    -2.617579          NaN          NaN  ...   \nAZ       -5.312806    -3.998085    -3.401510          NaN          NaN  ...   \nCA       -7.429936    -6.286911    -5.864352          NaN          NaN  ...   \n\nNDC    76439035930  76439035990  76439036290  76439036390  76439036490  \\\nSTATE                                                                    \nAK             NaN          NaN          NaN          NaN          NaN   \nAL             NaN          NaN          NaN          NaN    -8.518493   \nAR             NaN          NaN          NaN          NaN          NaN   \nAZ      -11.824196          NaN          NaN          NaN          NaN   \nCA             NaN          NaN          NaN          NaN          NaN   \n\nNDC    76439036590  99207013070  99207024005  99207026012  99207046330  \nSTATE                                                                   \nAK             NaN          NaN          NaN          NaN          NaN  \nAL             NaN          NaN          NaN          NaN          NaN  \nAR             NaN          NaN          NaN          NaN          NaN  \nAZ             NaN          NaN          NaN          NaN          NaN  \nCA             NaN   -11.952415          NaN          NaN   -15.150865  \n\n[5 rows x 23885 columns]",
      "text/html": "<div>\n<style scoped>\n    .dataframe tbody tr th:only-of-type {\n        vertical-align: middle;\n    }\n\n    .dataframe tbody tr th {\n        vertical-align: top;\n    }\n\n    .dataframe thead th {\n        text-align: right;\n    }\n</style>\n<table border=\"1\" class=\"dataframe\">\n  <thead>\n    <tr style=\"text-align: right;\">\n      <th>NDC</th>\n      <th>2143380</th>\n      <th>2143480</th>\n      <th>2144511</th>\n      <th>2144527</th>\n      <th>2197590</th>\n      <th>2322730</th>\n      <th>2322830</th>\n      <th>2322930</th>\n      <th>2323030</th>\n      <th>2323130</th>\n      <th>...</th>\n      <th>76439035930</th>\n      <th>76439035990</th>\n      <th>76439036290</th>\n      <th>76439036390</th>\n      <th>76439036490</th>\n      <th>76439036590</th>\n      <th>99207013070</th>\n      <th>99207024005</th>\n      <th>99207026012</th>\n      <th>99207046330</th>\n    </tr>\n    <tr>\n      <th>STATE</th>\n      <th></th>\n      <th></th>\n      <th></th>\n      <th></th>\n      <th></th>\n      <th></th>\n      <th></th>\n      <th></th>\n      <th></th>\n      <th></th>\n      <th></th>\n      <th></th>\n      <th></th>\n      <th></th>\n      <th></th>\n      <th></th>\n      <th></th>\n      <th></th>\n      <th></th>\n      <th></th>\n      <th></th>\n    </tr>\n  </thead>\n  <tbody>\n    <tr>\n      <th>AK</th>\n      <td>-9.609109</td>\n      <td>-10.008280</td>\n      <td>NaN</td>\n      <td>NaN</td>\n      <td>NaN</td>\n      <td>-6.109830</td>\n      <td>-4.444321</td>\n      <td>-3.855995</td>\n      <td>NaN</td>\n      <td>NaN</td>\n      <td>...</td>\n      <td>NaN</td>\n      <td>NaN</td>\n      <td>NaN</td>\n      <td>NaN</td>\n      <td>NaN</td>\n      <td>NaN</td>\n      <td>NaN</td>\n      <td>NaN</td>\n      <td>NaN</td>\n      <td>NaN</td>\n    </tr>\n    <tr>\n      <th>AL</th>\n      <td>-9.940595</td>\n      <td>-9.805485</td>\n      <td>NaN</td>\n      <td>NaN</td>\n      <td>NaN</td>\n      <td>-5.336260</td>\n      <td>-4.243688</td>\n      <td>-3.645575</td>\n      <td>NaN</td>\n      <td>NaN</td>\n      <td>...</td>\n      <td>NaN</td>\n      <td>NaN</td>\n      <td>NaN</td>\n      <td>NaN</td>\n      <td>-8.518493</td>\n      <td>NaN</td>\n      <td>NaN</td>\n      <td>NaN</td>\n      <td>NaN</td>\n      <td>NaN</td>\n    </tr>\n    <tr>\n      <th>AR</th>\n      <td>-12.985157</td>\n      <td>-12.657103</td>\n      <td>NaN</td>\n      <td>NaN</td>\n      <td>NaN</td>\n      <td>-4.720964</td>\n      <td>-2.886635</td>\n      <td>-2.617579</td>\n      <td>NaN</td>\n      <td>NaN</td>\n      <td>...</td>\n      <td>NaN</td>\n      <td>NaN</td>\n      <td>NaN</td>\n      <td>NaN</td>\n      <td>NaN</td>\n      <td>NaN</td>\n      <td>NaN</td>\n      <td>NaN</td>\n      <td>NaN</td>\n      <td>NaN</td>\n    </tr>\n    <tr>\n      <th>AZ</th>\n      <td>-11.533870</td>\n      <td>-10.821194</td>\n      <td>NaN</td>\n      <td>NaN</td>\n      <td>NaN</td>\n      <td>-5.312806</td>\n      <td>-3.998085</td>\n      <td>-3.401510</td>\n      <td>NaN</td>\n      <td>NaN</td>\n      <td>...</td>\n      <td>-11.824196</td>\n      <td>NaN</td>\n      <td>NaN</td>\n      <td>NaN</td>\n      <td>NaN</td>\n      <td>NaN</td>\n      <td>NaN</td>\n      <td>NaN</td>\n      <td>NaN</td>\n      <td>NaN</td>\n    </tr>\n    <tr>\n      <th>CA</th>\n      <td>-10.926863</td>\n      <td>-10.698372</td>\n      <td>-16.127018</td>\n      <td>NaN</td>\n      <td>-9.464364</td>\n      <td>-7.429936</td>\n      <td>-6.286911</td>\n      <td>-5.864352</td>\n      <td>NaN</td>\n      <td>NaN</td>\n      <td>...</td>\n      <td>NaN</td>\n      <td>NaN</td>\n      <td>NaN</td>\n      <td>NaN</td>\n      <td>NaN</td>\n      <td>NaN</td>\n      <td>-11.952415</td>\n      <td>NaN</td>\n      <td>NaN</td>\n      <td>-15.150865</td>\n    </tr>\n  </tbody>\n</table>\n<p>5 rows × 23885 columns</p>\n</div>"
     },
     "execution_count": 47,
     "metadata": {},
     "output_type": "execute_result"
    }
   ],
   "source": [
    "medicaid_norm_ndc.head()"
   ],
   "metadata": {
    "collapsed": false,
    "pycharm": {
     "name": "#%%\n"
    }
   }
  },
  {
   "cell_type": "markdown",
   "metadata": {},
   "source": [
    "#### Exploring the data (very briefly) \n",
    "- What is the drug with the highest log-normalized ratio in Hawaii?\n"
   ]
  },
  {
   "cell_type": "code",
   "execution_count": 48,
   "metadata": {
    "collapsed": true
   },
   "outputs": [
    {
     "data": {
      "text/plain": "NDC\n43386009019    10.511181\n43386006019     3.448037\n10572010001     2.599661\n116200116       2.284969\n62175044601     2.195764\nName: HI, dtype: float64"
     },
     "execution_count": 48,
     "metadata": {},
     "output_type": "execute_result"
    }
   ],
   "source": [
    "medicaid_norm_ndc.loc['HI'].sort_values(ascending=False).head()"
   ]
  },
  {
   "cell_type": "markdown",
   "metadata": {},
   "source": [
    "* Investigate the NDC of the product with the highest log-normalized ratio in Hawaii \n",
    "  * What is it used for?\n",
    "\n",
    "* Compare the value of `Units Reimbursed` that product between HI and other states, (take for instance MA, FL, OR and WA)\n",
    "* Can you think for reasons why this product has the highest log-normalized ratio in Hawaii?"
   ]
  },
  {
   "cell_type": "code",
   "execution_count": 49,
   "metadata": {
    "collapsed": true
   },
   "outputs": [
    {
     "name": "stderr",
     "output_type": "stream",
     "text": [
      "/var/folders/jn/lb25bnzx4js5f2jfpwzh8brw0000gn/T/ipykernel_41793/2593425549.py:1: PerformanceWarning: indexing past lexsort depth may impact performance.\n",
      "  medicaid_data_w_enrollments_hierarch.loc['HI', 43386009019]\n"
     ]
    },
    {
     "data": {
      "text/plain": "                  UTILIZATION TYPE PRODUCT NAME  UNITS REIMBURSED  \\\nSTATE NDC                                                           \nHI    43386009019             MCOU   GAVILYTE-G          472000.0   \n      43386009019             MCOU   GAVILYTE-G          376012.0   \n      43386009019             MCOU   GAVILYTE-G       496104006.0   \n\n                   NUMBER OF PRESCRIPTIONS  TOTAL AMOUNT REIMBURSED  \\\nSTATE NDC                                                             \nHI    43386009019                    118.0                  1754.68   \n      43386009019                    105.0                  1462.60   \n      43386009019                     63.0                   847.56   \n\n                   MEDICAID AMOUNT REIMBURSED  NON MEDICAID AMOUNT REIMBURSED  \\\nSTATE NDC                                                                       \nHI    43386009019                     1754.68                            0.00   \n      43386009019                     1462.60                            0.00   \n      43386009019                      839.61                            7.95   \n\n                               LOCATION  TOTAL MEDICAID ENROLLEES  \nSTATE NDC                                                          \nHI    43386009019  (21.1098, -157.5311)                  340513.0  \n      43386009019  (21.1098, -157.5311)                  340513.0  \n      43386009019  (21.1098, -157.5311)                  340513.0  ",
      "text/html": "<div>\n<style scoped>\n    .dataframe tbody tr th:only-of-type {\n        vertical-align: middle;\n    }\n\n    .dataframe tbody tr th {\n        vertical-align: top;\n    }\n\n    .dataframe thead th {\n        text-align: right;\n    }\n</style>\n<table border=\"1\" class=\"dataframe\">\n  <thead>\n    <tr style=\"text-align: right;\">\n      <th></th>\n      <th></th>\n      <th>UTILIZATION TYPE</th>\n      <th>PRODUCT NAME</th>\n      <th>UNITS REIMBURSED</th>\n      <th>NUMBER OF PRESCRIPTIONS</th>\n      <th>TOTAL AMOUNT REIMBURSED</th>\n      <th>MEDICAID AMOUNT REIMBURSED</th>\n      <th>NON MEDICAID AMOUNT REIMBURSED</th>\n      <th>LOCATION</th>\n      <th>TOTAL MEDICAID ENROLLEES</th>\n    </tr>\n    <tr>\n      <th>STATE</th>\n      <th>NDC</th>\n      <th></th>\n      <th></th>\n      <th></th>\n      <th></th>\n      <th></th>\n      <th></th>\n      <th></th>\n      <th></th>\n      <th></th>\n    </tr>\n  </thead>\n  <tbody>\n    <tr>\n      <th rowspan=\"3\" valign=\"top\">HI</th>\n      <th>43386009019</th>\n      <td>MCOU</td>\n      <td>GAVILYTE-G</td>\n      <td>472000.0</td>\n      <td>118.0</td>\n      <td>1754.68</td>\n      <td>1754.68</td>\n      <td>0.00</td>\n      <td>(21.1098, -157.5311)</td>\n      <td>340513.0</td>\n    </tr>\n    <tr>\n      <th>43386009019</th>\n      <td>MCOU</td>\n      <td>GAVILYTE-G</td>\n      <td>376012.0</td>\n      <td>105.0</td>\n      <td>1462.60</td>\n      <td>1462.60</td>\n      <td>0.00</td>\n      <td>(21.1098, -157.5311)</td>\n      <td>340513.0</td>\n    </tr>\n    <tr>\n      <th>43386009019</th>\n      <td>MCOU</td>\n      <td>GAVILYTE-G</td>\n      <td>496104006.0</td>\n      <td>63.0</td>\n      <td>847.56</td>\n      <td>839.61</td>\n      <td>7.95</td>\n      <td>(21.1098, -157.5311)</td>\n      <td>340513.0</td>\n    </tr>\n  </tbody>\n</table>\n</div>"
     },
     "execution_count": 49,
     "metadata": {},
     "output_type": "execute_result"
    }
   ],
   "source": [
    "medicaid_data_w_enrollments_hierarch.loc['HI', 43386009019]"
   ]
  },
  {
   "cell_type": "code",
   "execution_count": 50,
   "outputs": [
    {
     "name": "stderr",
     "output_type": "stream",
     "text": [
      "/var/folders/jn/lb25bnzx4js5f2jfpwzh8brw0000gn/T/ipykernel_41793/1057765572.py:1: PerformanceWarning: indexing past lexsort depth may impact performance.\n",
      "  medicaid_data_w_enrollments_hierarch.loc['WA', 43386009019]\n"
     ]
    },
    {
     "data": {
      "text/plain": "                  UTILIZATION TYPE PRODUCT NAME  UNITS REIMBURSED  \\\nSTATE NDC                                                           \nWA    43386009019             FFSU   GaviLyte -            58.000   \n      43386009019             FFSU   GaviLyte -            65.000   \n      43386009019             MCOU   GaviLyte -          2702.118   \n      43386009019             MCOU   GaviLyte -          2642.000   \n      43386009019             MCOU   GaviLyte -          2753.149   \n      43386009019             FFSU   GaviLyte -            87.000   \n\n                   NUMBER OF PRESCRIPTIONS  TOTAL AMOUNT REIMBURSED  \\\nSTATE NDC                                                             \nWA    43386009019                     56.0                  1083.76   \n      43386009019                     65.0                  1045.00   \n      43386009019                   2677.0                 31709.24   \n      43386009019                   2578.0                 28734.28   \n      43386009019                   2719.0                 34745.72   \n      43386009019                     85.0                  1389.96   \n\n                   MEDICAID AMOUNT REIMBURSED  NON MEDICAID AMOUNT REIMBURSED  \\\nSTATE NDC                                                                       \nWA    43386009019                     1083.76                            0.00   \n      43386009019                     1031.66                           13.34   \n      43386009019                    31691.66                           17.58   \n      43386009019                    28732.78                            1.50   \n      43386009019                    34743.22                            2.50   \n      43386009019                     1387.77                            2.19   \n\n                               LOCATION  TOTAL MEDICAID ENROLLEES  \nSTATE NDC                                                          \nWA    43386009019  (47.3917, -121.5708)                 1771679.0  \n      43386009019  (47.3917, -121.5708)                 1771679.0  \n      43386009019  (47.3917, -121.5708)                 1771679.0  \n      43386009019  (47.3917, -121.5708)                 1771679.0  \n      43386009019  (47.3917, -121.5708)                 1771679.0  \n      43386009019  (47.3917, -121.5708)                 1771679.0  ",
      "text/html": "<div>\n<style scoped>\n    .dataframe tbody tr th:only-of-type {\n        vertical-align: middle;\n    }\n\n    .dataframe tbody tr th {\n        vertical-align: top;\n    }\n\n    .dataframe thead th {\n        text-align: right;\n    }\n</style>\n<table border=\"1\" class=\"dataframe\">\n  <thead>\n    <tr style=\"text-align: right;\">\n      <th></th>\n      <th></th>\n      <th>UTILIZATION TYPE</th>\n      <th>PRODUCT NAME</th>\n      <th>UNITS REIMBURSED</th>\n      <th>NUMBER OF PRESCRIPTIONS</th>\n      <th>TOTAL AMOUNT REIMBURSED</th>\n      <th>MEDICAID AMOUNT REIMBURSED</th>\n      <th>NON MEDICAID AMOUNT REIMBURSED</th>\n      <th>LOCATION</th>\n      <th>TOTAL MEDICAID ENROLLEES</th>\n    </tr>\n    <tr>\n      <th>STATE</th>\n      <th>NDC</th>\n      <th></th>\n      <th></th>\n      <th></th>\n      <th></th>\n      <th></th>\n      <th></th>\n      <th></th>\n      <th></th>\n      <th></th>\n    </tr>\n  </thead>\n  <tbody>\n    <tr>\n      <th rowspan=\"6\" valign=\"top\">WA</th>\n      <th>43386009019</th>\n      <td>FFSU</td>\n      <td>GaviLyte -</td>\n      <td>58.000</td>\n      <td>56.0</td>\n      <td>1083.76</td>\n      <td>1083.76</td>\n      <td>0.00</td>\n      <td>(47.3917, -121.5708)</td>\n      <td>1771679.0</td>\n    </tr>\n    <tr>\n      <th>43386009019</th>\n      <td>FFSU</td>\n      <td>GaviLyte -</td>\n      <td>65.000</td>\n      <td>65.0</td>\n      <td>1045.00</td>\n      <td>1031.66</td>\n      <td>13.34</td>\n      <td>(47.3917, -121.5708)</td>\n      <td>1771679.0</td>\n    </tr>\n    <tr>\n      <th>43386009019</th>\n      <td>MCOU</td>\n      <td>GaviLyte -</td>\n      <td>2702.118</td>\n      <td>2677.0</td>\n      <td>31709.24</td>\n      <td>31691.66</td>\n      <td>17.58</td>\n      <td>(47.3917, -121.5708)</td>\n      <td>1771679.0</td>\n    </tr>\n    <tr>\n      <th>43386009019</th>\n      <td>MCOU</td>\n      <td>GaviLyte -</td>\n      <td>2642.000</td>\n      <td>2578.0</td>\n      <td>28734.28</td>\n      <td>28732.78</td>\n      <td>1.50</td>\n      <td>(47.3917, -121.5708)</td>\n      <td>1771679.0</td>\n    </tr>\n    <tr>\n      <th>43386009019</th>\n      <td>MCOU</td>\n      <td>GaviLyte -</td>\n      <td>2753.149</td>\n      <td>2719.0</td>\n      <td>34745.72</td>\n      <td>34743.22</td>\n      <td>2.50</td>\n      <td>(47.3917, -121.5708)</td>\n      <td>1771679.0</td>\n    </tr>\n    <tr>\n      <th>43386009019</th>\n      <td>FFSU</td>\n      <td>GaviLyte -</td>\n      <td>87.000</td>\n      <td>85.0</td>\n      <td>1389.96</td>\n      <td>1387.77</td>\n      <td>2.19</td>\n      <td>(47.3917, -121.5708)</td>\n      <td>1771679.0</td>\n    </tr>\n  </tbody>\n</table>\n</div>"
     },
     "execution_count": 50,
     "metadata": {},
     "output_type": "execute_result"
    }
   ],
   "source": [
    "medicaid_data_w_enrollments_hierarch.loc['WA', 43386009019]"
   ],
   "metadata": {
    "collapsed": false,
    "pycharm": {
     "name": "#%%\n"
    }
   }
  },
  {
   "cell_type": "code",
   "execution_count": 51,
   "metadata": {
    "collapsed": true
   },
   "outputs": [
    {
     "name": "stderr",
     "output_type": "stream",
     "text": [
      "/var/folders/jn/lb25bnzx4js5f2jfpwzh8brw0000gn/T/ipykernel_41793/1093106079.py:1: PerformanceWarning: indexing past lexsort depth may impact performance.\n",
      "  medicaid_data_w_enrollments_hierarch.loc['MA', 43386009019]\n"
     ]
    },
    {
     "data": {
      "text/plain": "                  UTILIZATION TYPE PRODUCT NAME  UNITS REIMBURSED  \\\nSTATE NDC                                                           \nMA    43386009019             FFSU   GAVILYTE-G             461.0   \n      43386009019             MCOU   GAVILYTE-G             486.0   \n      43386009019             FFSU   GAVILYTE-G            1086.0   \n      43386009019             FFSU   GAVILYTE-G             676.0   \n      43386009019             MCOU   GAVILYTE-G             753.0   \n      43386009019             MCOU   GAVILYTE-G            1971.0   \n\n                   NUMBER OF PRESCRIPTIONS  TOTAL AMOUNT REIMBURSED  \\\nSTATE NDC                                                             \nMA    43386009019                    294.0                  7135.59   \n      43386009019                    471.0                  4587.04   \n      43386009019                    479.0                  9185.81   \n      43386009019                    499.0                 11456.60   \n      43386009019                    727.0                  7264.42   \n      43386009019                    925.0                 12118.86   \n\n                   MEDICAID AMOUNT REIMBURSED  NON MEDICAID AMOUNT REIMBURSED  \\\nSTATE NDC                                                                       \nMA    43386009019                     5720.40                         1415.19   \n      43386009019                     4587.04                            0.00   \n      43386009019                     9185.81                            0.00   \n      43386009019                     9617.89                         1838.71   \n      43386009019                     7264.42                            0.00   \n      43386009019                     9820.33                         2298.53   \n\n                              LOCATION  TOTAL MEDICAID ENROLLEES  \nSTATE NDC                                                         \nMA    43386009019  (42.2373, -71.5314)                 1829618.0  \n      43386009019  (42.2373, -71.5314)                 1829618.0  \n      43386009019  (42.2373, -71.5314)                 1829618.0  \n      43386009019  (42.2373, -71.5314)                 1829618.0  \n      43386009019  (42.2373, -71.5314)                 1829618.0  \n      43386009019  (42.2373, -71.5314)                 1829618.0  ",
      "text/html": "<div>\n<style scoped>\n    .dataframe tbody tr th:only-of-type {\n        vertical-align: middle;\n    }\n\n    .dataframe tbody tr th {\n        vertical-align: top;\n    }\n\n    .dataframe thead th {\n        text-align: right;\n    }\n</style>\n<table border=\"1\" class=\"dataframe\">\n  <thead>\n    <tr style=\"text-align: right;\">\n      <th></th>\n      <th></th>\n      <th>UTILIZATION TYPE</th>\n      <th>PRODUCT NAME</th>\n      <th>UNITS REIMBURSED</th>\n      <th>NUMBER OF PRESCRIPTIONS</th>\n      <th>TOTAL AMOUNT REIMBURSED</th>\n      <th>MEDICAID AMOUNT REIMBURSED</th>\n      <th>NON MEDICAID AMOUNT REIMBURSED</th>\n      <th>LOCATION</th>\n      <th>TOTAL MEDICAID ENROLLEES</th>\n    </tr>\n    <tr>\n      <th>STATE</th>\n      <th>NDC</th>\n      <th></th>\n      <th></th>\n      <th></th>\n      <th></th>\n      <th></th>\n      <th></th>\n      <th></th>\n      <th></th>\n      <th></th>\n    </tr>\n  </thead>\n  <tbody>\n    <tr>\n      <th rowspan=\"6\" valign=\"top\">MA</th>\n      <th>43386009019</th>\n      <td>FFSU</td>\n      <td>GAVILYTE-G</td>\n      <td>461.0</td>\n      <td>294.0</td>\n      <td>7135.59</td>\n      <td>5720.40</td>\n      <td>1415.19</td>\n      <td>(42.2373, -71.5314)</td>\n      <td>1829618.0</td>\n    </tr>\n    <tr>\n      <th>43386009019</th>\n      <td>MCOU</td>\n      <td>GAVILYTE-G</td>\n      <td>486.0</td>\n      <td>471.0</td>\n      <td>4587.04</td>\n      <td>4587.04</td>\n      <td>0.00</td>\n      <td>(42.2373, -71.5314)</td>\n      <td>1829618.0</td>\n    </tr>\n    <tr>\n      <th>43386009019</th>\n      <td>FFSU</td>\n      <td>GAVILYTE-G</td>\n      <td>1086.0</td>\n      <td>479.0</td>\n      <td>9185.81</td>\n      <td>9185.81</td>\n      <td>0.00</td>\n      <td>(42.2373, -71.5314)</td>\n      <td>1829618.0</td>\n    </tr>\n    <tr>\n      <th>43386009019</th>\n      <td>FFSU</td>\n      <td>GAVILYTE-G</td>\n      <td>676.0</td>\n      <td>499.0</td>\n      <td>11456.60</td>\n      <td>9617.89</td>\n      <td>1838.71</td>\n      <td>(42.2373, -71.5314)</td>\n      <td>1829618.0</td>\n    </tr>\n    <tr>\n      <th>43386009019</th>\n      <td>MCOU</td>\n      <td>GAVILYTE-G</td>\n      <td>753.0</td>\n      <td>727.0</td>\n      <td>7264.42</td>\n      <td>7264.42</td>\n      <td>0.00</td>\n      <td>(42.2373, -71.5314)</td>\n      <td>1829618.0</td>\n    </tr>\n    <tr>\n      <th>43386009019</th>\n      <td>MCOU</td>\n      <td>GAVILYTE-G</td>\n      <td>1971.0</td>\n      <td>925.0</td>\n      <td>12118.86</td>\n      <td>9820.33</td>\n      <td>2298.53</td>\n      <td>(42.2373, -71.5314)</td>\n      <td>1829618.0</td>\n    </tr>\n  </tbody>\n</table>\n</div>"
     },
     "execution_count": 51,
     "metadata": {},
     "output_type": "execute_result"
    }
   ],
   "source": [
    "medicaid_data_w_enrollments_hierarch.loc['MA', 43386009019]"
   ]
  },
  {
   "cell_type": "code",
   "execution_count": 52,
   "outputs": [
    {
     "name": "stderr",
     "output_type": "stream",
     "text": [
      "/var/folders/jn/lb25bnzx4js5f2jfpwzh8brw0000gn/T/ipykernel_41793/2215370880.py:1: PerformanceWarning: indexing past lexsort depth may impact performance.\n",
      "  medicaid_data_w_enrollments_hierarch.loc['FL', 43386009019]\n"
     ]
    },
    {
     "data": {
      "text/plain": "                  UTILIZATION TYPE PRODUCT NAME  UNITS REIMBURSED  \\\nSTATE NDC                                                           \nFL    43386009019             MCOU   GAVILYTE-G          596000.0   \n      43386009019             MCOU   GAVILYTE-G          676000.0   \n      43386009019             MCOU   GAVILYTE-G          576000.0   \n\n                   NUMBER OF PRESCRIPTIONS  TOTAL AMOUNT REIMBURSED  \\\nSTATE NDC                                                             \nFL    43386009019                    149.0                  1910.49   \n      43386009019                    169.0                  2137.42   \n      43386009019                    144.0                  1920.29   \n\n                   MEDICAID AMOUNT REIMBURSED  NON MEDICAID AMOUNT REIMBURSED  \\\nSTATE NDC                                                                       \nFL    43386009019                     1906.79                             3.7   \n      43386009019                     2137.42                             0.0   \n      43386009019                     1920.29                             0.0   \n\n                             LOCATION  TOTAL MEDICAID ENROLLEES  \nSTATE NDC                                                        \nFL    43386009019  (27.8333, -81.717)                 3808334.0  \n      43386009019  (27.8333, -81.717)                 3808334.0  \n      43386009019  (27.8333, -81.717)                 3808334.0  ",
      "text/html": "<div>\n<style scoped>\n    .dataframe tbody tr th:only-of-type {\n        vertical-align: middle;\n    }\n\n    .dataframe tbody tr th {\n        vertical-align: top;\n    }\n\n    .dataframe thead th {\n        text-align: right;\n    }\n</style>\n<table border=\"1\" class=\"dataframe\">\n  <thead>\n    <tr style=\"text-align: right;\">\n      <th></th>\n      <th></th>\n      <th>UTILIZATION TYPE</th>\n      <th>PRODUCT NAME</th>\n      <th>UNITS REIMBURSED</th>\n      <th>NUMBER OF PRESCRIPTIONS</th>\n      <th>TOTAL AMOUNT REIMBURSED</th>\n      <th>MEDICAID AMOUNT REIMBURSED</th>\n      <th>NON MEDICAID AMOUNT REIMBURSED</th>\n      <th>LOCATION</th>\n      <th>TOTAL MEDICAID ENROLLEES</th>\n    </tr>\n    <tr>\n      <th>STATE</th>\n      <th>NDC</th>\n      <th></th>\n      <th></th>\n      <th></th>\n      <th></th>\n      <th></th>\n      <th></th>\n      <th></th>\n      <th></th>\n      <th></th>\n    </tr>\n  </thead>\n  <tbody>\n    <tr>\n      <th rowspan=\"3\" valign=\"top\">FL</th>\n      <th>43386009019</th>\n      <td>MCOU</td>\n      <td>GAVILYTE-G</td>\n      <td>596000.0</td>\n      <td>149.0</td>\n      <td>1910.49</td>\n      <td>1906.79</td>\n      <td>3.7</td>\n      <td>(27.8333, -81.717)</td>\n      <td>3808334.0</td>\n    </tr>\n    <tr>\n      <th>43386009019</th>\n      <td>MCOU</td>\n      <td>GAVILYTE-G</td>\n      <td>676000.0</td>\n      <td>169.0</td>\n      <td>2137.42</td>\n      <td>2137.42</td>\n      <td>0.0</td>\n      <td>(27.8333, -81.717)</td>\n      <td>3808334.0</td>\n    </tr>\n    <tr>\n      <th>43386009019</th>\n      <td>MCOU</td>\n      <td>GAVILYTE-G</td>\n      <td>576000.0</td>\n      <td>144.0</td>\n      <td>1920.29</td>\n      <td>1920.29</td>\n      <td>0.0</td>\n      <td>(27.8333, -81.717)</td>\n      <td>3808334.0</td>\n    </tr>\n  </tbody>\n</table>\n</div>"
     },
     "execution_count": 52,
     "metadata": {},
     "output_type": "execute_result"
    }
   ],
   "source": [
    "medicaid_data_w_enrollments_hierarch.loc['FL', 43386009019]"
   ],
   "metadata": {
    "collapsed": false,
    "pycharm": {
     "name": "#%%\n"
    }
   }
  },
  {
   "cell_type": "code",
   "execution_count": 53,
   "outputs": [
    {
     "name": "stderr",
     "output_type": "stream",
     "text": [
      "/var/folders/jn/lb25bnzx4js5f2jfpwzh8brw0000gn/T/ipykernel_41793/2466570507.py:1: PerformanceWarning: indexing past lexsort depth may impact performance.\n",
      "  medicaid_data_w_enrollments_hierarch.loc['AZ', 43386009019]\n"
     ]
    },
    {
     "data": {
      "text/plain": "                  UTILIZATION TYPE PRODUCT NAME  UNITS REIMBURSED  \\\nSTATE NDC                                                           \nAZ    43386009019             MCOU   GAVILYTE-G         7828400.0   \n      43386009019             MCOU   GAVILYTE-G         6060000.0   \n      43386009019             MCOU   GAVILYTE-G         7040000.0   \n\n                   NUMBER OF PRESCRIPTIONS  TOTAL AMOUNT REIMBURSED  \\\nSTATE NDC                                                             \nAZ    43386009019                   1909.0                 28182.24   \n      43386009019                   1499.0                 20287.85   \n      43386009019                   1731.0                 26035.13   \n\n                   MEDICAID AMOUNT REIMBURSED  NON MEDICAID AMOUNT REIMBURSED  \\\nSTATE NDC                                                                       \nAZ    43386009019                    28131.21                           51.03   \n      43386009019                    20267.83                           20.02   \n      43386009019                    25939.95                           95.18   \n\n                               LOCATION  TOTAL MEDICAID ENROLLEES  \nSTATE NDC                                                          \nAZ    43386009019  (33.7712, -111.3877)                 1740520.0  \n      43386009019  (33.7712, -111.3877)                 1740520.0  \n      43386009019  (33.7712, -111.3877)                 1740520.0  ",
      "text/html": "<div>\n<style scoped>\n    .dataframe tbody tr th:only-of-type {\n        vertical-align: middle;\n    }\n\n    .dataframe tbody tr th {\n        vertical-align: top;\n    }\n\n    .dataframe thead th {\n        text-align: right;\n    }\n</style>\n<table border=\"1\" class=\"dataframe\">\n  <thead>\n    <tr style=\"text-align: right;\">\n      <th></th>\n      <th></th>\n      <th>UTILIZATION TYPE</th>\n      <th>PRODUCT NAME</th>\n      <th>UNITS REIMBURSED</th>\n      <th>NUMBER OF PRESCRIPTIONS</th>\n      <th>TOTAL AMOUNT REIMBURSED</th>\n      <th>MEDICAID AMOUNT REIMBURSED</th>\n      <th>NON MEDICAID AMOUNT REIMBURSED</th>\n      <th>LOCATION</th>\n      <th>TOTAL MEDICAID ENROLLEES</th>\n    </tr>\n    <tr>\n      <th>STATE</th>\n      <th>NDC</th>\n      <th></th>\n      <th></th>\n      <th></th>\n      <th></th>\n      <th></th>\n      <th></th>\n      <th></th>\n      <th></th>\n      <th></th>\n    </tr>\n  </thead>\n  <tbody>\n    <tr>\n      <th rowspan=\"3\" valign=\"top\">AZ</th>\n      <th>43386009019</th>\n      <td>MCOU</td>\n      <td>GAVILYTE-G</td>\n      <td>7828400.0</td>\n      <td>1909.0</td>\n      <td>28182.24</td>\n      <td>28131.21</td>\n      <td>51.03</td>\n      <td>(33.7712, -111.3877)</td>\n      <td>1740520.0</td>\n    </tr>\n    <tr>\n      <th>43386009019</th>\n      <td>MCOU</td>\n      <td>GAVILYTE-G</td>\n      <td>6060000.0</td>\n      <td>1499.0</td>\n      <td>20287.85</td>\n      <td>20267.83</td>\n      <td>20.02</td>\n      <td>(33.7712, -111.3877)</td>\n      <td>1740520.0</td>\n    </tr>\n    <tr>\n      <th>43386009019</th>\n      <td>MCOU</td>\n      <td>GAVILYTE-G</td>\n      <td>7040000.0</td>\n      <td>1731.0</td>\n      <td>26035.13</td>\n      <td>25939.95</td>\n      <td>95.18</td>\n      <td>(33.7712, -111.3877)</td>\n      <td>1740520.0</td>\n    </tr>\n  </tbody>\n</table>\n</div>"
     },
     "execution_count": 53,
     "metadata": {},
     "output_type": "execute_result"
    }
   ],
   "source": [
    "medicaid_data_w_enrollments_hierarch.loc['AZ', 43386009019]"
   ],
   "metadata": {
    "collapsed": false,
    "pycharm": {
     "name": "#%%\n"
    }
   }
  },
  {
   "cell_type": "markdown",
   "metadata": {},
   "source": [
    "* Find and list all unique `NDC`s for which the difference between the largest and second large log-normalized ratio by state is at least 10.\n",
    "\n",
    "* For instance:\n",
    "  * The highest log-normalized ratio for `00591289749` (`AZACITIDIN`) is OK where it has a log-normalized ratio  of `-1.025642`.\n",
    "  * The second highest log-normalized ratio for `00591289749` is in `GA` where is has a log-normalized ration of  `-12.623428`\n",
    "  \n"
   ]
  },
  {
   "cell_type": "code",
   "execution_count": 54,
   "outputs": [
    {
     "data": {
      "text/plain": "NDC    2143380      2143480      2144511      2144527      2197590      \\\nSTATE                                                                    \nAK       -9.609109   -10.008280          NaN          NaN          NaN   \nAL       -9.940595    -9.805485          NaN          NaN          NaN   \nAR      -12.985157   -12.657103          NaN          NaN          NaN   \nAZ      -11.533870   -10.821194          NaN          NaN          NaN   \nCA      -10.926863   -10.698372   -16.127018          NaN    -9.464364   \nCO      -10.862982    -9.925954          NaN          NaN    -7.608472   \nCT       -8.405103    -7.948475   -12.411014          NaN    -6.677343   \nDC             NaN          NaN          NaN          NaN          NaN   \nDE             NaN   -10.274536          NaN          NaN          NaN   \nFL      -13.534299   -12.569558   -18.053374          NaN   -10.239592   \nGA      -15.018034   -13.858835          NaN          NaN          NaN   \nHI       -8.747994    -7.987181          NaN          NaN          NaN   \nIA             NaN   -11.726673          NaN          NaN          NaN   \nID      -10.620398   -10.014219          NaN          NaN          NaN   \nIL      -10.688482   -10.406940   -16.181427          NaN          NaN   \nIN       -8.305096    -7.688026          NaN          NaN    -7.584248   \nKS      -10.895518    -9.835536          NaN          NaN    -7.487729   \nKY       -8.325745    -8.097982   -14.338234          NaN    -6.942597   \nLA       -9.150146    -8.747732          NaN          NaN          NaN   \nMA       -7.921997    -7.803463   -13.472194          NaN    -7.741402   \nMD       -8.788942    -8.598997          NaN          NaN    -6.491564   \nME      -10.522622    -9.141564          NaN          NaN          NaN   \nMI      -12.343430   -11.316613          NaN          NaN          NaN   \nMN       -8.661399    -7.883399   -14.481856          NaN          NaN   \nMO      -11.183484   -10.206768          NaN          NaN    -9.549612   \nMS      -13.744104          NaN          NaN          NaN          NaN   \nMT      -10.072184    -9.539963          NaN          NaN          NaN   \nNC      -10.721813   -10.172403   -15.234263          NaN          NaN   \nND             NaN          NaN          NaN          NaN          NaN   \nNE      -10.225587   -10.011462          NaN          NaN          NaN   \nNH      -11.338110   -10.425886          NaN          NaN          NaN   \nNJ      -11.063407   -10.389527   -16.379915          NaN    -8.537564   \nNM      -11.101464   -11.164200          NaN          NaN          NaN   \nNV       -9.527766    -9.015820          NaN          NaN          NaN   \nNY       -9.660599    -9.235781   -14.055095          NaN    -6.634022   \nOH       -8.540125    -8.629338   -14.069577    -16.63842    -5.551620   \nOK      -12.358208   -10.550853          NaN          NaN          NaN   \nOR      -11.467104   -11.061180          NaN          NaN          NaN   \nPA       -7.378007    -7.672800   -14.663549          NaN    -8.515650   \nRI      -10.377028   -12.280813          NaN          NaN          NaN   \nSC      -10.695086   -10.028451          NaN          NaN    -9.098535   \nSD       -9.568199    -9.218392          NaN          NaN          NaN   \nTN      -12.240261   -11.699134          NaN          NaN          NaN   \nTX      -11.361813   -10.857851          NaN          NaN          NaN   \nUT      -12.066772   -10.625645          NaN          NaN          NaN   \nVA       -9.779228    -9.485665          NaN          NaN          NaN   \nVT      -11.085710   -10.407638          NaN          NaN          NaN   \nWA      -11.374062   -11.446073   -14.825948          NaN          NaN   \nWI      -14.299344   -14.884306          NaN          NaN          NaN   \nWV      -10.526494    -9.958528          NaN          NaN          NaN   \nWY             NaN          NaN          NaN          NaN          NaN   \n\nNDC    2322730      2322830      2322930      2323030      2323130      ...  \\\nSTATE                                                                   ...   \nAK       -6.109830    -4.444321    -3.855995          NaN          NaN  ...   \nAL       -5.336260    -4.243688    -3.645575          NaN          NaN  ...   \nAR       -4.720964    -2.886635    -2.617579          NaN          NaN  ...   \nAZ       -5.312806    -3.998085    -3.401510          NaN          NaN  ...   \nCA       -7.429936    -6.286911    -5.864352          NaN          NaN  ...   \nCO       -5.075762    -3.870805    -3.362432          NaN          NaN  ...   \nCT       -4.920683    -3.735907    -3.137814          NaN          NaN  ...   \nDC             NaN          NaN          NaN          NaN          NaN  ...   \nDE       -6.343799    -4.543070    -3.888018          NaN          NaN  ...   \nFL       -5.474293    -3.984721    -3.643438          NaN          NaN  ...   \nGA       -6.932782    -5.512123    -4.684543          NaN          NaN  ...   \nHI       -9.926139    -6.742993    -5.730117          NaN          NaN  ...   \nIA       -4.462918    -2.487967    -2.370303          NaN          NaN  ...   \nID       -4.638038    -2.627334    -2.094290          NaN          NaN  ...   \nIL       -7.843704    -6.306865    -5.968019          NaN          NaN  ...   \nIN       -4.805229    -3.044753    -2.696356          NaN          NaN  ...   \nKS       -3.424150    -2.224795    -1.793863          NaN          NaN  ...   \nKY       -6.299138    -4.528181    -3.965826          NaN          NaN  ...   \nLA       -7.525024    -5.153548    -4.590566          NaN          NaN  ...   \nMA       -5.414724    -4.592154    -4.205626          NaN          NaN  ...   \nMD       -5.233729    -4.227594    -3.849236          NaN          NaN  ...   \nME       -4.606803    -3.319299    -2.791788          NaN          NaN  ...   \nMI       -6.304659    -4.462172    -4.048108          NaN          NaN  ...   \nMN       -5.039408    -3.522184    -2.924746          NaN          NaN  ...   \nMO       -3.647826    -2.587634    -2.562984          NaN          NaN  ...   \nMS       -6.000267    -3.777652    -3.429290          NaN          NaN  ...   \nMT       -3.204003    -1.802734    -1.327376          NaN          NaN  ...   \nNC       -4.714338    -3.569102    -3.356784    -9.372872    -8.261931  ...   \nND       -4.782908    -3.238258    -3.168621          NaN          NaN  ...   \nNE       -4.564379    -2.549454    -2.406110          NaN          NaN  ...   \nNH       -4.920726    -4.273068    -3.694253          NaN          NaN  ...   \nNJ       -6.315441    -5.422486    -4.866039          NaN          NaN  ...   \nNM       -7.701493    -6.358420    -5.586184          NaN          NaN  ...   \nNV       -6.609936    -5.263074    -4.657108          NaN          NaN  ...   \nNY       -6.851969    -5.392766    -5.027750          NaN          NaN  ...   \nOH       -5.798298    -4.134254    -3.403503          NaN          NaN  ...   \nOK       -4.210681    -2.725213    -2.517490          NaN          NaN  ...   \nOR       -4.754416    -4.014689    -3.167008          NaN          NaN  ...   \nPA       -4.623149    -3.091035    -2.718405          NaN          NaN  ...   \nRI       -6.575459    -5.352366    -4.737781          NaN          NaN  ...   \nSC       -6.887869    -5.359647    -4.817612          NaN          NaN  ...   \nSD       -4.400475    -2.979393    -2.908769          NaN          NaN  ...   \nTN       -4.779383    -3.362376    -2.897457          NaN          NaN  ...   \nTX       -5.027524    -3.398234    -3.215662          NaN          NaN  ...   \nUT       -4.433167    -3.277107    -2.499801          NaN          NaN  ...   \nVA       -5.945341    -3.983568    -3.554190          NaN          NaN  ...   \nVT       -4.982919    -3.415445    -2.981318          NaN          NaN  ...   \nWA       -5.785232    -4.582696    -3.841028          NaN          NaN  ...   \nWI       -4.272083    -3.027832    -2.718850          NaN          NaN  ...   \nWV       -4.650541    -2.983420    -2.546478          NaN          NaN  ...   \nWY       -3.894089    -2.334932    -1.990146          NaN          NaN  ...   \n\nNDC    76439035930  76439035990  76439036290  76439036390  76439036490  \\\nSTATE                                                                    \nAK             NaN          NaN          NaN          NaN          NaN   \nAL             NaN          NaN          NaN          NaN    -8.518493   \nAR             NaN          NaN          NaN          NaN          NaN   \nAZ      -11.824196          NaN          NaN          NaN          NaN   \nCA             NaN          NaN          NaN          NaN          NaN   \nCO             NaN          NaN          NaN          NaN          NaN   \nCT             NaN          NaN          NaN          NaN          NaN   \nDC             NaN          NaN          NaN          NaN          NaN   \nDE             NaN          NaN          NaN          NaN          NaN   \nFL             NaN          NaN          NaN          NaN          NaN   \nGA             NaN          NaN          NaN          NaN          NaN   \nHI             NaN          NaN          NaN          NaN          NaN   \nIA             NaN          NaN          NaN          NaN          NaN   \nID             NaN          NaN          NaN          NaN          NaN   \nIL             NaN          NaN          NaN   -12.274537   -12.341651   \nIN             NaN          NaN          NaN          NaN   -11.150101   \nKS       -9.749994          NaN          NaN          NaN          NaN   \nKY       -8.558780   -10.993223    -8.441462          NaN          NaN   \nLA             NaN          NaN          NaN          NaN          NaN   \nMA             NaN          NaN          NaN          NaN          NaN   \nMD             NaN          NaN          NaN          NaN          NaN   \nME             NaN          NaN          NaN          NaN          NaN   \nMI             NaN          NaN          NaN          NaN   -13.098555   \nMN             NaN          NaN          NaN          NaN          NaN   \nMO             NaN          NaN          NaN          NaN   -10.854467   \nMS             NaN          NaN          NaN          NaN          NaN   \nMT             NaN          NaN          NaN          NaN          NaN   \nNC             NaN          NaN          NaN          NaN          NaN   \nND             NaN          NaN          NaN          NaN          NaN   \nNE             NaN          NaN          NaN          NaN          NaN   \nNH             NaN          NaN          NaN          NaN          NaN   \nNJ             NaN          NaN          NaN          NaN   -11.151096   \nNM             NaN          NaN          NaN          NaN          NaN   \nNV             NaN          NaN          NaN    -7.767459    -5.335093   \nNY             NaN          NaN          NaN          NaN   -12.588218   \nOH             NaN          NaN          NaN          NaN    -7.626261   \nOK             NaN          NaN          NaN          NaN          NaN   \nOR             NaN          NaN          NaN          NaN          NaN   \nPA             NaN          NaN          NaN          NaN    -9.698115   \nRI             NaN          NaN          NaN          NaN          NaN   \nSC             NaN          NaN          NaN          NaN    -8.246980   \nSD             NaN          NaN          NaN          NaN          NaN   \nTN             NaN          NaN          NaN          NaN          NaN   \nTX             NaN          NaN          NaN          NaN          NaN   \nUT             NaN          NaN          NaN          NaN          NaN   \nVA             NaN   -10.151948   -10.374090          NaN          NaN   \nVT             NaN          NaN          NaN          NaN          NaN   \nWA             NaN          NaN          NaN          NaN          NaN   \nWI             NaN          NaN          NaN          NaN          NaN   \nWV             NaN          NaN          NaN          NaN          NaN   \nWY             NaN          NaN          NaN          NaN          NaN   \n\nNDC    76439036590  99207013070  99207024005  99207026012  99207046330  \nSTATE                                                                   \nAK             NaN          NaN          NaN          NaN          NaN  \nAL             NaN          NaN          NaN          NaN          NaN  \nAR             NaN          NaN          NaN          NaN          NaN  \nAZ             NaN          NaN          NaN          NaN          NaN  \nCA             NaN   -11.952415          NaN          NaN   -15.150865  \nCO             NaN          NaN          NaN          NaN   -11.041431  \nCT       -7.683292          NaN          NaN          NaN   -10.459198  \nDC             NaN          NaN          NaN          NaN          NaN  \nDE             NaN          NaN          NaN          NaN          NaN  \nFL             NaN          NaN          NaN          NaN          NaN  \nGA             NaN          NaN          NaN          NaN          NaN  \nHI             NaN          NaN          NaN          NaN          NaN  \nIA             NaN          NaN          NaN          NaN          NaN  \nID             NaN          NaN          NaN   -10.235734          NaN  \nIL      -11.341651          NaN          NaN          NaN          NaN  \nIN      -10.150101          NaN          NaN          NaN          NaN  \nKS             NaN          NaN          NaN          NaN          NaN  \nKY      -10.494769          NaN          NaN          NaN          NaN  \nLA       -6.725677          NaN          NaN          NaN          NaN  \nMA             NaN          NaN          NaN          NaN          NaN  \nMD             NaN          NaN          NaN          NaN          NaN  \nME             NaN          NaN          NaN          NaN          NaN  \nMI      -11.224086          NaN          NaN          NaN          NaN  \nMN       -9.464321          NaN          NaN    -9.093277          NaN  \nMO      -10.241490          NaN          NaN          NaN          NaN  \nMS             NaN          NaN          NaN          NaN          NaN  \nMT             NaN          NaN          NaN    -6.247495          NaN  \nNC             NaN          NaN          NaN    -5.502345          NaN  \nND             NaN          NaN          NaN          NaN          NaN  \nNE             NaN          NaN          NaN          NaN          NaN  \nNH             NaN          NaN          NaN          NaN          NaN  \nNJ      -10.494829          NaN          NaN          NaN          NaN  \nNM             NaN          NaN          NaN          NaN          NaN  \nNV       -6.053763          NaN          NaN          NaN          NaN  \nNY      -12.216249          NaN   -14.031825          NaN          NaN  \nOH       -7.216145          NaN          NaN          NaN          NaN  \nOK             NaN          NaN          NaN          NaN          NaN  \nOR             NaN          NaN          NaN          NaN          NaN  \nPA       -9.289037          NaN          NaN          NaN          NaN  \nRI             NaN          NaN          NaN          NaN          NaN  \nSC       -7.914855          NaN          NaN   -12.005426          NaN  \nSD             NaN          NaN          NaN          NaN          NaN  \nTN             NaN          NaN          NaN          NaN          NaN  \nTX             NaN          NaN          NaN          NaN          NaN  \nUT             NaN          NaN          NaN          NaN          NaN  \nVA             NaN          NaN          NaN          NaN          NaN  \nVT             NaN          NaN          NaN    -9.560169          NaN  \nWA       -9.060588          NaN          NaN          NaN          NaN  \nWI             NaN          NaN          NaN    -6.134353          NaN  \nWV             NaN          NaN          NaN          NaN          NaN  \nWY             NaN          NaN          NaN          NaN          NaN  \n\n[51 rows x 23885 columns]",
      "text/html": "<div>\n<style scoped>\n    .dataframe tbody tr th:only-of-type {\n        vertical-align: middle;\n    }\n\n    .dataframe tbody tr th {\n        vertical-align: top;\n    }\n\n    .dataframe thead th {\n        text-align: right;\n    }\n</style>\n<table border=\"1\" class=\"dataframe\">\n  <thead>\n    <tr style=\"text-align: right;\">\n      <th>NDC</th>\n      <th>2143380</th>\n      <th>2143480</th>\n      <th>2144511</th>\n      <th>2144527</th>\n      <th>2197590</th>\n      <th>2322730</th>\n      <th>2322830</th>\n      <th>2322930</th>\n      <th>2323030</th>\n      <th>2323130</th>\n      <th>...</th>\n      <th>76439035930</th>\n      <th>76439035990</th>\n      <th>76439036290</th>\n      <th>76439036390</th>\n      <th>76439036490</th>\n      <th>76439036590</th>\n      <th>99207013070</th>\n      <th>99207024005</th>\n      <th>99207026012</th>\n      <th>99207046330</th>\n    </tr>\n    <tr>\n      <th>STATE</th>\n      <th></th>\n      <th></th>\n      <th></th>\n      <th></th>\n      <th></th>\n      <th></th>\n      <th></th>\n      <th></th>\n      <th></th>\n      <th></th>\n      <th></th>\n      <th></th>\n      <th></th>\n      <th></th>\n      <th></th>\n      <th></th>\n      <th></th>\n      <th></th>\n      <th></th>\n      <th></th>\n      <th></th>\n    </tr>\n  </thead>\n  <tbody>\n    <tr>\n      <th>AK</th>\n      <td>-9.609109</td>\n      <td>-10.008280</td>\n      <td>NaN</td>\n      <td>NaN</td>\n      <td>NaN</td>\n      <td>-6.109830</td>\n      <td>-4.444321</td>\n      <td>-3.855995</td>\n      <td>NaN</td>\n      <td>NaN</td>\n      <td>...</td>\n      <td>NaN</td>\n      <td>NaN</td>\n      <td>NaN</td>\n      <td>NaN</td>\n      <td>NaN</td>\n      <td>NaN</td>\n      <td>NaN</td>\n      <td>NaN</td>\n      <td>NaN</td>\n      <td>NaN</td>\n    </tr>\n    <tr>\n      <th>AL</th>\n      <td>-9.940595</td>\n      <td>-9.805485</td>\n      <td>NaN</td>\n      <td>NaN</td>\n      <td>NaN</td>\n      <td>-5.336260</td>\n      <td>-4.243688</td>\n      <td>-3.645575</td>\n      <td>NaN</td>\n      <td>NaN</td>\n      <td>...</td>\n      <td>NaN</td>\n      <td>NaN</td>\n      <td>NaN</td>\n      <td>NaN</td>\n      <td>-8.518493</td>\n      <td>NaN</td>\n      <td>NaN</td>\n      <td>NaN</td>\n      <td>NaN</td>\n      <td>NaN</td>\n    </tr>\n    <tr>\n      <th>AR</th>\n      <td>-12.985157</td>\n      <td>-12.657103</td>\n      <td>NaN</td>\n      <td>NaN</td>\n      <td>NaN</td>\n      <td>-4.720964</td>\n      <td>-2.886635</td>\n      <td>-2.617579</td>\n      <td>NaN</td>\n      <td>NaN</td>\n      <td>...</td>\n      <td>NaN</td>\n      <td>NaN</td>\n      <td>NaN</td>\n      <td>NaN</td>\n      <td>NaN</td>\n      <td>NaN</td>\n      <td>NaN</td>\n      <td>NaN</td>\n      <td>NaN</td>\n      <td>NaN</td>\n    </tr>\n    <tr>\n      <th>AZ</th>\n      <td>-11.533870</td>\n      <td>-10.821194</td>\n      <td>NaN</td>\n      <td>NaN</td>\n      <td>NaN</td>\n      <td>-5.312806</td>\n      <td>-3.998085</td>\n      <td>-3.401510</td>\n      <td>NaN</td>\n      <td>NaN</td>\n      <td>...</td>\n      <td>-11.824196</td>\n      <td>NaN</td>\n      <td>NaN</td>\n      <td>NaN</td>\n      <td>NaN</td>\n      <td>NaN</td>\n      <td>NaN</td>\n      <td>NaN</td>\n      <td>NaN</td>\n      <td>NaN</td>\n    </tr>\n    <tr>\n      <th>CA</th>\n      <td>-10.926863</td>\n      <td>-10.698372</td>\n      <td>-16.127018</td>\n      <td>NaN</td>\n      <td>-9.464364</td>\n      <td>-7.429936</td>\n      <td>-6.286911</td>\n      <td>-5.864352</td>\n      <td>NaN</td>\n      <td>NaN</td>\n      <td>...</td>\n      <td>NaN</td>\n      <td>NaN</td>\n      <td>NaN</td>\n      <td>NaN</td>\n      <td>NaN</td>\n      <td>NaN</td>\n      <td>-11.952415</td>\n      <td>NaN</td>\n      <td>NaN</td>\n      <td>-15.150865</td>\n    </tr>\n    <tr>\n      <th>CO</th>\n      <td>-10.862982</td>\n      <td>-9.925954</td>\n      <td>NaN</td>\n      <td>NaN</td>\n      <td>-7.608472</td>\n      <td>-5.075762</td>\n      <td>-3.870805</td>\n      <td>-3.362432</td>\n      <td>NaN</td>\n      <td>NaN</td>\n      <td>...</td>\n      <td>NaN</td>\n      <td>NaN</td>\n      <td>NaN</td>\n      <td>NaN</td>\n      <td>NaN</td>\n      <td>NaN</td>\n      <td>NaN</td>\n      <td>NaN</td>\n      <td>NaN</td>\n      <td>-11.041431</td>\n    </tr>\n    <tr>\n      <th>CT</th>\n      <td>-8.405103</td>\n      <td>-7.948475</td>\n      <td>-12.411014</td>\n      <td>NaN</td>\n      <td>-6.677343</td>\n      <td>-4.920683</td>\n      <td>-3.735907</td>\n      <td>-3.137814</td>\n      <td>NaN</td>\n      <td>NaN</td>\n      <td>...</td>\n      <td>NaN</td>\n      <td>NaN</td>\n      <td>NaN</td>\n      <td>NaN</td>\n      <td>NaN</td>\n      <td>-7.683292</td>\n      <td>NaN</td>\n      <td>NaN</td>\n      <td>NaN</td>\n      <td>-10.459198</td>\n    </tr>\n    <tr>\n      <th>DC</th>\n      <td>NaN</td>\n      <td>NaN</td>\n      <td>NaN</td>\n      <td>NaN</td>\n      <td>NaN</td>\n      <td>NaN</td>\n      <td>NaN</td>\n      <td>NaN</td>\n      <td>NaN</td>\n      <td>NaN</td>\n      <td>...</td>\n      <td>NaN</td>\n      <td>NaN</td>\n      <td>NaN</td>\n      <td>NaN</td>\n      <td>NaN</td>\n      <td>NaN</td>\n      <td>NaN</td>\n      <td>NaN</td>\n      <td>NaN</td>\n      <td>NaN</td>\n    </tr>\n    <tr>\n      <th>DE</th>\n      <td>NaN</td>\n      <td>-10.274536</td>\n      <td>NaN</td>\n      <td>NaN</td>\n      <td>NaN</td>\n      <td>-6.343799</td>\n      <td>-4.543070</td>\n      <td>-3.888018</td>\n      <td>NaN</td>\n      <td>NaN</td>\n      <td>...</td>\n      <td>NaN</td>\n      <td>NaN</td>\n      <td>NaN</td>\n      <td>NaN</td>\n      <td>NaN</td>\n      <td>NaN</td>\n      <td>NaN</td>\n      <td>NaN</td>\n      <td>NaN</td>\n      <td>NaN</td>\n    </tr>\n    <tr>\n      <th>FL</th>\n      <td>-13.534299</td>\n      <td>-12.569558</td>\n      <td>-18.053374</td>\n      <td>NaN</td>\n      <td>-10.239592</td>\n      <td>-5.474293</td>\n      <td>-3.984721</td>\n      <td>-3.643438</td>\n      <td>NaN</td>\n      <td>NaN</td>\n      <td>...</td>\n      <td>NaN</td>\n      <td>NaN</td>\n      <td>NaN</td>\n      <td>NaN</td>\n      <td>NaN</td>\n      <td>NaN</td>\n      <td>NaN</td>\n      <td>NaN</td>\n      <td>NaN</td>\n      <td>NaN</td>\n    </tr>\n    <tr>\n      <th>GA</th>\n      <td>-15.018034</td>\n      <td>-13.858835</td>\n      <td>NaN</td>\n      <td>NaN</td>\n      <td>NaN</td>\n      <td>-6.932782</td>\n      <td>-5.512123</td>\n      <td>-4.684543</td>\n      <td>NaN</td>\n      <td>NaN</td>\n      <td>...</td>\n      <td>NaN</td>\n      <td>NaN</td>\n      <td>NaN</td>\n      <td>NaN</td>\n      <td>NaN</td>\n      <td>NaN</td>\n      <td>NaN</td>\n      <td>NaN</td>\n      <td>NaN</td>\n      <td>NaN</td>\n    </tr>\n    <tr>\n      <th>HI</th>\n      <td>-8.747994</td>\n      <td>-7.987181</td>\n      <td>NaN</td>\n      <td>NaN</td>\n      <td>NaN</td>\n      <td>-9.926139</td>\n      <td>-6.742993</td>\n      <td>-5.730117</td>\n      <td>NaN</td>\n      <td>NaN</td>\n      <td>...</td>\n      <td>NaN</td>\n      <td>NaN</td>\n      <td>NaN</td>\n      <td>NaN</td>\n      <td>NaN</td>\n      <td>NaN</td>\n      <td>NaN</td>\n      <td>NaN</td>\n      <td>NaN</td>\n      <td>NaN</td>\n    </tr>\n    <tr>\n      <th>IA</th>\n      <td>NaN</td>\n      <td>-11.726673</td>\n      <td>NaN</td>\n      <td>NaN</td>\n      <td>NaN</td>\n      <td>-4.462918</td>\n      <td>-2.487967</td>\n      <td>-2.370303</td>\n      <td>NaN</td>\n      <td>NaN</td>\n      <td>...</td>\n      <td>NaN</td>\n      <td>NaN</td>\n      <td>NaN</td>\n      <td>NaN</td>\n      <td>NaN</td>\n      <td>NaN</td>\n      <td>NaN</td>\n      <td>NaN</td>\n      <td>NaN</td>\n      <td>NaN</td>\n    </tr>\n    <tr>\n      <th>ID</th>\n      <td>-10.620398</td>\n      <td>-10.014219</td>\n      <td>NaN</td>\n      <td>NaN</td>\n      <td>NaN</td>\n      <td>-4.638038</td>\n      <td>-2.627334</td>\n      <td>-2.094290</td>\n      <td>NaN</td>\n      <td>NaN</td>\n      <td>...</td>\n      <td>NaN</td>\n      <td>NaN</td>\n      <td>NaN</td>\n      <td>NaN</td>\n      <td>NaN</td>\n      <td>NaN</td>\n      <td>NaN</td>\n      <td>NaN</td>\n      <td>-10.235734</td>\n      <td>NaN</td>\n    </tr>\n    <tr>\n      <th>IL</th>\n      <td>-10.688482</td>\n      <td>-10.406940</td>\n      <td>-16.181427</td>\n      <td>NaN</td>\n      <td>NaN</td>\n      <td>-7.843704</td>\n      <td>-6.306865</td>\n      <td>-5.968019</td>\n      <td>NaN</td>\n      <td>NaN</td>\n      <td>...</td>\n      <td>NaN</td>\n      <td>NaN</td>\n      <td>NaN</td>\n      <td>-12.274537</td>\n      <td>-12.341651</td>\n      <td>-11.341651</td>\n      <td>NaN</td>\n      <td>NaN</td>\n      <td>NaN</td>\n      <td>NaN</td>\n    </tr>\n    <tr>\n      <th>IN</th>\n      <td>-8.305096</td>\n      <td>-7.688026</td>\n      <td>NaN</td>\n      <td>NaN</td>\n      <td>-7.584248</td>\n      <td>-4.805229</td>\n      <td>-3.044753</td>\n      <td>-2.696356</td>\n      <td>NaN</td>\n      <td>NaN</td>\n      <td>...</td>\n      <td>NaN</td>\n      <td>NaN</td>\n      <td>NaN</td>\n      <td>NaN</td>\n      <td>-11.150101</td>\n      <td>-10.150101</td>\n      <td>NaN</td>\n      <td>NaN</td>\n      <td>NaN</td>\n      <td>NaN</td>\n    </tr>\n    <tr>\n      <th>KS</th>\n      <td>-10.895518</td>\n      <td>-9.835536</td>\n      <td>NaN</td>\n      <td>NaN</td>\n      <td>-7.487729</td>\n      <td>-3.424150</td>\n      <td>-2.224795</td>\n      <td>-1.793863</td>\n      <td>NaN</td>\n      <td>NaN</td>\n      <td>...</td>\n      <td>-9.749994</td>\n      <td>NaN</td>\n      <td>NaN</td>\n      <td>NaN</td>\n      <td>NaN</td>\n      <td>NaN</td>\n      <td>NaN</td>\n      <td>NaN</td>\n      <td>NaN</td>\n      <td>NaN</td>\n    </tr>\n    <tr>\n      <th>KY</th>\n      <td>-8.325745</td>\n      <td>-8.097982</td>\n      <td>-14.338234</td>\n      <td>NaN</td>\n      <td>-6.942597</td>\n      <td>-6.299138</td>\n      <td>-4.528181</td>\n      <td>-3.965826</td>\n      <td>NaN</td>\n      <td>NaN</td>\n      <td>...</td>\n      <td>-8.558780</td>\n      <td>-10.993223</td>\n      <td>-8.441462</td>\n      <td>NaN</td>\n      <td>NaN</td>\n      <td>-10.494769</td>\n      <td>NaN</td>\n      <td>NaN</td>\n      <td>NaN</td>\n      <td>NaN</td>\n    </tr>\n    <tr>\n      <th>LA</th>\n      <td>-9.150146</td>\n      <td>-8.747732</td>\n      <td>NaN</td>\n      <td>NaN</td>\n      <td>NaN</td>\n      <td>-7.525024</td>\n      <td>-5.153548</td>\n      <td>-4.590566</td>\n      <td>NaN</td>\n      <td>NaN</td>\n      <td>...</td>\n      <td>NaN</td>\n      <td>NaN</td>\n      <td>NaN</td>\n      <td>NaN</td>\n      <td>NaN</td>\n      <td>-6.725677</td>\n      <td>NaN</td>\n      <td>NaN</td>\n      <td>NaN</td>\n      <td>NaN</td>\n    </tr>\n    <tr>\n      <th>MA</th>\n      <td>-7.921997</td>\n      <td>-7.803463</td>\n      <td>-13.472194</td>\n      <td>NaN</td>\n      <td>-7.741402</td>\n      <td>-5.414724</td>\n      <td>-4.592154</td>\n      <td>-4.205626</td>\n      <td>NaN</td>\n      <td>NaN</td>\n      <td>...</td>\n      <td>NaN</td>\n      <td>NaN</td>\n      <td>NaN</td>\n      <td>NaN</td>\n      <td>NaN</td>\n      <td>NaN</td>\n      <td>NaN</td>\n      <td>NaN</td>\n      <td>NaN</td>\n      <td>NaN</td>\n    </tr>\n    <tr>\n      <th>MD</th>\n      <td>-8.788942</td>\n      <td>-8.598997</td>\n      <td>NaN</td>\n      <td>NaN</td>\n      <td>-6.491564</td>\n      <td>-5.233729</td>\n      <td>-4.227594</td>\n      <td>-3.849236</td>\n      <td>NaN</td>\n      <td>NaN</td>\n      <td>...</td>\n      <td>NaN</td>\n      <td>NaN</td>\n      <td>NaN</td>\n      <td>NaN</td>\n      <td>NaN</td>\n      <td>NaN</td>\n      <td>NaN</td>\n      <td>NaN</td>\n      <td>NaN</td>\n      <td>NaN</td>\n    </tr>\n    <tr>\n      <th>ME</th>\n      <td>-10.522622</td>\n      <td>-9.141564</td>\n      <td>NaN</td>\n      <td>NaN</td>\n      <td>NaN</td>\n      <td>-4.606803</td>\n      <td>-3.319299</td>\n      <td>-2.791788</td>\n      <td>NaN</td>\n      <td>NaN</td>\n      <td>...</td>\n      <td>NaN</td>\n      <td>NaN</td>\n      <td>NaN</td>\n      <td>NaN</td>\n      <td>NaN</td>\n      <td>NaN</td>\n      <td>NaN</td>\n      <td>NaN</td>\n      <td>NaN</td>\n      <td>NaN</td>\n    </tr>\n    <tr>\n      <th>MI</th>\n      <td>-12.343430</td>\n      <td>-11.316613</td>\n      <td>NaN</td>\n      <td>NaN</td>\n      <td>NaN</td>\n      <td>-6.304659</td>\n      <td>-4.462172</td>\n      <td>-4.048108</td>\n      <td>NaN</td>\n      <td>NaN</td>\n      <td>...</td>\n      <td>NaN</td>\n      <td>NaN</td>\n      <td>NaN</td>\n      <td>NaN</td>\n      <td>-13.098555</td>\n      <td>-11.224086</td>\n      <td>NaN</td>\n      <td>NaN</td>\n      <td>NaN</td>\n      <td>NaN</td>\n    </tr>\n    <tr>\n      <th>MN</th>\n      <td>-8.661399</td>\n      <td>-7.883399</td>\n      <td>-14.481856</td>\n      <td>NaN</td>\n      <td>NaN</td>\n      <td>-5.039408</td>\n      <td>-3.522184</td>\n      <td>-2.924746</td>\n      <td>NaN</td>\n      <td>NaN</td>\n      <td>...</td>\n      <td>NaN</td>\n      <td>NaN</td>\n      <td>NaN</td>\n      <td>NaN</td>\n      <td>NaN</td>\n      <td>-9.464321</td>\n      <td>NaN</td>\n      <td>NaN</td>\n      <td>-9.093277</td>\n      <td>NaN</td>\n    </tr>\n    <tr>\n      <th>MO</th>\n      <td>-11.183484</td>\n      <td>-10.206768</td>\n      <td>NaN</td>\n      <td>NaN</td>\n      <td>-9.549612</td>\n      <td>-3.647826</td>\n      <td>-2.587634</td>\n      <td>-2.562984</td>\n      <td>NaN</td>\n      <td>NaN</td>\n      <td>...</td>\n      <td>NaN</td>\n      <td>NaN</td>\n      <td>NaN</td>\n      <td>NaN</td>\n      <td>-10.854467</td>\n      <td>-10.241490</td>\n      <td>NaN</td>\n      <td>NaN</td>\n      <td>NaN</td>\n      <td>NaN</td>\n    </tr>\n    <tr>\n      <th>MS</th>\n      <td>-13.744104</td>\n      <td>NaN</td>\n      <td>NaN</td>\n      <td>NaN</td>\n      <td>NaN</td>\n      <td>-6.000267</td>\n      <td>-3.777652</td>\n      <td>-3.429290</td>\n      <td>NaN</td>\n      <td>NaN</td>\n      <td>...</td>\n      <td>NaN</td>\n      <td>NaN</td>\n      <td>NaN</td>\n      <td>NaN</td>\n      <td>NaN</td>\n      <td>NaN</td>\n      <td>NaN</td>\n      <td>NaN</td>\n      <td>NaN</td>\n      <td>NaN</td>\n    </tr>\n    <tr>\n      <th>MT</th>\n      <td>-10.072184</td>\n      <td>-9.539963</td>\n      <td>NaN</td>\n      <td>NaN</td>\n      <td>NaN</td>\n      <td>-3.204003</td>\n      <td>-1.802734</td>\n      <td>-1.327376</td>\n      <td>NaN</td>\n      <td>NaN</td>\n      <td>...</td>\n      <td>NaN</td>\n      <td>NaN</td>\n      <td>NaN</td>\n      <td>NaN</td>\n      <td>NaN</td>\n      <td>NaN</td>\n      <td>NaN</td>\n      <td>NaN</td>\n      <td>-6.247495</td>\n      <td>NaN</td>\n    </tr>\n    <tr>\n      <th>NC</th>\n      <td>-10.721813</td>\n      <td>-10.172403</td>\n      <td>-15.234263</td>\n      <td>NaN</td>\n      <td>NaN</td>\n      <td>-4.714338</td>\n      <td>-3.569102</td>\n      <td>-3.356784</td>\n      <td>-9.372872</td>\n      <td>-8.261931</td>\n      <td>...</td>\n      <td>NaN</td>\n      <td>NaN</td>\n      <td>NaN</td>\n      <td>NaN</td>\n      <td>NaN</td>\n      <td>NaN</td>\n      <td>NaN</td>\n      <td>NaN</td>\n      <td>-5.502345</td>\n      <td>NaN</td>\n    </tr>\n    <tr>\n      <th>ND</th>\n      <td>NaN</td>\n      <td>NaN</td>\n      <td>NaN</td>\n      <td>NaN</td>\n      <td>NaN</td>\n      <td>-4.782908</td>\n      <td>-3.238258</td>\n      <td>-3.168621</td>\n      <td>NaN</td>\n      <td>NaN</td>\n      <td>...</td>\n      <td>NaN</td>\n      <td>NaN</td>\n      <td>NaN</td>\n      <td>NaN</td>\n      <td>NaN</td>\n      <td>NaN</td>\n      <td>NaN</td>\n      <td>NaN</td>\n      <td>NaN</td>\n      <td>NaN</td>\n    </tr>\n    <tr>\n      <th>NE</th>\n      <td>-10.225587</td>\n      <td>-10.011462</td>\n      <td>NaN</td>\n      <td>NaN</td>\n      <td>NaN</td>\n      <td>-4.564379</td>\n      <td>-2.549454</td>\n      <td>-2.406110</td>\n      <td>NaN</td>\n      <td>NaN</td>\n      <td>...</td>\n      <td>NaN</td>\n      <td>NaN</td>\n      <td>NaN</td>\n      <td>NaN</td>\n      <td>NaN</td>\n      <td>NaN</td>\n      <td>NaN</td>\n      <td>NaN</td>\n      <td>NaN</td>\n      <td>NaN</td>\n    </tr>\n    <tr>\n      <th>NH</th>\n      <td>-11.338110</td>\n      <td>-10.425886</td>\n      <td>NaN</td>\n      <td>NaN</td>\n      <td>NaN</td>\n      <td>-4.920726</td>\n      <td>-4.273068</td>\n      <td>-3.694253</td>\n      <td>NaN</td>\n      <td>NaN</td>\n      <td>...</td>\n      <td>NaN</td>\n      <td>NaN</td>\n      <td>NaN</td>\n      <td>NaN</td>\n      <td>NaN</td>\n      <td>NaN</td>\n      <td>NaN</td>\n      <td>NaN</td>\n      <td>NaN</td>\n      <td>NaN</td>\n    </tr>\n    <tr>\n      <th>NJ</th>\n      <td>-11.063407</td>\n      <td>-10.389527</td>\n      <td>-16.379915</td>\n      <td>NaN</td>\n      <td>-8.537564</td>\n      <td>-6.315441</td>\n      <td>-5.422486</td>\n      <td>-4.866039</td>\n      <td>NaN</td>\n      <td>NaN</td>\n      <td>...</td>\n      <td>NaN</td>\n      <td>NaN</td>\n      <td>NaN</td>\n      <td>NaN</td>\n      <td>-11.151096</td>\n      <td>-10.494829</td>\n      <td>NaN</td>\n      <td>NaN</td>\n      <td>NaN</td>\n      <td>NaN</td>\n    </tr>\n    <tr>\n      <th>NM</th>\n      <td>-11.101464</td>\n      <td>-11.164200</td>\n      <td>NaN</td>\n      <td>NaN</td>\n      <td>NaN</td>\n      <td>-7.701493</td>\n      <td>-6.358420</td>\n      <td>-5.586184</td>\n      <td>NaN</td>\n      <td>NaN</td>\n      <td>...</td>\n      <td>NaN</td>\n      <td>NaN</td>\n      <td>NaN</td>\n      <td>NaN</td>\n      <td>NaN</td>\n      <td>NaN</td>\n      <td>NaN</td>\n      <td>NaN</td>\n      <td>NaN</td>\n      <td>NaN</td>\n    </tr>\n    <tr>\n      <th>NV</th>\n      <td>-9.527766</td>\n      <td>-9.015820</td>\n      <td>NaN</td>\n      <td>NaN</td>\n      <td>NaN</td>\n      <td>-6.609936</td>\n      <td>-5.263074</td>\n      <td>-4.657108</td>\n      <td>NaN</td>\n      <td>NaN</td>\n      <td>...</td>\n      <td>NaN</td>\n      <td>NaN</td>\n      <td>NaN</td>\n      <td>-7.767459</td>\n      <td>-5.335093</td>\n      <td>-6.053763</td>\n      <td>NaN</td>\n      <td>NaN</td>\n      <td>NaN</td>\n      <td>NaN</td>\n    </tr>\n    <tr>\n      <th>NY</th>\n      <td>-9.660599</td>\n      <td>-9.235781</td>\n      <td>-14.055095</td>\n      <td>NaN</td>\n      <td>-6.634022</td>\n      <td>-6.851969</td>\n      <td>-5.392766</td>\n      <td>-5.027750</td>\n      <td>NaN</td>\n      <td>NaN</td>\n      <td>...</td>\n      <td>NaN</td>\n      <td>NaN</td>\n      <td>NaN</td>\n      <td>NaN</td>\n      <td>-12.588218</td>\n      <td>-12.216249</td>\n      <td>NaN</td>\n      <td>-14.031825</td>\n      <td>NaN</td>\n      <td>NaN</td>\n    </tr>\n    <tr>\n      <th>OH</th>\n      <td>-8.540125</td>\n      <td>-8.629338</td>\n      <td>-14.069577</td>\n      <td>-16.63842</td>\n      <td>-5.551620</td>\n      <td>-5.798298</td>\n      <td>-4.134254</td>\n      <td>-3.403503</td>\n      <td>NaN</td>\n      <td>NaN</td>\n      <td>...</td>\n      <td>NaN</td>\n      <td>NaN</td>\n      <td>NaN</td>\n      <td>NaN</td>\n      <td>-7.626261</td>\n      <td>-7.216145</td>\n      <td>NaN</td>\n      <td>NaN</td>\n      <td>NaN</td>\n      <td>NaN</td>\n    </tr>\n    <tr>\n      <th>OK</th>\n      <td>-12.358208</td>\n      <td>-10.550853</td>\n      <td>NaN</td>\n      <td>NaN</td>\n      <td>NaN</td>\n      <td>-4.210681</td>\n      <td>-2.725213</td>\n      <td>-2.517490</td>\n      <td>NaN</td>\n      <td>NaN</td>\n      <td>...</td>\n      <td>NaN</td>\n      <td>NaN</td>\n      <td>NaN</td>\n      <td>NaN</td>\n      <td>NaN</td>\n      <td>NaN</td>\n      <td>NaN</td>\n      <td>NaN</td>\n      <td>NaN</td>\n      <td>NaN</td>\n    </tr>\n    <tr>\n      <th>OR</th>\n      <td>-11.467104</td>\n      <td>-11.061180</td>\n      <td>NaN</td>\n      <td>NaN</td>\n      <td>NaN</td>\n      <td>-4.754416</td>\n      <td>-4.014689</td>\n      <td>-3.167008</td>\n      <td>NaN</td>\n      <td>NaN</td>\n      <td>...</td>\n      <td>NaN</td>\n      <td>NaN</td>\n      <td>NaN</td>\n      <td>NaN</td>\n      <td>NaN</td>\n      <td>NaN</td>\n      <td>NaN</td>\n      <td>NaN</td>\n      <td>NaN</td>\n      <td>NaN</td>\n    </tr>\n    <tr>\n      <th>PA</th>\n      <td>-7.378007</td>\n      <td>-7.672800</td>\n      <td>-14.663549</td>\n      <td>NaN</td>\n      <td>-8.515650</td>\n      <td>-4.623149</td>\n      <td>-3.091035</td>\n      <td>-2.718405</td>\n      <td>NaN</td>\n      <td>NaN</td>\n      <td>...</td>\n      <td>NaN</td>\n      <td>NaN</td>\n      <td>NaN</td>\n      <td>NaN</td>\n      <td>-9.698115</td>\n      <td>-9.289037</td>\n      <td>NaN</td>\n      <td>NaN</td>\n      <td>NaN</td>\n      <td>NaN</td>\n    </tr>\n    <tr>\n      <th>RI</th>\n      <td>-10.377028</td>\n      <td>-12.280813</td>\n      <td>NaN</td>\n      <td>NaN</td>\n      <td>NaN</td>\n      <td>-6.575459</td>\n      <td>-5.352366</td>\n      <td>-4.737781</td>\n      <td>NaN</td>\n      <td>NaN</td>\n      <td>...</td>\n      <td>NaN</td>\n      <td>NaN</td>\n      <td>NaN</td>\n      <td>NaN</td>\n      <td>NaN</td>\n      <td>NaN</td>\n      <td>NaN</td>\n      <td>NaN</td>\n      <td>NaN</td>\n      <td>NaN</td>\n    </tr>\n    <tr>\n      <th>SC</th>\n      <td>-10.695086</td>\n      <td>-10.028451</td>\n      <td>NaN</td>\n      <td>NaN</td>\n      <td>-9.098535</td>\n      <td>-6.887869</td>\n      <td>-5.359647</td>\n      <td>-4.817612</td>\n      <td>NaN</td>\n      <td>NaN</td>\n      <td>...</td>\n      <td>NaN</td>\n      <td>NaN</td>\n      <td>NaN</td>\n      <td>NaN</td>\n      <td>-8.246980</td>\n      <td>-7.914855</td>\n      <td>NaN</td>\n      <td>NaN</td>\n      <td>-12.005426</td>\n      <td>NaN</td>\n    </tr>\n    <tr>\n      <th>SD</th>\n      <td>-9.568199</td>\n      <td>-9.218392</td>\n      <td>NaN</td>\n      <td>NaN</td>\n      <td>NaN</td>\n      <td>-4.400475</td>\n      <td>-2.979393</td>\n      <td>-2.908769</td>\n      <td>NaN</td>\n      <td>NaN</td>\n      <td>...</td>\n      <td>NaN</td>\n      <td>NaN</td>\n      <td>NaN</td>\n      <td>NaN</td>\n      <td>NaN</td>\n      <td>NaN</td>\n      <td>NaN</td>\n      <td>NaN</td>\n      <td>NaN</td>\n      <td>NaN</td>\n    </tr>\n    <tr>\n      <th>TN</th>\n      <td>-12.240261</td>\n      <td>-11.699134</td>\n      <td>NaN</td>\n      <td>NaN</td>\n      <td>NaN</td>\n      <td>-4.779383</td>\n      <td>-3.362376</td>\n      <td>-2.897457</td>\n      <td>NaN</td>\n      <td>NaN</td>\n      <td>...</td>\n      <td>NaN</td>\n      <td>NaN</td>\n      <td>NaN</td>\n      <td>NaN</td>\n      <td>NaN</td>\n      <td>NaN</td>\n      <td>NaN</td>\n      <td>NaN</td>\n      <td>NaN</td>\n      <td>NaN</td>\n    </tr>\n    <tr>\n      <th>TX</th>\n      <td>-11.361813</td>\n      <td>-10.857851</td>\n      <td>NaN</td>\n      <td>NaN</td>\n      <td>NaN</td>\n      <td>-5.027524</td>\n      <td>-3.398234</td>\n      <td>-3.215662</td>\n      <td>NaN</td>\n      <td>NaN</td>\n      <td>...</td>\n      <td>NaN</td>\n      <td>NaN</td>\n      <td>NaN</td>\n      <td>NaN</td>\n      <td>NaN</td>\n      <td>NaN</td>\n      <td>NaN</td>\n      <td>NaN</td>\n      <td>NaN</td>\n      <td>NaN</td>\n    </tr>\n    <tr>\n      <th>UT</th>\n      <td>-12.066772</td>\n      <td>-10.625645</td>\n      <td>NaN</td>\n      <td>NaN</td>\n      <td>NaN</td>\n      <td>-4.433167</td>\n      <td>-3.277107</td>\n      <td>-2.499801</td>\n      <td>NaN</td>\n      <td>NaN</td>\n      <td>...</td>\n      <td>NaN</td>\n      <td>NaN</td>\n      <td>NaN</td>\n      <td>NaN</td>\n      <td>NaN</td>\n      <td>NaN</td>\n      <td>NaN</td>\n      <td>NaN</td>\n      <td>NaN</td>\n      <td>NaN</td>\n    </tr>\n    <tr>\n      <th>VA</th>\n      <td>-9.779228</td>\n      <td>-9.485665</td>\n      <td>NaN</td>\n      <td>NaN</td>\n      <td>NaN</td>\n      <td>-5.945341</td>\n      <td>-3.983568</td>\n      <td>-3.554190</td>\n      <td>NaN</td>\n      <td>NaN</td>\n      <td>...</td>\n      <td>NaN</td>\n      <td>-10.151948</td>\n      <td>-10.374090</td>\n      <td>NaN</td>\n      <td>NaN</td>\n      <td>NaN</td>\n      <td>NaN</td>\n      <td>NaN</td>\n      <td>NaN</td>\n      <td>NaN</td>\n    </tr>\n    <tr>\n      <th>VT</th>\n      <td>-11.085710</td>\n      <td>-10.407638</td>\n      <td>NaN</td>\n      <td>NaN</td>\n      <td>NaN</td>\n      <td>-4.982919</td>\n      <td>-3.415445</td>\n      <td>-2.981318</td>\n      <td>NaN</td>\n      <td>NaN</td>\n      <td>...</td>\n      <td>NaN</td>\n      <td>NaN</td>\n      <td>NaN</td>\n      <td>NaN</td>\n      <td>NaN</td>\n      <td>NaN</td>\n      <td>NaN</td>\n      <td>NaN</td>\n      <td>-9.560169</td>\n      <td>NaN</td>\n    </tr>\n    <tr>\n      <th>WA</th>\n      <td>-11.374062</td>\n      <td>-11.446073</td>\n      <td>-14.825948</td>\n      <td>NaN</td>\n      <td>NaN</td>\n      <td>-5.785232</td>\n      <td>-4.582696</td>\n      <td>-3.841028</td>\n      <td>NaN</td>\n      <td>NaN</td>\n      <td>...</td>\n      <td>NaN</td>\n      <td>NaN</td>\n      <td>NaN</td>\n      <td>NaN</td>\n      <td>NaN</td>\n      <td>-9.060588</td>\n      <td>NaN</td>\n      <td>NaN</td>\n      <td>NaN</td>\n      <td>NaN</td>\n    </tr>\n    <tr>\n      <th>WI</th>\n      <td>-14.299344</td>\n      <td>-14.884306</td>\n      <td>NaN</td>\n      <td>NaN</td>\n      <td>NaN</td>\n      <td>-4.272083</td>\n      <td>-3.027832</td>\n      <td>-2.718850</td>\n      <td>NaN</td>\n      <td>NaN</td>\n      <td>...</td>\n      <td>NaN</td>\n      <td>NaN</td>\n      <td>NaN</td>\n      <td>NaN</td>\n      <td>NaN</td>\n      <td>NaN</td>\n      <td>NaN</td>\n      <td>NaN</td>\n      <td>-6.134353</td>\n      <td>NaN</td>\n    </tr>\n    <tr>\n      <th>WV</th>\n      <td>-10.526494</td>\n      <td>-9.958528</td>\n      <td>NaN</td>\n      <td>NaN</td>\n      <td>NaN</td>\n      <td>-4.650541</td>\n      <td>-2.983420</td>\n      <td>-2.546478</td>\n      <td>NaN</td>\n      <td>NaN</td>\n      <td>...</td>\n      <td>NaN</td>\n      <td>NaN</td>\n      <td>NaN</td>\n      <td>NaN</td>\n      <td>NaN</td>\n      <td>NaN</td>\n      <td>NaN</td>\n      <td>NaN</td>\n      <td>NaN</td>\n      <td>NaN</td>\n    </tr>\n    <tr>\n      <th>WY</th>\n      <td>NaN</td>\n      <td>NaN</td>\n      <td>NaN</td>\n      <td>NaN</td>\n      <td>NaN</td>\n      <td>-3.894089</td>\n      <td>-2.334932</td>\n      <td>-1.990146</td>\n      <td>NaN</td>\n      <td>NaN</td>\n      <td>...</td>\n      <td>NaN</td>\n      <td>NaN</td>\n      <td>NaN</td>\n      <td>NaN</td>\n      <td>NaN</td>\n      <td>NaN</td>\n      <td>NaN</td>\n      <td>NaN</td>\n      <td>NaN</td>\n      <td>NaN</td>\n    </tr>\n  </tbody>\n</table>\n<p>51 rows × 23885 columns</p>\n</div>"
     },
     "execution_count": 54,
     "metadata": {},
     "output_type": "execute_result"
    }
   ],
   "source": [
    "medicaid_norm_ndc"
   ],
   "metadata": {
    "collapsed": false,
    "pycharm": {
     "name": "#%%\n"
    }
   }
  },
  {
   "cell_type": "code",
   "execution_count": 55,
   "metadata": {
    "collapsed": true
   },
   "outputs": [
    {
     "data": {
      "text/plain": "NDC    2143380      2143480      2144511      2144527      2197590      \\\nSTATE                                                                    \nPA       -7.378007    -7.672800   -14.663549          NaN    -8.515650   \nMA       -7.921997    -7.803463   -13.472194          NaN    -7.741402   \n\nNDC    2322730      2322830      2322930      2323030      2323130      ...  \\\nSTATE                                                                   ...   \nPA       -4.623149    -3.091035    -2.718405          NaN          NaN  ...   \nMA       -5.414724    -4.592154    -4.205626          NaN          NaN  ...   \n\nNDC    76439035930  76439035990  76439036290  76439036390  76439036490  \\\nSTATE                                                                    \nPA             NaN          NaN          NaN          NaN    -9.698115   \nMA             NaN          NaN          NaN          NaN          NaN   \n\nNDC    76439036590  99207013070  99207024005  99207026012  99207046330  \nSTATE                                                                   \nPA       -9.289037          NaN          NaN          NaN          NaN  \nMA             NaN          NaN          NaN          NaN          NaN  \n\n[2 rows x 23885 columns]",
      "text/html": "<div>\n<style scoped>\n    .dataframe tbody tr th:only-of-type {\n        vertical-align: middle;\n    }\n\n    .dataframe tbody tr th {\n        vertical-align: top;\n    }\n\n    .dataframe thead th {\n        text-align: right;\n    }\n</style>\n<table border=\"1\" class=\"dataframe\">\n  <thead>\n    <tr style=\"text-align: right;\">\n      <th>NDC</th>\n      <th>2143380</th>\n      <th>2143480</th>\n      <th>2144511</th>\n      <th>2144527</th>\n      <th>2197590</th>\n      <th>2322730</th>\n      <th>2322830</th>\n      <th>2322930</th>\n      <th>2323030</th>\n      <th>2323130</th>\n      <th>...</th>\n      <th>76439035930</th>\n      <th>76439035990</th>\n      <th>76439036290</th>\n      <th>76439036390</th>\n      <th>76439036490</th>\n      <th>76439036590</th>\n      <th>99207013070</th>\n      <th>99207024005</th>\n      <th>99207026012</th>\n      <th>99207046330</th>\n    </tr>\n    <tr>\n      <th>STATE</th>\n      <th></th>\n      <th></th>\n      <th></th>\n      <th></th>\n      <th></th>\n      <th></th>\n      <th></th>\n      <th></th>\n      <th></th>\n      <th></th>\n      <th></th>\n      <th></th>\n      <th></th>\n      <th></th>\n      <th></th>\n      <th></th>\n      <th></th>\n      <th></th>\n      <th></th>\n      <th></th>\n      <th></th>\n    </tr>\n  </thead>\n  <tbody>\n    <tr>\n      <th>PA</th>\n      <td>-7.378007</td>\n      <td>-7.672800</td>\n      <td>-14.663549</td>\n      <td>NaN</td>\n      <td>-8.515650</td>\n      <td>-4.623149</td>\n      <td>-3.091035</td>\n      <td>-2.718405</td>\n      <td>NaN</td>\n      <td>NaN</td>\n      <td>...</td>\n      <td>NaN</td>\n      <td>NaN</td>\n      <td>NaN</td>\n      <td>NaN</td>\n      <td>-9.698115</td>\n      <td>-9.289037</td>\n      <td>NaN</td>\n      <td>NaN</td>\n      <td>NaN</td>\n      <td>NaN</td>\n    </tr>\n    <tr>\n      <th>MA</th>\n      <td>-7.921997</td>\n      <td>-7.803463</td>\n      <td>-13.472194</td>\n      <td>NaN</td>\n      <td>-7.741402</td>\n      <td>-5.414724</td>\n      <td>-4.592154</td>\n      <td>-4.205626</td>\n      <td>NaN</td>\n      <td>NaN</td>\n      <td>...</td>\n      <td>NaN</td>\n      <td>NaN</td>\n      <td>NaN</td>\n      <td>NaN</td>\n      <td>NaN</td>\n      <td>NaN</td>\n      <td>NaN</td>\n      <td>NaN</td>\n      <td>NaN</td>\n      <td>NaN</td>\n    </tr>\n  </tbody>\n</table>\n<p>2 rows × 23885 columns</p>\n</div>"
     },
     "execution_count": 55,
     "metadata": {},
     "output_type": "execute_result"
    }
   ],
   "source": [
    "## WRITE YOUR CODE HERE \n",
    "medicaid_norm_ndc.nlargest(2, medicaid_norm_ndc.columns)"
   ]
  },
  {
   "cell_type": "code",
   "execution_count": 56,
   "outputs": [
    {
     "data": {
      "text/plain": "NDC    2143380      2143480      2144511      2144527      2197590      \\\nSTATE                                                                    \nAK       -7.378007    -7.672800   -12.411014    -16.63842    -5.551620   \nAL       -7.921997    -7.688026   -13.472194          NaN    -6.491564   \nAR       -8.305096    -7.803463   -14.055095          NaN    -6.634022   \nAZ       -8.325745    -7.883399   -14.069577          NaN    -6.677343   \nCA       -8.405103    -7.948475   -14.338234          NaN    -6.942597   \nCO       -8.540125    -7.987181   -14.481856          NaN    -7.487729   \nCT       -8.661399    -8.097982   -14.663549          NaN    -7.584248   \nDC       -8.747994    -8.598997   -14.825948          NaN    -7.608472   \nDE       -8.788942    -8.629338   -15.234263          NaN    -7.741402   \nFL       -9.150146    -8.747732   -16.127018          NaN    -8.515650   \nGA       -9.527766    -9.015820   -16.181427          NaN    -8.537564   \nHI       -9.568199    -9.141564   -16.379915          NaN    -9.098535   \nIA       -9.609109    -9.218392   -18.053374          NaN    -9.464364   \nID       -9.660599    -9.235781          NaN          NaN    -9.549612   \nIL       -9.779228    -9.485665          NaN          NaN   -10.239592   \nIN       -9.940595    -9.539963          NaN          NaN          NaN   \nKS      -10.072184    -9.805485          NaN          NaN          NaN   \nKY      -10.225587    -9.835536          NaN          NaN          NaN   \nLA      -10.377028    -9.925954          NaN          NaN          NaN   \nMA      -10.522622    -9.958528          NaN          NaN          NaN   \nMD      -10.526494   -10.008280          NaN          NaN          NaN   \nME      -10.620398   -10.011462          NaN          NaN          NaN   \nMI      -10.688482   -10.014219          NaN          NaN          NaN   \nMN      -10.695086   -10.028451          NaN          NaN          NaN   \nMO      -10.721813   -10.172403          NaN          NaN          NaN   \nMS      -10.862982   -10.206768          NaN          NaN          NaN   \nMT      -10.895518   -10.274536          NaN          NaN          NaN   \nNC      -10.926863   -10.389527          NaN          NaN          NaN   \nND      -11.063407   -10.406940          NaN          NaN          NaN   \nNE      -11.085710   -10.407638          NaN          NaN          NaN   \nNH      -11.101464   -10.425886          NaN          NaN          NaN   \nNJ      -11.183484   -10.550853          NaN          NaN          NaN   \nNM      -11.338110   -10.625645          NaN          NaN          NaN   \nNV      -11.361813   -10.698372          NaN          NaN          NaN   \nNY      -11.374062   -10.821194          NaN          NaN          NaN   \nOH      -11.467104   -10.857851          NaN          NaN          NaN   \nOK      -11.533870   -11.061180          NaN          NaN          NaN   \nOR      -12.066772   -11.164200          NaN          NaN          NaN   \nPA      -12.240261   -11.316613          NaN          NaN          NaN   \nRI      -12.343430   -11.446073          NaN          NaN          NaN   \nSC      -12.358208   -11.699134          NaN          NaN          NaN   \nSD      -12.985157   -11.726673          NaN          NaN          NaN   \nTN      -13.534299   -12.280813          NaN          NaN          NaN   \nTX      -13.744104   -12.569558          NaN          NaN          NaN   \nUT      -14.299344   -12.657103          NaN          NaN          NaN   \nVA      -15.018034   -13.858835          NaN          NaN          NaN   \nVT             NaN   -14.884306          NaN          NaN          NaN   \nWA             NaN          NaN          NaN          NaN          NaN   \nWI             NaN          NaN          NaN          NaN          NaN   \nWV             NaN          NaN          NaN          NaN          NaN   \nWY             NaN          NaN          NaN          NaN          NaN   \n\nNDC    2322730      2322830      2322930      2323030      2323130      ...  \\\nSTATE                                                                   ...   \nAK       -3.204003    -1.802734    -1.327376    -9.372872    -8.261931  ...   \nAL       -3.424150    -2.224795    -1.793863          NaN          NaN  ...   \nAR       -3.647826    -2.334932    -1.990146          NaN          NaN  ...   \nAZ       -3.894089    -2.487967    -2.094290          NaN          NaN  ...   \nCA       -4.210681    -2.549454    -2.370303          NaN          NaN  ...   \nCO       -4.272083    -2.587634    -2.406110          NaN          NaN  ...   \nCT       -4.400475    -2.627334    -2.499801          NaN          NaN  ...   \nDC       -4.433167    -2.725213    -2.517490          NaN          NaN  ...   \nDE       -4.462918    -2.886635    -2.546478          NaN          NaN  ...   \nFL       -4.564379    -2.979393    -2.562984          NaN          NaN  ...   \nGA       -4.606803    -2.983420    -2.617579          NaN          NaN  ...   \nHI       -4.623149    -3.027832    -2.696356          NaN          NaN  ...   \nIA       -4.638038    -3.044753    -2.718405          NaN          NaN  ...   \nID       -4.650541    -3.091035    -2.718850          NaN          NaN  ...   \nIL       -4.714338    -3.238258    -2.791788          NaN          NaN  ...   \nIN       -4.720964    -3.277107    -2.897457          NaN          NaN  ...   \nKS       -4.754416    -3.319299    -2.908769          NaN          NaN  ...   \nKY       -4.779383    -3.362376    -2.924746          NaN          NaN  ...   \nLA       -4.782908    -3.398234    -2.981318          NaN          NaN  ...   \nMA       -4.805229    -3.415445    -3.137814          NaN          NaN  ...   \nMD       -4.920683    -3.522184    -3.167008          NaN          NaN  ...   \nME       -4.920726    -3.569102    -3.168621          NaN          NaN  ...   \nMI       -4.982919    -3.735907    -3.215662          NaN          NaN  ...   \nMN       -5.027524    -3.777652    -3.356784          NaN          NaN  ...   \nMO       -5.039408    -3.870805    -3.362432          NaN          NaN  ...   \nMS       -5.075762    -3.983568    -3.401510          NaN          NaN  ...   \nMT       -5.233729    -3.984721    -3.403503          NaN          NaN  ...   \nNC       -5.312806    -3.998085    -3.429290          NaN          NaN  ...   \nND       -5.336260    -4.014689    -3.554190          NaN          NaN  ...   \nNE       -5.414724    -4.134254    -3.643438          NaN          NaN  ...   \nNH       -5.474293    -4.227594    -3.645575          NaN          NaN  ...   \nNJ       -5.785232    -4.243688    -3.694253          NaN          NaN  ...   \nNM       -5.798298    -4.273068    -3.841028          NaN          NaN  ...   \nNV       -5.945341    -4.444321    -3.849236          NaN          NaN  ...   \nNY       -6.000267    -4.462172    -3.855995          NaN          NaN  ...   \nOH       -6.109830    -4.528181    -3.888018          NaN          NaN  ...   \nOK       -6.299138    -4.543070    -3.965826          NaN          NaN  ...   \nOR       -6.304659    -4.582696    -4.048108          NaN          NaN  ...   \nPA       -6.315441    -4.592154    -4.205626          NaN          NaN  ...   \nRI       -6.343799    -5.153548    -4.590566          NaN          NaN  ...   \nSC       -6.575459    -5.263074    -4.657108          NaN          NaN  ...   \nSD       -6.609936    -5.352366    -4.684543          NaN          NaN  ...   \nTN       -6.851969    -5.359647    -4.737781          NaN          NaN  ...   \nTX       -6.887869    -5.392766    -4.817612          NaN          NaN  ...   \nUT       -6.932782    -5.422486    -4.866039          NaN          NaN  ...   \nVA       -7.429936    -5.512123    -5.027750          NaN          NaN  ...   \nVT       -7.525024    -6.286911    -5.586184          NaN          NaN  ...   \nWA       -7.701493    -6.306865    -5.730117          NaN          NaN  ...   \nWI       -7.843704    -6.358420    -5.864352          NaN          NaN  ...   \nWV       -9.926139    -6.742993    -5.968019          NaN          NaN  ...   \nWY             NaN          NaN          NaN          NaN          NaN  ...   \n\nNDC    76439035930  76439035990  76439036290  76439036390  76439036490  \\\nSTATE                                                                    \nAK       -8.558780   -10.151948    -8.441462    -7.767459    -5.335093   \nAL       -9.749994   -10.993223   -10.374090   -12.274537    -7.626261   \nAR      -11.824196          NaN          NaN          NaN    -8.246980   \nAZ             NaN          NaN          NaN          NaN    -8.518493   \nCA             NaN          NaN          NaN          NaN    -9.698115   \nCO             NaN          NaN          NaN          NaN   -10.854467   \nCT             NaN          NaN          NaN          NaN   -11.150101   \nDC             NaN          NaN          NaN          NaN   -11.151096   \nDE             NaN          NaN          NaN          NaN   -12.341651   \nFL             NaN          NaN          NaN          NaN   -12.588218   \nGA             NaN          NaN          NaN          NaN   -13.098555   \nHI             NaN          NaN          NaN          NaN          NaN   \nIA             NaN          NaN          NaN          NaN          NaN   \nID             NaN          NaN          NaN          NaN          NaN   \nIL             NaN          NaN          NaN          NaN          NaN   \nIN             NaN          NaN          NaN          NaN          NaN   \nKS             NaN          NaN          NaN          NaN          NaN   \nKY             NaN          NaN          NaN          NaN          NaN   \nLA             NaN          NaN          NaN          NaN          NaN   \nMA             NaN          NaN          NaN          NaN          NaN   \nMD             NaN          NaN          NaN          NaN          NaN   \nME             NaN          NaN          NaN          NaN          NaN   \nMI             NaN          NaN          NaN          NaN          NaN   \nMN             NaN          NaN          NaN          NaN          NaN   \nMO             NaN          NaN          NaN          NaN          NaN   \nMS             NaN          NaN          NaN          NaN          NaN   \nMT             NaN          NaN          NaN          NaN          NaN   \nNC             NaN          NaN          NaN          NaN          NaN   \nND             NaN          NaN          NaN          NaN          NaN   \nNE             NaN          NaN          NaN          NaN          NaN   \nNH             NaN          NaN          NaN          NaN          NaN   \nNJ             NaN          NaN          NaN          NaN          NaN   \nNM             NaN          NaN          NaN          NaN          NaN   \nNV             NaN          NaN          NaN          NaN          NaN   \nNY             NaN          NaN          NaN          NaN          NaN   \nOH             NaN          NaN          NaN          NaN          NaN   \nOK             NaN          NaN          NaN          NaN          NaN   \nOR             NaN          NaN          NaN          NaN          NaN   \nPA             NaN          NaN          NaN          NaN          NaN   \nRI             NaN          NaN          NaN          NaN          NaN   \nSC             NaN          NaN          NaN          NaN          NaN   \nSD             NaN          NaN          NaN          NaN          NaN   \nTN             NaN          NaN          NaN          NaN          NaN   \nTX             NaN          NaN          NaN          NaN          NaN   \nUT             NaN          NaN          NaN          NaN          NaN   \nVA             NaN          NaN          NaN          NaN          NaN   \nVT             NaN          NaN          NaN          NaN          NaN   \nWA             NaN          NaN          NaN          NaN          NaN   \nWI             NaN          NaN          NaN          NaN          NaN   \nWV             NaN          NaN          NaN          NaN          NaN   \nWY             NaN          NaN          NaN          NaN          NaN   \n\nNDC    76439036590  99207013070  99207024005  99207026012  99207046330  \nSTATE                                                                   \nAK       -6.053763   -11.952415   -14.031825    -5.502345   -10.459198  \nAL       -6.725677          NaN          NaN    -6.134353   -11.041431  \nAR       -7.216145          NaN          NaN    -6.247495   -15.150865  \nAZ       -7.683292          NaN          NaN    -9.093277          NaN  \nCA       -7.914855          NaN          NaN    -9.560169          NaN  \nCO       -9.060588          NaN          NaN   -10.235734          NaN  \nCT       -9.289037          NaN          NaN   -12.005426          NaN  \nDC       -9.464321          NaN          NaN          NaN          NaN  \nDE      -10.150101          NaN          NaN          NaN          NaN  \nFL      -10.241490          NaN          NaN          NaN          NaN  \nGA      -10.494769          NaN          NaN          NaN          NaN  \nHI      -10.494829          NaN          NaN          NaN          NaN  \nIA      -11.224086          NaN          NaN          NaN          NaN  \nID      -11.341651          NaN          NaN          NaN          NaN  \nIL      -12.216249          NaN          NaN          NaN          NaN  \nIN             NaN          NaN          NaN          NaN          NaN  \nKS             NaN          NaN          NaN          NaN          NaN  \nKY             NaN          NaN          NaN          NaN          NaN  \nLA             NaN          NaN          NaN          NaN          NaN  \nMA             NaN          NaN          NaN          NaN          NaN  \nMD             NaN          NaN          NaN          NaN          NaN  \nME             NaN          NaN          NaN          NaN          NaN  \nMI             NaN          NaN          NaN          NaN          NaN  \nMN             NaN          NaN          NaN          NaN          NaN  \nMO             NaN          NaN          NaN          NaN          NaN  \nMS             NaN          NaN          NaN          NaN          NaN  \nMT             NaN          NaN          NaN          NaN          NaN  \nNC             NaN          NaN          NaN          NaN          NaN  \nND             NaN          NaN          NaN          NaN          NaN  \nNE             NaN          NaN          NaN          NaN          NaN  \nNH             NaN          NaN          NaN          NaN          NaN  \nNJ             NaN          NaN          NaN          NaN          NaN  \nNM             NaN          NaN          NaN          NaN          NaN  \nNV             NaN          NaN          NaN          NaN          NaN  \nNY             NaN          NaN          NaN          NaN          NaN  \nOH             NaN          NaN          NaN          NaN          NaN  \nOK             NaN          NaN          NaN          NaN          NaN  \nOR             NaN          NaN          NaN          NaN          NaN  \nPA             NaN          NaN          NaN          NaN          NaN  \nRI             NaN          NaN          NaN          NaN          NaN  \nSC             NaN          NaN          NaN          NaN          NaN  \nSD             NaN          NaN          NaN          NaN          NaN  \nTN             NaN          NaN          NaN          NaN          NaN  \nTX             NaN          NaN          NaN          NaN          NaN  \nUT             NaN          NaN          NaN          NaN          NaN  \nVA             NaN          NaN          NaN          NaN          NaN  \nVT             NaN          NaN          NaN          NaN          NaN  \nWA             NaN          NaN          NaN          NaN          NaN  \nWI             NaN          NaN          NaN          NaN          NaN  \nWV             NaN          NaN          NaN          NaN          NaN  \nWY             NaN          NaN          NaN          NaN          NaN  \n\n[51 rows x 23885 columns]",
      "text/html": "<div>\n<style scoped>\n    .dataframe tbody tr th:only-of-type {\n        vertical-align: middle;\n    }\n\n    .dataframe tbody tr th {\n        vertical-align: top;\n    }\n\n    .dataframe thead th {\n        text-align: right;\n    }\n</style>\n<table border=\"1\" class=\"dataframe\">\n  <thead>\n    <tr style=\"text-align: right;\">\n      <th>NDC</th>\n      <th>2143380</th>\n      <th>2143480</th>\n      <th>2144511</th>\n      <th>2144527</th>\n      <th>2197590</th>\n      <th>2322730</th>\n      <th>2322830</th>\n      <th>2322930</th>\n      <th>2323030</th>\n      <th>2323130</th>\n      <th>...</th>\n      <th>76439035930</th>\n      <th>76439035990</th>\n      <th>76439036290</th>\n      <th>76439036390</th>\n      <th>76439036490</th>\n      <th>76439036590</th>\n      <th>99207013070</th>\n      <th>99207024005</th>\n      <th>99207026012</th>\n      <th>99207046330</th>\n    </tr>\n    <tr>\n      <th>STATE</th>\n      <th></th>\n      <th></th>\n      <th></th>\n      <th></th>\n      <th></th>\n      <th></th>\n      <th></th>\n      <th></th>\n      <th></th>\n      <th></th>\n      <th></th>\n      <th></th>\n      <th></th>\n      <th></th>\n      <th></th>\n      <th></th>\n      <th></th>\n      <th></th>\n      <th></th>\n      <th></th>\n      <th></th>\n    </tr>\n  </thead>\n  <tbody>\n    <tr>\n      <th>AK</th>\n      <td>-7.378007</td>\n      <td>-7.672800</td>\n      <td>-12.411014</td>\n      <td>-16.63842</td>\n      <td>-5.551620</td>\n      <td>-3.204003</td>\n      <td>-1.802734</td>\n      <td>-1.327376</td>\n      <td>-9.372872</td>\n      <td>-8.261931</td>\n      <td>...</td>\n      <td>-8.558780</td>\n      <td>-10.151948</td>\n      <td>-8.441462</td>\n      <td>-7.767459</td>\n      <td>-5.335093</td>\n      <td>-6.053763</td>\n      <td>-11.952415</td>\n      <td>-14.031825</td>\n      <td>-5.502345</td>\n      <td>-10.459198</td>\n    </tr>\n    <tr>\n      <th>AL</th>\n      <td>-7.921997</td>\n      <td>-7.688026</td>\n      <td>-13.472194</td>\n      <td>NaN</td>\n      <td>-6.491564</td>\n      <td>-3.424150</td>\n      <td>-2.224795</td>\n      <td>-1.793863</td>\n      <td>NaN</td>\n      <td>NaN</td>\n      <td>...</td>\n      <td>-9.749994</td>\n      <td>-10.993223</td>\n      <td>-10.374090</td>\n      <td>-12.274537</td>\n      <td>-7.626261</td>\n      <td>-6.725677</td>\n      <td>NaN</td>\n      <td>NaN</td>\n      <td>-6.134353</td>\n      <td>-11.041431</td>\n    </tr>\n    <tr>\n      <th>AR</th>\n      <td>-8.305096</td>\n      <td>-7.803463</td>\n      <td>-14.055095</td>\n      <td>NaN</td>\n      <td>-6.634022</td>\n      <td>-3.647826</td>\n      <td>-2.334932</td>\n      <td>-1.990146</td>\n      <td>NaN</td>\n      <td>NaN</td>\n      <td>...</td>\n      <td>-11.824196</td>\n      <td>NaN</td>\n      <td>NaN</td>\n      <td>NaN</td>\n      <td>-8.246980</td>\n      <td>-7.216145</td>\n      <td>NaN</td>\n      <td>NaN</td>\n      <td>-6.247495</td>\n      <td>-15.150865</td>\n    </tr>\n    <tr>\n      <th>AZ</th>\n      <td>-8.325745</td>\n      <td>-7.883399</td>\n      <td>-14.069577</td>\n      <td>NaN</td>\n      <td>-6.677343</td>\n      <td>-3.894089</td>\n      <td>-2.487967</td>\n      <td>-2.094290</td>\n      <td>NaN</td>\n      <td>NaN</td>\n      <td>...</td>\n      <td>NaN</td>\n      <td>NaN</td>\n      <td>NaN</td>\n      <td>NaN</td>\n      <td>-8.518493</td>\n      <td>-7.683292</td>\n      <td>NaN</td>\n      <td>NaN</td>\n      <td>-9.093277</td>\n      <td>NaN</td>\n    </tr>\n    <tr>\n      <th>CA</th>\n      <td>-8.405103</td>\n      <td>-7.948475</td>\n      <td>-14.338234</td>\n      <td>NaN</td>\n      <td>-6.942597</td>\n      <td>-4.210681</td>\n      <td>-2.549454</td>\n      <td>-2.370303</td>\n      <td>NaN</td>\n      <td>NaN</td>\n      <td>...</td>\n      <td>NaN</td>\n      <td>NaN</td>\n      <td>NaN</td>\n      <td>NaN</td>\n      <td>-9.698115</td>\n      <td>-7.914855</td>\n      <td>NaN</td>\n      <td>NaN</td>\n      <td>-9.560169</td>\n      <td>NaN</td>\n    </tr>\n    <tr>\n      <th>CO</th>\n      <td>-8.540125</td>\n      <td>-7.987181</td>\n      <td>-14.481856</td>\n      <td>NaN</td>\n      <td>-7.487729</td>\n      <td>-4.272083</td>\n      <td>-2.587634</td>\n      <td>-2.406110</td>\n      <td>NaN</td>\n      <td>NaN</td>\n      <td>...</td>\n      <td>NaN</td>\n      <td>NaN</td>\n      <td>NaN</td>\n      <td>NaN</td>\n      <td>-10.854467</td>\n      <td>-9.060588</td>\n      <td>NaN</td>\n      <td>NaN</td>\n      <td>-10.235734</td>\n      <td>NaN</td>\n    </tr>\n    <tr>\n      <th>CT</th>\n      <td>-8.661399</td>\n      <td>-8.097982</td>\n      <td>-14.663549</td>\n      <td>NaN</td>\n      <td>-7.584248</td>\n      <td>-4.400475</td>\n      <td>-2.627334</td>\n      <td>-2.499801</td>\n      <td>NaN</td>\n      <td>NaN</td>\n      <td>...</td>\n      <td>NaN</td>\n      <td>NaN</td>\n      <td>NaN</td>\n      <td>NaN</td>\n      <td>-11.150101</td>\n      <td>-9.289037</td>\n      <td>NaN</td>\n      <td>NaN</td>\n      <td>-12.005426</td>\n      <td>NaN</td>\n    </tr>\n    <tr>\n      <th>DC</th>\n      <td>-8.747994</td>\n      <td>-8.598997</td>\n      <td>-14.825948</td>\n      <td>NaN</td>\n      <td>-7.608472</td>\n      <td>-4.433167</td>\n      <td>-2.725213</td>\n      <td>-2.517490</td>\n      <td>NaN</td>\n      <td>NaN</td>\n      <td>...</td>\n      <td>NaN</td>\n      <td>NaN</td>\n      <td>NaN</td>\n      <td>NaN</td>\n      <td>-11.151096</td>\n      <td>-9.464321</td>\n      <td>NaN</td>\n      <td>NaN</td>\n      <td>NaN</td>\n      <td>NaN</td>\n    </tr>\n    <tr>\n      <th>DE</th>\n      <td>-8.788942</td>\n      <td>-8.629338</td>\n      <td>-15.234263</td>\n      <td>NaN</td>\n      <td>-7.741402</td>\n      <td>-4.462918</td>\n      <td>-2.886635</td>\n      <td>-2.546478</td>\n      <td>NaN</td>\n      <td>NaN</td>\n      <td>...</td>\n      <td>NaN</td>\n      <td>NaN</td>\n      <td>NaN</td>\n      <td>NaN</td>\n      <td>-12.341651</td>\n      <td>-10.150101</td>\n      <td>NaN</td>\n      <td>NaN</td>\n      <td>NaN</td>\n      <td>NaN</td>\n    </tr>\n    <tr>\n      <th>FL</th>\n      <td>-9.150146</td>\n      <td>-8.747732</td>\n      <td>-16.127018</td>\n      <td>NaN</td>\n      <td>-8.515650</td>\n      <td>-4.564379</td>\n      <td>-2.979393</td>\n      <td>-2.562984</td>\n      <td>NaN</td>\n      <td>NaN</td>\n      <td>...</td>\n      <td>NaN</td>\n      <td>NaN</td>\n      <td>NaN</td>\n      <td>NaN</td>\n      <td>-12.588218</td>\n      <td>-10.241490</td>\n      <td>NaN</td>\n      <td>NaN</td>\n      <td>NaN</td>\n      <td>NaN</td>\n    </tr>\n    <tr>\n      <th>GA</th>\n      <td>-9.527766</td>\n      <td>-9.015820</td>\n      <td>-16.181427</td>\n      <td>NaN</td>\n      <td>-8.537564</td>\n      <td>-4.606803</td>\n      <td>-2.983420</td>\n      <td>-2.617579</td>\n      <td>NaN</td>\n      <td>NaN</td>\n      <td>...</td>\n      <td>NaN</td>\n      <td>NaN</td>\n      <td>NaN</td>\n      <td>NaN</td>\n      <td>-13.098555</td>\n      <td>-10.494769</td>\n      <td>NaN</td>\n      <td>NaN</td>\n      <td>NaN</td>\n      <td>NaN</td>\n    </tr>\n    <tr>\n      <th>HI</th>\n      <td>-9.568199</td>\n      <td>-9.141564</td>\n      <td>-16.379915</td>\n      <td>NaN</td>\n      <td>-9.098535</td>\n      <td>-4.623149</td>\n      <td>-3.027832</td>\n      <td>-2.696356</td>\n      <td>NaN</td>\n      <td>NaN</td>\n      <td>...</td>\n      <td>NaN</td>\n      <td>NaN</td>\n      <td>NaN</td>\n      <td>NaN</td>\n      <td>NaN</td>\n      <td>-10.494829</td>\n      <td>NaN</td>\n      <td>NaN</td>\n      <td>NaN</td>\n      <td>NaN</td>\n    </tr>\n    <tr>\n      <th>IA</th>\n      <td>-9.609109</td>\n      <td>-9.218392</td>\n      <td>-18.053374</td>\n      <td>NaN</td>\n      <td>-9.464364</td>\n      <td>-4.638038</td>\n      <td>-3.044753</td>\n      <td>-2.718405</td>\n      <td>NaN</td>\n      <td>NaN</td>\n      <td>...</td>\n      <td>NaN</td>\n      <td>NaN</td>\n      <td>NaN</td>\n      <td>NaN</td>\n      <td>NaN</td>\n      <td>-11.224086</td>\n      <td>NaN</td>\n      <td>NaN</td>\n      <td>NaN</td>\n      <td>NaN</td>\n    </tr>\n    <tr>\n      <th>ID</th>\n      <td>-9.660599</td>\n      <td>-9.235781</td>\n      <td>NaN</td>\n      <td>NaN</td>\n      <td>-9.549612</td>\n      <td>-4.650541</td>\n      <td>-3.091035</td>\n      <td>-2.718850</td>\n      <td>NaN</td>\n      <td>NaN</td>\n      <td>...</td>\n      <td>NaN</td>\n      <td>NaN</td>\n      <td>NaN</td>\n      <td>NaN</td>\n      <td>NaN</td>\n      <td>-11.341651</td>\n      <td>NaN</td>\n      <td>NaN</td>\n      <td>NaN</td>\n      <td>NaN</td>\n    </tr>\n    <tr>\n      <th>IL</th>\n      <td>-9.779228</td>\n      <td>-9.485665</td>\n      <td>NaN</td>\n      <td>NaN</td>\n      <td>-10.239592</td>\n      <td>-4.714338</td>\n      <td>-3.238258</td>\n      <td>-2.791788</td>\n      <td>NaN</td>\n      <td>NaN</td>\n      <td>...</td>\n      <td>NaN</td>\n      <td>NaN</td>\n      <td>NaN</td>\n      <td>NaN</td>\n      <td>NaN</td>\n      <td>-12.216249</td>\n      <td>NaN</td>\n      <td>NaN</td>\n      <td>NaN</td>\n      <td>NaN</td>\n    </tr>\n    <tr>\n      <th>IN</th>\n      <td>-9.940595</td>\n      <td>-9.539963</td>\n      <td>NaN</td>\n      <td>NaN</td>\n      <td>NaN</td>\n      <td>-4.720964</td>\n      <td>-3.277107</td>\n      <td>-2.897457</td>\n      <td>NaN</td>\n      <td>NaN</td>\n      <td>...</td>\n      <td>NaN</td>\n      <td>NaN</td>\n      <td>NaN</td>\n      <td>NaN</td>\n      <td>NaN</td>\n      <td>NaN</td>\n      <td>NaN</td>\n      <td>NaN</td>\n      <td>NaN</td>\n      <td>NaN</td>\n    </tr>\n    <tr>\n      <th>KS</th>\n      <td>-10.072184</td>\n      <td>-9.805485</td>\n      <td>NaN</td>\n      <td>NaN</td>\n      <td>NaN</td>\n      <td>-4.754416</td>\n      <td>-3.319299</td>\n      <td>-2.908769</td>\n      <td>NaN</td>\n      <td>NaN</td>\n      <td>...</td>\n      <td>NaN</td>\n      <td>NaN</td>\n      <td>NaN</td>\n      <td>NaN</td>\n      <td>NaN</td>\n      <td>NaN</td>\n      <td>NaN</td>\n      <td>NaN</td>\n      <td>NaN</td>\n      <td>NaN</td>\n    </tr>\n    <tr>\n      <th>KY</th>\n      <td>-10.225587</td>\n      <td>-9.835536</td>\n      <td>NaN</td>\n      <td>NaN</td>\n      <td>NaN</td>\n      <td>-4.779383</td>\n      <td>-3.362376</td>\n      <td>-2.924746</td>\n      <td>NaN</td>\n      <td>NaN</td>\n      <td>...</td>\n      <td>NaN</td>\n      <td>NaN</td>\n      <td>NaN</td>\n      <td>NaN</td>\n      <td>NaN</td>\n      <td>NaN</td>\n      <td>NaN</td>\n      <td>NaN</td>\n      <td>NaN</td>\n      <td>NaN</td>\n    </tr>\n    <tr>\n      <th>LA</th>\n      <td>-10.377028</td>\n      <td>-9.925954</td>\n      <td>NaN</td>\n      <td>NaN</td>\n      <td>NaN</td>\n      <td>-4.782908</td>\n      <td>-3.398234</td>\n      <td>-2.981318</td>\n      <td>NaN</td>\n      <td>NaN</td>\n      <td>...</td>\n      <td>NaN</td>\n      <td>NaN</td>\n      <td>NaN</td>\n      <td>NaN</td>\n      <td>NaN</td>\n      <td>NaN</td>\n      <td>NaN</td>\n      <td>NaN</td>\n      <td>NaN</td>\n      <td>NaN</td>\n    </tr>\n    <tr>\n      <th>MA</th>\n      <td>-10.522622</td>\n      <td>-9.958528</td>\n      <td>NaN</td>\n      <td>NaN</td>\n      <td>NaN</td>\n      <td>-4.805229</td>\n      <td>-3.415445</td>\n      <td>-3.137814</td>\n      <td>NaN</td>\n      <td>NaN</td>\n      <td>...</td>\n      <td>NaN</td>\n      <td>NaN</td>\n      <td>NaN</td>\n      <td>NaN</td>\n      <td>NaN</td>\n      <td>NaN</td>\n      <td>NaN</td>\n      <td>NaN</td>\n      <td>NaN</td>\n      <td>NaN</td>\n    </tr>\n    <tr>\n      <th>MD</th>\n      <td>-10.526494</td>\n      <td>-10.008280</td>\n      <td>NaN</td>\n      <td>NaN</td>\n      <td>NaN</td>\n      <td>-4.920683</td>\n      <td>-3.522184</td>\n      <td>-3.167008</td>\n      <td>NaN</td>\n      <td>NaN</td>\n      <td>...</td>\n      <td>NaN</td>\n      <td>NaN</td>\n      <td>NaN</td>\n      <td>NaN</td>\n      <td>NaN</td>\n      <td>NaN</td>\n      <td>NaN</td>\n      <td>NaN</td>\n      <td>NaN</td>\n      <td>NaN</td>\n    </tr>\n    <tr>\n      <th>ME</th>\n      <td>-10.620398</td>\n      <td>-10.011462</td>\n      <td>NaN</td>\n      <td>NaN</td>\n      <td>NaN</td>\n      <td>-4.920726</td>\n      <td>-3.569102</td>\n      <td>-3.168621</td>\n      <td>NaN</td>\n      <td>NaN</td>\n      <td>...</td>\n      <td>NaN</td>\n      <td>NaN</td>\n      <td>NaN</td>\n      <td>NaN</td>\n      <td>NaN</td>\n      <td>NaN</td>\n      <td>NaN</td>\n      <td>NaN</td>\n      <td>NaN</td>\n      <td>NaN</td>\n    </tr>\n    <tr>\n      <th>MI</th>\n      <td>-10.688482</td>\n      <td>-10.014219</td>\n      <td>NaN</td>\n      <td>NaN</td>\n      <td>NaN</td>\n      <td>-4.982919</td>\n      <td>-3.735907</td>\n      <td>-3.215662</td>\n      <td>NaN</td>\n      <td>NaN</td>\n      <td>...</td>\n      <td>NaN</td>\n      <td>NaN</td>\n      <td>NaN</td>\n      <td>NaN</td>\n      <td>NaN</td>\n      <td>NaN</td>\n      <td>NaN</td>\n      <td>NaN</td>\n      <td>NaN</td>\n      <td>NaN</td>\n    </tr>\n    <tr>\n      <th>MN</th>\n      <td>-10.695086</td>\n      <td>-10.028451</td>\n      <td>NaN</td>\n      <td>NaN</td>\n      <td>NaN</td>\n      <td>-5.027524</td>\n      <td>-3.777652</td>\n      <td>-3.356784</td>\n      <td>NaN</td>\n      <td>NaN</td>\n      <td>...</td>\n      <td>NaN</td>\n      <td>NaN</td>\n      <td>NaN</td>\n      <td>NaN</td>\n      <td>NaN</td>\n      <td>NaN</td>\n      <td>NaN</td>\n      <td>NaN</td>\n      <td>NaN</td>\n      <td>NaN</td>\n    </tr>\n    <tr>\n      <th>MO</th>\n      <td>-10.721813</td>\n      <td>-10.172403</td>\n      <td>NaN</td>\n      <td>NaN</td>\n      <td>NaN</td>\n      <td>-5.039408</td>\n      <td>-3.870805</td>\n      <td>-3.362432</td>\n      <td>NaN</td>\n      <td>NaN</td>\n      <td>...</td>\n      <td>NaN</td>\n      <td>NaN</td>\n      <td>NaN</td>\n      <td>NaN</td>\n      <td>NaN</td>\n      <td>NaN</td>\n      <td>NaN</td>\n      <td>NaN</td>\n      <td>NaN</td>\n      <td>NaN</td>\n    </tr>\n    <tr>\n      <th>MS</th>\n      <td>-10.862982</td>\n      <td>-10.206768</td>\n      <td>NaN</td>\n      <td>NaN</td>\n      <td>NaN</td>\n      <td>-5.075762</td>\n      <td>-3.983568</td>\n      <td>-3.401510</td>\n      <td>NaN</td>\n      <td>NaN</td>\n      <td>...</td>\n      <td>NaN</td>\n      <td>NaN</td>\n      <td>NaN</td>\n      <td>NaN</td>\n      <td>NaN</td>\n      <td>NaN</td>\n      <td>NaN</td>\n      <td>NaN</td>\n      <td>NaN</td>\n      <td>NaN</td>\n    </tr>\n    <tr>\n      <th>MT</th>\n      <td>-10.895518</td>\n      <td>-10.274536</td>\n      <td>NaN</td>\n      <td>NaN</td>\n      <td>NaN</td>\n      <td>-5.233729</td>\n      <td>-3.984721</td>\n      <td>-3.403503</td>\n      <td>NaN</td>\n      <td>NaN</td>\n      <td>...</td>\n      <td>NaN</td>\n      <td>NaN</td>\n      <td>NaN</td>\n      <td>NaN</td>\n      <td>NaN</td>\n      <td>NaN</td>\n      <td>NaN</td>\n      <td>NaN</td>\n      <td>NaN</td>\n      <td>NaN</td>\n    </tr>\n    <tr>\n      <th>NC</th>\n      <td>-10.926863</td>\n      <td>-10.389527</td>\n      <td>NaN</td>\n      <td>NaN</td>\n      <td>NaN</td>\n      <td>-5.312806</td>\n      <td>-3.998085</td>\n      <td>-3.429290</td>\n      <td>NaN</td>\n      <td>NaN</td>\n      <td>...</td>\n      <td>NaN</td>\n      <td>NaN</td>\n      <td>NaN</td>\n      <td>NaN</td>\n      <td>NaN</td>\n      <td>NaN</td>\n      <td>NaN</td>\n      <td>NaN</td>\n      <td>NaN</td>\n      <td>NaN</td>\n    </tr>\n    <tr>\n      <th>ND</th>\n      <td>-11.063407</td>\n      <td>-10.406940</td>\n      <td>NaN</td>\n      <td>NaN</td>\n      <td>NaN</td>\n      <td>-5.336260</td>\n      <td>-4.014689</td>\n      <td>-3.554190</td>\n      <td>NaN</td>\n      <td>NaN</td>\n      <td>...</td>\n      <td>NaN</td>\n      <td>NaN</td>\n      <td>NaN</td>\n      <td>NaN</td>\n      <td>NaN</td>\n      <td>NaN</td>\n      <td>NaN</td>\n      <td>NaN</td>\n      <td>NaN</td>\n      <td>NaN</td>\n    </tr>\n    <tr>\n      <th>NE</th>\n      <td>-11.085710</td>\n      <td>-10.407638</td>\n      <td>NaN</td>\n      <td>NaN</td>\n      <td>NaN</td>\n      <td>-5.414724</td>\n      <td>-4.134254</td>\n      <td>-3.643438</td>\n      <td>NaN</td>\n      <td>NaN</td>\n      <td>...</td>\n      <td>NaN</td>\n      <td>NaN</td>\n      <td>NaN</td>\n      <td>NaN</td>\n      <td>NaN</td>\n      <td>NaN</td>\n      <td>NaN</td>\n      <td>NaN</td>\n      <td>NaN</td>\n      <td>NaN</td>\n    </tr>\n    <tr>\n      <th>NH</th>\n      <td>-11.101464</td>\n      <td>-10.425886</td>\n      <td>NaN</td>\n      <td>NaN</td>\n      <td>NaN</td>\n      <td>-5.474293</td>\n      <td>-4.227594</td>\n      <td>-3.645575</td>\n      <td>NaN</td>\n      <td>NaN</td>\n      <td>...</td>\n      <td>NaN</td>\n      <td>NaN</td>\n      <td>NaN</td>\n      <td>NaN</td>\n      <td>NaN</td>\n      <td>NaN</td>\n      <td>NaN</td>\n      <td>NaN</td>\n      <td>NaN</td>\n      <td>NaN</td>\n    </tr>\n    <tr>\n      <th>NJ</th>\n      <td>-11.183484</td>\n      <td>-10.550853</td>\n      <td>NaN</td>\n      <td>NaN</td>\n      <td>NaN</td>\n      <td>-5.785232</td>\n      <td>-4.243688</td>\n      <td>-3.694253</td>\n      <td>NaN</td>\n      <td>NaN</td>\n      <td>...</td>\n      <td>NaN</td>\n      <td>NaN</td>\n      <td>NaN</td>\n      <td>NaN</td>\n      <td>NaN</td>\n      <td>NaN</td>\n      <td>NaN</td>\n      <td>NaN</td>\n      <td>NaN</td>\n      <td>NaN</td>\n    </tr>\n    <tr>\n      <th>NM</th>\n      <td>-11.338110</td>\n      <td>-10.625645</td>\n      <td>NaN</td>\n      <td>NaN</td>\n      <td>NaN</td>\n      <td>-5.798298</td>\n      <td>-4.273068</td>\n      <td>-3.841028</td>\n      <td>NaN</td>\n      <td>NaN</td>\n      <td>...</td>\n      <td>NaN</td>\n      <td>NaN</td>\n      <td>NaN</td>\n      <td>NaN</td>\n      <td>NaN</td>\n      <td>NaN</td>\n      <td>NaN</td>\n      <td>NaN</td>\n      <td>NaN</td>\n      <td>NaN</td>\n    </tr>\n    <tr>\n      <th>NV</th>\n      <td>-11.361813</td>\n      <td>-10.698372</td>\n      <td>NaN</td>\n      <td>NaN</td>\n      <td>NaN</td>\n      <td>-5.945341</td>\n      <td>-4.444321</td>\n      <td>-3.849236</td>\n      <td>NaN</td>\n      <td>NaN</td>\n      <td>...</td>\n      <td>NaN</td>\n      <td>NaN</td>\n      <td>NaN</td>\n      <td>NaN</td>\n      <td>NaN</td>\n      <td>NaN</td>\n      <td>NaN</td>\n      <td>NaN</td>\n      <td>NaN</td>\n      <td>NaN</td>\n    </tr>\n    <tr>\n      <th>NY</th>\n      <td>-11.374062</td>\n      <td>-10.821194</td>\n      <td>NaN</td>\n      <td>NaN</td>\n      <td>NaN</td>\n      <td>-6.000267</td>\n      <td>-4.462172</td>\n      <td>-3.855995</td>\n      <td>NaN</td>\n      <td>NaN</td>\n      <td>...</td>\n      <td>NaN</td>\n      <td>NaN</td>\n      <td>NaN</td>\n      <td>NaN</td>\n      <td>NaN</td>\n      <td>NaN</td>\n      <td>NaN</td>\n      <td>NaN</td>\n      <td>NaN</td>\n      <td>NaN</td>\n    </tr>\n    <tr>\n      <th>OH</th>\n      <td>-11.467104</td>\n      <td>-10.857851</td>\n      <td>NaN</td>\n      <td>NaN</td>\n      <td>NaN</td>\n      <td>-6.109830</td>\n      <td>-4.528181</td>\n      <td>-3.888018</td>\n      <td>NaN</td>\n      <td>NaN</td>\n      <td>...</td>\n      <td>NaN</td>\n      <td>NaN</td>\n      <td>NaN</td>\n      <td>NaN</td>\n      <td>NaN</td>\n      <td>NaN</td>\n      <td>NaN</td>\n      <td>NaN</td>\n      <td>NaN</td>\n      <td>NaN</td>\n    </tr>\n    <tr>\n      <th>OK</th>\n      <td>-11.533870</td>\n      <td>-11.061180</td>\n      <td>NaN</td>\n      <td>NaN</td>\n      <td>NaN</td>\n      <td>-6.299138</td>\n      <td>-4.543070</td>\n      <td>-3.965826</td>\n      <td>NaN</td>\n      <td>NaN</td>\n      <td>...</td>\n      <td>NaN</td>\n      <td>NaN</td>\n      <td>NaN</td>\n      <td>NaN</td>\n      <td>NaN</td>\n      <td>NaN</td>\n      <td>NaN</td>\n      <td>NaN</td>\n      <td>NaN</td>\n      <td>NaN</td>\n    </tr>\n    <tr>\n      <th>OR</th>\n      <td>-12.066772</td>\n      <td>-11.164200</td>\n      <td>NaN</td>\n      <td>NaN</td>\n      <td>NaN</td>\n      <td>-6.304659</td>\n      <td>-4.582696</td>\n      <td>-4.048108</td>\n      <td>NaN</td>\n      <td>NaN</td>\n      <td>...</td>\n      <td>NaN</td>\n      <td>NaN</td>\n      <td>NaN</td>\n      <td>NaN</td>\n      <td>NaN</td>\n      <td>NaN</td>\n      <td>NaN</td>\n      <td>NaN</td>\n      <td>NaN</td>\n      <td>NaN</td>\n    </tr>\n    <tr>\n      <th>PA</th>\n      <td>-12.240261</td>\n      <td>-11.316613</td>\n      <td>NaN</td>\n      <td>NaN</td>\n      <td>NaN</td>\n      <td>-6.315441</td>\n      <td>-4.592154</td>\n      <td>-4.205626</td>\n      <td>NaN</td>\n      <td>NaN</td>\n      <td>...</td>\n      <td>NaN</td>\n      <td>NaN</td>\n      <td>NaN</td>\n      <td>NaN</td>\n      <td>NaN</td>\n      <td>NaN</td>\n      <td>NaN</td>\n      <td>NaN</td>\n      <td>NaN</td>\n      <td>NaN</td>\n    </tr>\n    <tr>\n      <th>RI</th>\n      <td>-12.343430</td>\n      <td>-11.446073</td>\n      <td>NaN</td>\n      <td>NaN</td>\n      <td>NaN</td>\n      <td>-6.343799</td>\n      <td>-5.153548</td>\n      <td>-4.590566</td>\n      <td>NaN</td>\n      <td>NaN</td>\n      <td>...</td>\n      <td>NaN</td>\n      <td>NaN</td>\n      <td>NaN</td>\n      <td>NaN</td>\n      <td>NaN</td>\n      <td>NaN</td>\n      <td>NaN</td>\n      <td>NaN</td>\n      <td>NaN</td>\n      <td>NaN</td>\n    </tr>\n    <tr>\n      <th>SC</th>\n      <td>-12.358208</td>\n      <td>-11.699134</td>\n      <td>NaN</td>\n      <td>NaN</td>\n      <td>NaN</td>\n      <td>-6.575459</td>\n      <td>-5.263074</td>\n      <td>-4.657108</td>\n      <td>NaN</td>\n      <td>NaN</td>\n      <td>...</td>\n      <td>NaN</td>\n      <td>NaN</td>\n      <td>NaN</td>\n      <td>NaN</td>\n      <td>NaN</td>\n      <td>NaN</td>\n      <td>NaN</td>\n      <td>NaN</td>\n      <td>NaN</td>\n      <td>NaN</td>\n    </tr>\n    <tr>\n      <th>SD</th>\n      <td>-12.985157</td>\n      <td>-11.726673</td>\n      <td>NaN</td>\n      <td>NaN</td>\n      <td>NaN</td>\n      <td>-6.609936</td>\n      <td>-5.352366</td>\n      <td>-4.684543</td>\n      <td>NaN</td>\n      <td>NaN</td>\n      <td>...</td>\n      <td>NaN</td>\n      <td>NaN</td>\n      <td>NaN</td>\n      <td>NaN</td>\n      <td>NaN</td>\n      <td>NaN</td>\n      <td>NaN</td>\n      <td>NaN</td>\n      <td>NaN</td>\n      <td>NaN</td>\n    </tr>\n    <tr>\n      <th>TN</th>\n      <td>-13.534299</td>\n      <td>-12.280813</td>\n      <td>NaN</td>\n      <td>NaN</td>\n      <td>NaN</td>\n      <td>-6.851969</td>\n      <td>-5.359647</td>\n      <td>-4.737781</td>\n      <td>NaN</td>\n      <td>NaN</td>\n      <td>...</td>\n      <td>NaN</td>\n      <td>NaN</td>\n      <td>NaN</td>\n      <td>NaN</td>\n      <td>NaN</td>\n      <td>NaN</td>\n      <td>NaN</td>\n      <td>NaN</td>\n      <td>NaN</td>\n      <td>NaN</td>\n    </tr>\n    <tr>\n      <th>TX</th>\n      <td>-13.744104</td>\n      <td>-12.569558</td>\n      <td>NaN</td>\n      <td>NaN</td>\n      <td>NaN</td>\n      <td>-6.887869</td>\n      <td>-5.392766</td>\n      <td>-4.817612</td>\n      <td>NaN</td>\n      <td>NaN</td>\n      <td>...</td>\n      <td>NaN</td>\n      <td>NaN</td>\n      <td>NaN</td>\n      <td>NaN</td>\n      <td>NaN</td>\n      <td>NaN</td>\n      <td>NaN</td>\n      <td>NaN</td>\n      <td>NaN</td>\n      <td>NaN</td>\n    </tr>\n    <tr>\n      <th>UT</th>\n      <td>-14.299344</td>\n      <td>-12.657103</td>\n      <td>NaN</td>\n      <td>NaN</td>\n      <td>NaN</td>\n      <td>-6.932782</td>\n      <td>-5.422486</td>\n      <td>-4.866039</td>\n      <td>NaN</td>\n      <td>NaN</td>\n      <td>...</td>\n      <td>NaN</td>\n      <td>NaN</td>\n      <td>NaN</td>\n      <td>NaN</td>\n      <td>NaN</td>\n      <td>NaN</td>\n      <td>NaN</td>\n      <td>NaN</td>\n      <td>NaN</td>\n      <td>NaN</td>\n    </tr>\n    <tr>\n      <th>VA</th>\n      <td>-15.018034</td>\n      <td>-13.858835</td>\n      <td>NaN</td>\n      <td>NaN</td>\n      <td>NaN</td>\n      <td>-7.429936</td>\n      <td>-5.512123</td>\n      <td>-5.027750</td>\n      <td>NaN</td>\n      <td>NaN</td>\n      <td>...</td>\n      <td>NaN</td>\n      <td>NaN</td>\n      <td>NaN</td>\n      <td>NaN</td>\n      <td>NaN</td>\n      <td>NaN</td>\n      <td>NaN</td>\n      <td>NaN</td>\n      <td>NaN</td>\n      <td>NaN</td>\n    </tr>\n    <tr>\n      <th>VT</th>\n      <td>NaN</td>\n      <td>-14.884306</td>\n      <td>NaN</td>\n      <td>NaN</td>\n      <td>NaN</td>\n      <td>-7.525024</td>\n      <td>-6.286911</td>\n      <td>-5.586184</td>\n      <td>NaN</td>\n      <td>NaN</td>\n      <td>...</td>\n      <td>NaN</td>\n      <td>NaN</td>\n      <td>NaN</td>\n      <td>NaN</td>\n      <td>NaN</td>\n      <td>NaN</td>\n      <td>NaN</td>\n      <td>NaN</td>\n      <td>NaN</td>\n      <td>NaN</td>\n    </tr>\n    <tr>\n      <th>WA</th>\n      <td>NaN</td>\n      <td>NaN</td>\n      <td>NaN</td>\n      <td>NaN</td>\n      <td>NaN</td>\n      <td>-7.701493</td>\n      <td>-6.306865</td>\n      <td>-5.730117</td>\n      <td>NaN</td>\n      <td>NaN</td>\n      <td>...</td>\n      <td>NaN</td>\n      <td>NaN</td>\n      <td>NaN</td>\n      <td>NaN</td>\n      <td>NaN</td>\n      <td>NaN</td>\n      <td>NaN</td>\n      <td>NaN</td>\n      <td>NaN</td>\n      <td>NaN</td>\n    </tr>\n    <tr>\n      <th>WI</th>\n      <td>NaN</td>\n      <td>NaN</td>\n      <td>NaN</td>\n      <td>NaN</td>\n      <td>NaN</td>\n      <td>-7.843704</td>\n      <td>-6.358420</td>\n      <td>-5.864352</td>\n      <td>NaN</td>\n      <td>NaN</td>\n      <td>...</td>\n      <td>NaN</td>\n      <td>NaN</td>\n      <td>NaN</td>\n      <td>NaN</td>\n      <td>NaN</td>\n      <td>NaN</td>\n      <td>NaN</td>\n      <td>NaN</td>\n      <td>NaN</td>\n      <td>NaN</td>\n    </tr>\n    <tr>\n      <th>WV</th>\n      <td>NaN</td>\n      <td>NaN</td>\n      <td>NaN</td>\n      <td>NaN</td>\n      <td>NaN</td>\n      <td>-9.926139</td>\n      <td>-6.742993</td>\n      <td>-5.968019</td>\n      <td>NaN</td>\n      <td>NaN</td>\n      <td>...</td>\n      <td>NaN</td>\n      <td>NaN</td>\n      <td>NaN</td>\n      <td>NaN</td>\n      <td>NaN</td>\n      <td>NaN</td>\n      <td>NaN</td>\n      <td>NaN</td>\n      <td>NaN</td>\n      <td>NaN</td>\n    </tr>\n    <tr>\n      <th>WY</th>\n      <td>NaN</td>\n      <td>NaN</td>\n      <td>NaN</td>\n      <td>NaN</td>\n      <td>NaN</td>\n      <td>NaN</td>\n      <td>NaN</td>\n      <td>NaN</td>\n      <td>NaN</td>\n      <td>NaN</td>\n      <td>...</td>\n      <td>NaN</td>\n      <td>NaN</td>\n      <td>NaN</td>\n      <td>NaN</td>\n      <td>NaN</td>\n      <td>NaN</td>\n      <td>NaN</td>\n      <td>NaN</td>\n      <td>NaN</td>\n      <td>NaN</td>\n    </tr>\n  </tbody>\n</table>\n<p>51 rows × 23885 columns</p>\n</div>"
     },
     "execution_count": 56,
     "metadata": {},
     "output_type": "execute_result"
    }
   ],
   "source": [
    "medicaid_norm_ndc.apply(lambda x: x.sort_values(ascending=False).values)"
   ],
   "metadata": {
    "collapsed": false,
    "pycharm": {
     "name": "#%%\n"
    }
   }
  },
  {
   "cell_type": "markdown",
   "metadata": {},
   "source": [
    "- The Drug `AZACITIDINE` has a very high normalized UNITS REIMBURSED in OK compared to other states.\n",
    "   - Normalized log value is -1.025642 (or a ratio 0.49119167009735065)\n",
    "   - Second highest state has a log value of -12.623428 (0.000158478197834722)\n",
    "- Oklahoma is not a high-incidence state for cancer\n",
    "- Could the following explain what is happening in Oklahoma?\n",
    "\n",
    "https://www.centerwatch.com/clinical-trials/listings/92093/acute-myeloid-leukemia-aml-study-asp2215-gilteritinib-by/?&geo_lat=35.4675602&geo_lng=-97.5164276&radius=10"
   ]
  }
 ],
 "metadata": {
  "hide_input": false,
  "kernelspec": {
   "display_name": "Python 3",
   "language": "python",
   "name": "python3"
  },
  "language_info": {
   "codemirror_mode": {
    "name": "ipython",
    "version": 3
   },
   "file_extension": ".py",
   "mimetype": "text/x-python",
   "name": "python",
   "nbconvert_exporter": "python",
   "pygments_lexer": "ipython3",
   "version": "3.6.3"
  }
 },
 "nbformat": 4,
 "nbformat_minor": 2
}