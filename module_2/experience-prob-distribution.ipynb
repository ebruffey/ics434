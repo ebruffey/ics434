{
 "cells": [
  {
   "cell_type": "markdown",
   "id": "713c60c7",
   "metadata": {},
   "source": [
    "##### Q.1 \n",
    "\n",
    "Consider the loaded die with the following probabilities:\n",
    "```\n",
    "    p(1) = 0.3/6\n",
    "    p(2) = 0.7/6\n",
    "    p(3) =   2/6\n",
    "    p(4) = 0.5/6\n",
    "    p(5) = 0.2/6\n",
    "    p(6) = 2.3/6\n",
    "```\n"
   ]
  },
  {
   "cell_type": "markdown",
   "id": "dbe12bdf",
   "metadata": {},
   "source": [
    "##### Q.2 \n",
    "* Plot the probability distribution above\n",
    "  * Select the most appropriate visualization to do so."
   ]
  },
  {
   "cell_type": "code",
   "execution_count": 1,
   "outputs": [],
   "source": [
    "import numpy as np\n",
    "from numpy.random import choice\n",
    "import matplotlib.pyplot as plt\n",
    "%matplotlib inline"
   ],
   "metadata": {
    "collapsed": false,
    "pycharm": {
     "name": "#%%\n"
    }
   }
  },
  {
   "cell_type": "code",
   "execution_count": 2,
   "outputs": [],
   "source": [
    "die = np.arange(1,7)\n",
    "probs = [0.3/6, 0.7/6, 2/6, 0.5/6, 0.2/6, 2.3/6]"
   ],
   "metadata": {
    "collapsed": false,
    "pycharm": {
     "name": "#%%\n"
    }
   }
  },
  {
   "cell_type": "code",
   "execution_count": 6,
   "id": "f519fe80",
   "metadata": {},
   "outputs": [
    {
     "data": {
      "text/plain": "Text(0.5, 1.0, 'Loaded Die Probability')"
     },
     "execution_count": 6,
     "metadata": {},
     "output_type": "execute_result"
    },
    {
     "data": {
      "text/plain": "<Figure size 432x288 with 1 Axes>",
      "image/png": "[encoded data removed]"
     },
     "metadata": {
      "needs_background": "light"
     },
     "output_type": "display_data"
    }
   ],
   "source": [
    "# Add your plot code here\n",
    "plt.bar(die, probs)\n",
    "plt.xlabel('Die Value')\n",
    "plt.ylabel('Probability')\n",
    "plt.title('Loaded Die Probability')"
   ]
  },
  {
   "cell_type": "markdown",
   "id": "2bebd2a7",
   "metadata": {},
   "source": [
    "##### Q.3 \n",
    "* Based only on the plot above, can you predict the mean value of a random variable consisting of values obtaining from rolling a die  that follows the probability distribution given above? Explain your reasoning."
   ]
  },
  {
   "cell_type": "markdown",
   "source": [
    "Based on the graph above, the mean appears to be between 3 and 6, I would guess about 4.3 max. With some math we can compute the mean value of this distribution."
   ],
   "metadata": {
    "collapsed": false
   }
  },
  {
   "cell_type": "code",
   "execution_count": 4,
   "outputs": [
    {
     "data": {
      "text/plain": "4.083333333333333"
     },
     "execution_count": 4,
     "metadata": {},
     "output_type": "execute_result"
    }
   ],
   "source": [
    "sum([probs[i] * die[i] for i in range(len(die))])"
   ],
   "metadata": {
    "collapsed": false,
    "pycharm": {
     "name": "#%%\n"
    }
   }
  },
  {
   "cell_type": "markdown",
   "id": "007f6984",
   "metadata": {},
   "source": [
    "##### Q.4\n",
    "* Sample 5000 die rolls such that the probabilities of obtaining the values 1 through 6 are distributed according probabilities above. Use these samples to estimate the mean of the random variable. \n"
   ]
  },
  {
   "cell_type": "code",
   "execution_count": 5,
   "id": "5bc38d79",
   "metadata": {},
   "outputs": [
    {
     "data": {
      "text/plain": "4.0852"
     },
     "execution_count": 5,
     "metadata": {},
     "output_type": "execute_result"
    }
   ],
   "source": [
    "trials = np.random.choice(die, 5000, p=probs)\n",
    "trials.mean()"
   ]
  },
  {
   "cell_type": "markdown",
   "id": "78152616",
   "metadata": {},
   "source": [
    "##### Q.5 \n",
    "\n",
    "* Does the mean match your prediction in Q.3 above? Explain your answer.\n"
   ]
  },
  {
   "cell_type": "markdown",
   "source": [
    "Yes, the experiment prediction is within reasonable error."
   ],
   "metadata": {
    "collapsed": false,
    "pycharm": {
     "name": "#%% md\n"
    }
   }
  }
 ],
 "metadata": {
  "kernelspec": {
   "display_name": "Python 3 (ipykernel)",
   "language": "python",
   "name": "python3"
  },
  "language_info": {
   "codemirror_mode": {
    "name": "ipython",
    "version": 3
   },
   "file_extension": ".py",
   "mimetype": "text/x-python",
   "name": "python",
   "nbconvert_exporter": "python",
   "pygments_lexer": "ipython3",
   "version": "3.8.11"
  }
 },
 "nbformat": 4,
 "nbformat_minor": 5
}