{
 "cells": [
  {
   "cell_type": "markdown",
   "id": "8b1a4ff6",
   "metadata": {},
   "source": [
    "#### 1. Reproducing a plot\n",
    "1. Use `numpy`'s `random` module to generate a random list of size 1000 of the following three categories: \"CS\", \"Engineering\", \"Math\" and \"Physics\"\n",
    "  1.1 Use a seed of 42\n",
    "2. Store the data in an array called my `students_affiliations`\n",
    "3. use `matplotlib` to plot the data in `students_affiliations` to reproduce the following graph\n",
    " 3.1 The plot uses \"#FF5733\" as color with an alpha (transparency) of 0.55.\n",
    "\n",
    "* Your graph should look exactly like the one below\n",
    "\n",
    "![](https://www.dropbox.com/s/ffmu62es6d7evh5/experience_fig.png?dl=1)"
   ]
  },
  {
   "cell_type": "markdown",
   "id": "bf3607f3",
   "metadata": {},
   "source": [
    "#### 2. Generating a scatter plot\n",
    "* Generate random data to produce a scatter plot\n",
    "  * You can use any function to generate the data\n",
    "  * Instead of using circles as symbols, you should use squares.\n",
    "    "
   ]
  },
  {
   "cell_type": "code",
   "execution_count": 1,
   "id": "9f7530eb",
   "metadata": {},
   "outputs": [],
   "source": [
    "import numpy as np\n",
    "import matplotlib.pyplot as plt\n",
    "%matplotlib inline"
   ]
  },
  {
   "cell_type": "code",
   "execution_count": 45,
   "outputs": [
    {
     "data": {
      "text/plain": "array(['Math', 'Engineering', 'CS', 'Engineering', 'Physics', 'Physics',\n       'Engineering', 'Physics', 'CS', 'Physics', 'Math', 'Engineering',\n       'Engineering', 'Engineering', 'Physics', 'Math', 'Physics',\n       'Physics', 'Physics', 'Engineering', 'Math', 'Physics', 'Physics',\n       'Math', 'CS', 'Math', 'Physics', 'Math', 'CS', 'CS', 'Physics',\n       'Math', 'CS', 'CS', 'Physics', 'Math', 'Physics', 'Engineering',\n       'Math', 'CS', 'CS', 'Math', 'Engineering', 'CS', 'Engineering',\n       'CS', 'CS', 'Engineering', 'Engineering', 'Engineering', 'Math',\n       'CS', 'Engineering', 'Math', 'Engineering', 'Physics', 'Math',\n       'Engineering', 'Math', 'Engineering', 'CS', 'Engineering',\n       'Engineering', 'Physics', 'Math', 'CS', 'Math', 'Engineering',\n       'Physics', 'Math', 'Math', 'Math', 'CS', 'CS', 'Physics', 'Math',\n       'Physics', 'Engineering', 'Physics', 'Engineering', 'CS', 'CS',\n       'CS', 'Math', 'CS', 'Math', 'Math', 'CS', 'Engineering',\n       'Engineering', 'Engineering', 'CS', 'Math', 'Engineering', 'Math',\n       'Math', 'Physics', 'CS', 'Physics', 'Physics', 'Math',\n       'Engineering', 'CS', 'Engineering', 'CS', 'Engineering', 'CS',\n       'Math', 'Engineering', 'CS', 'Engineering', 'CS', 'Engineering',\n       'Physics', 'Math', 'CS', 'Engineering', 'Engineering', 'CS', 'CS',\n       'Physics', 'CS', 'Engineering', 'CS', 'Math', 'Engineering',\n       'Physics', 'CS', 'Math', 'Physics', 'Math', 'Engineering',\n       'Engineering', 'CS', 'CS', 'Physics', 'CS', 'Math', 'CS', 'Math',\n       'CS', 'Physics', 'CS', 'Physics', 'Physics', 'Engineering',\n       'Engineering', 'Engineering', 'Engineering', 'Engineering',\n       'Engineering', 'Physics', 'CS', 'Physics', 'CS', 'Engineering',\n       'CS', 'Math', 'Engineering', 'Physics', 'CS', 'Engineering',\n       'Physics', 'Physics', 'Engineering', 'Physics', 'Math', 'CS',\n       'Math', 'Math', 'Math', 'Physics', 'Engineering', 'Engineering',\n       'Physics', 'Math', 'Engineering', 'CS', 'Physics', 'Engineering',\n       'Math', 'CS', 'Physics', 'Physics', 'Math', 'Engineering',\n       'Physics', 'Engineering', 'CS', 'Math', 'Physics', 'Engineering',\n       'CS', 'Physics', 'CS', 'CS', 'Engineering', 'Engineering', 'CS',\n       'Physics', 'Math', 'Math', 'Physics', 'Engineering', 'Engineering',\n       'Math', 'Engineering', 'Physics', 'Engineering', 'Engineering',\n       'Math', 'Engineering', 'Engineering', 'Math', 'Physics',\n       'Engineering', 'CS', 'Physics', 'Math', 'Physics', 'CS', 'Math',\n       'CS', 'Physics', 'Math', 'Physics', 'Engineering', 'Physics',\n       'Engineering', 'Math', 'Engineering', 'CS', 'Physics', 'CS',\n       'Math', 'Math', 'Engineering', 'CS', 'Engineering', 'CS', 'Math',\n       'Math', 'Physics', 'CS', 'CS', 'Physics', 'Physics', 'Engineering',\n       'Math', 'Math', 'Physics', 'Physics', 'Physics', 'Physics',\n       'Engineering', 'Math', 'Engineering', 'Math', 'Math', 'Physics',\n       'Physics', 'Physics', 'CS', 'Engineering', 'Physics',\n       'Engineering', 'Physics', 'CS', 'Math', 'Physics', 'Physics',\n       'Math', 'Engineering', 'Math', 'Engineering', 'Physics', 'Physics',\n       'Math', 'CS', 'Engineering', 'CS', 'Physics', 'Engineering',\n       'Physics', 'CS', 'Math', 'CS', 'Math', 'Engineering', 'Math',\n       'Engineering', 'Physics', 'Physics', 'CS', 'Engineering',\n       'Physics', 'Math', 'Engineering', 'CS', 'Engineering', 'Physics',\n       'Physics', 'CS', 'Engineering', 'Engineering', 'Physics', 'Math',\n       'Engineering', 'Physics', 'Physics', 'Engineering', 'Engineering',\n       'CS', 'Math', 'Engineering', 'Math', 'Math', 'CS', 'Engineering',\n       'CS', 'CS', 'CS', 'CS', 'CS', 'Physics', 'Engineering', 'CS', 'CS',\n       'Physics', 'Engineering', 'Engineering', 'CS', 'Physics',\n       'Physics', 'Math', 'Engineering', 'CS', 'Physics', 'Engineering',\n       'Physics', 'Physics', 'Physics', 'Math', 'Engineering', 'CS',\n       'Physics', 'Physics', 'Physics', 'Engineering', 'Engineering',\n       'Engineering', 'Math', 'Engineering', 'Physics', 'Engineering',\n       'CS', 'CS', 'Physics', 'CS', 'Engineering', 'Physics', 'CS',\n       'Physics', 'Engineering', 'Math', 'Math', 'Math', 'CS', 'Math',\n       'Physics', 'Engineering', 'Math', 'Engineering', 'Engineering',\n       'Math', 'Engineering', 'Math', 'CS', 'CS', 'CS', 'Physics',\n       'Engineering', 'CS', 'CS', 'Engineering', 'Math', 'Math', 'CS',\n       'CS', 'CS', 'CS', 'Physics', 'Math', 'Engineering', 'CS', 'Math',\n       'Engineering', 'Engineering', 'CS', 'CS', 'Physics', 'Physics',\n       'Engineering', 'Physics', 'Math', 'CS', 'Physics', 'Engineering',\n       'Physics', 'Engineering', 'Physics', 'Math', 'Engineering',\n       'Engineering', 'Physics', 'CS', 'Math', 'CS', 'Physics', 'Math',\n       'Physics', 'Engineering', 'Physics', 'Physics', 'Engineering',\n       'Math', 'CS', 'Math', 'Physics', 'Engineering', 'Physics', 'CS',\n       'CS', 'CS', 'Physics', 'Engineering', 'CS', 'Physics', 'Physics',\n       'Physics', 'Engineering', 'Physics', 'Physics', 'Engineering',\n       'Math', 'Engineering', 'Math', 'CS', 'Math', 'CS', 'Math',\n       'Physics', 'CS', 'Physics', 'CS', 'CS', 'CS', 'Engineering',\n       'Math', 'CS', 'Physics', 'Physics', 'Engineering', 'CS',\n       'Engineering', 'Physics', 'CS', 'Engineering', 'CS', 'Physics',\n       'Physics', 'Math', 'Engineering', 'CS', 'CS', 'CS', 'Engineering',\n       'Math', 'Engineering', 'Engineering', 'Physics', 'Math',\n       'Engineering', 'Engineering', 'Physics', 'Engineering', 'CS',\n       'Engineering', 'CS', 'Engineering', 'Physics', 'Physics',\n       'Physics', 'Math', 'CS', 'Engineering', 'CS', 'Engineering',\n       'Math', 'CS', 'Math', 'Math', 'CS', 'CS', 'Physics', 'Physics',\n       'CS', 'CS', 'CS', 'CS', 'CS', 'Engineering', 'CS', 'Math', 'CS',\n       'Math', 'CS', 'Math', 'Engineering', 'Math', 'CS', 'Physics', 'CS',\n       'Physics', 'CS', 'Math', 'CS', 'Physics', 'Physics', 'CS',\n       'Physics', 'Engineering', 'Physics', 'Math', 'CS', 'Math',\n       'Engineering', 'Engineering', 'CS', 'Math', 'CS', 'Math',\n       'Engineering', 'Engineering', 'Engineering', 'CS', 'Engineering',\n       'CS', 'Math', 'CS', 'CS', 'Math', 'Physics', 'Math', 'Engineering',\n       'Engineering', 'Math', 'Engineering', 'Physics', 'Math', 'Math',\n       'Physics', 'Physics', 'Math', 'CS', 'CS', 'Math', 'CS', 'CS', 'CS',\n       'Engineering', 'Math', 'Engineering', 'Physics', 'Math', 'CS',\n       'Physics', 'Math', 'Math', 'Math', 'CS', 'Physics', 'CS', 'Math',\n       'Math', 'Math', 'Physics', 'Math', 'Physics', 'Engineering',\n       'Physics', 'Math', 'CS', 'Physics', 'Math', 'CS', 'Math',\n       'Engineering', 'Physics', 'Physics', 'Physics', 'Engineering',\n       'Math', 'CS', 'CS', 'Physics', 'CS', 'Math', 'Physics', 'Physics',\n       'CS', 'Physics', 'Engineering', 'Engineering', 'Math', 'Physics',\n       'Engineering', 'Physics', 'Engineering', 'Physics', 'Engineering',\n       'Engineering', 'Engineering', 'CS', 'CS', 'Math', 'Engineering',\n       'CS', 'Engineering', 'Physics', 'Math', 'Math', 'Engineering',\n       'Physics', 'CS', 'Physics', 'Engineering', 'CS', 'Engineering',\n       'Math', 'Engineering', 'Math', 'Math', 'Physics', 'Physics',\n       'Physics', 'Math', 'Math', 'Math', 'Engineering', 'Physics',\n       'Physics', 'Math', 'CS', 'CS', 'Engineering', 'Math',\n       'Engineering', 'Physics', 'Engineering', 'Physics', 'Engineering',\n       'CS', 'CS', 'Engineering', 'Engineering', 'Physics', 'CS', 'CS',\n       'Physics', 'CS', 'CS', 'Physics', 'Physics', 'CS', 'Engineering',\n       'Math', 'Math', 'Physics', 'CS', 'Engineering', 'Engineering',\n       'Physics', 'CS', 'Engineering', 'Math', 'Math', 'Engineering',\n       'CS', 'Physics', 'Physics', 'Math', 'Math', 'Physics',\n       'Engineering', 'CS', 'Math', 'CS', 'Engineering', 'CS',\n       'Engineering', 'Math', 'Engineering', 'Engineering', 'Physics',\n       'CS', 'Math', 'Engineering', 'Math', 'CS', 'CS', 'CS',\n       'Engineering', 'Physics', 'Math', 'Engineering', 'CS',\n       'Engineering', 'CS', 'Physics', 'Physics', 'CS', 'Math',\n       'Engineering', 'Physics', 'CS', 'CS', 'CS', 'Engineering',\n       'Engineering', 'Math', 'Engineering', 'Math', 'CS', 'Math', 'CS',\n       'CS', 'Math', 'Engineering', 'CS', 'Math', 'Physics',\n       'Engineering', 'Engineering', 'CS', 'Physics', 'Physics', 'Math',\n       'Engineering', 'CS', 'Math', 'Math', 'Math', 'Engineering',\n       'Physics', 'Engineering', 'Math', 'Math', 'Physics', 'Math',\n       'Engineering', 'Engineering', 'Math', 'CS', 'CS', 'Math',\n       'Engineering', 'Engineering', 'Physics', 'Math', 'Engineering',\n       'Engineering', 'CS', 'Engineering', 'CS', 'Physics', 'Engineering',\n       'Engineering', 'Engineering', 'CS', 'CS', 'Math', 'Physics', 'CS',\n       'Physics', 'Engineering', 'Math', 'Engineering', 'Physics',\n       'Engineering', 'Physics', 'CS', 'Physics', 'CS', 'Math', 'CS',\n       'CS', 'CS', 'Engineering', 'CS', 'Math', 'Engineering', 'Physics',\n       'Math', 'Math', 'CS', 'Physics', 'Engineering', 'Math', 'CS',\n       'Engineering', 'Physics', 'Engineering', 'CS', 'Math', 'CS',\n       'Math', 'Engineering', 'Math', 'Math', 'CS', 'Engineering',\n       'Engineering', 'Physics', 'Physics', 'Math', 'Math', 'Math',\n       'Math', 'Engineering', 'Engineering', 'Physics', 'CS',\n       'Engineering', 'Math', 'Math', 'Physics', 'CS', 'CS', 'CS',\n       'Physics', 'Physics', 'Physics', 'Physics', 'CS', 'CS', 'CS',\n       'Physics', 'Engineering', 'Engineering', 'CS', 'Physics',\n       'Physics', 'Math', 'Math', 'Engineering', 'Physics', 'CS', 'CS',\n       'CS', 'Math', 'Physics', 'Engineering', 'Engineering', 'Math',\n       'Physics', 'CS', 'Engineering', 'Physics', 'Physics', 'CS', 'CS',\n       'Physics', 'CS', 'Engineering', 'Engineering', 'CS', 'Engineering',\n       'Math', 'Physics', 'Engineering', 'CS', 'Engineering', 'CS', 'CS',\n       'CS', 'Engineering', 'Physics', 'CS', 'Math', 'Engineering', 'CS',\n       'Engineering', 'Engineering', 'CS', 'Physics', 'CS', 'Math',\n       'Math', 'CS', 'CS', 'CS', 'Physics', 'Engineering', 'Engineering',\n       'Engineering', 'Engineering', 'Math', 'Physics', 'Math',\n       'Engineering', 'CS', 'Physics', 'Physics', 'Physics', 'CS', 'Math',\n       'Physics', 'Physics', 'Engineering', 'Physics', 'Physics', 'Math',\n       'Math', 'Engineering', 'CS', 'Engineering', 'Physics', 'Physics',\n       'Engineering', 'CS', 'Physics', 'Physics', 'CS', 'Math',\n       'Engineering', 'CS', 'CS', 'CS', 'Engineering', 'Physics', 'Math',\n       'CS', 'Math', 'Engineering', 'Math', 'Engineering', 'CS', 'Math',\n       'Physics', 'Physics', 'Engineering', 'Math', 'Math', 'Physics',\n       'Math', 'Engineering', 'CS', 'Engineering', 'Physics', 'Physics',\n       'Engineering', 'Math', 'CS', 'Engineering', 'Math', 'Physics',\n       'CS', 'CS', 'Math', 'Math', 'Physics', 'CS', 'Math', 'CS', 'CS',\n       'CS', 'CS', 'CS', 'CS', 'Physics', 'Math', 'Engineering', 'Math',\n       'CS', 'CS', 'Math', 'Engineering', 'Physics', 'Engineering',\n       'Engineering', 'Math', 'Engineering', 'Math', 'Math', 'Math', 'CS',\n       'CS', 'Math', 'Engineering'], dtype='<U11')"
     },
     "execution_count": 45,
     "metadata": {},
     "output_type": "execute_result"
    }
   ],
   "source": [
    "cats = ['CS', 'Math', 'Physics', 'Engineering']\n",
    "student_affiliations = np.random.choice(cats, 1000)\n",
    "student_affiliations"
   ],
   "metadata": {
    "collapsed": false,
    "pycharm": {
     "name": "#%%\n"
    }
   }
  },
  {
   "cell_type": "code",
   "execution_count": 27,
   "outputs": [
    {
     "data": {
      "text/plain": "(array(['CS', 'Engineering', 'Math', 'Physics'], dtype='<U11'),\n array([282, 241, 246, 231]))"
     },
     "execution_count": 27,
     "metadata": {},
     "output_type": "execute_result"
    }
   ],
   "source": [
    "counts = np.unique(student_affiliations, return_counts=True)\n",
    "counts"
   ],
   "metadata": {
    "collapsed": false,
    "pycharm": {
     "name": "#%%\n"
    }
   }
  },
  {
   "cell_type": "code",
   "execution_count": 37,
   "outputs": [
    {
     "data": {
      "text/plain": "Text(0.5, 1.0, 'Distribution of Students in the Program')"
     },
     "execution_count": 37,
     "metadata": {},
     "output_type": "execute_result"
    },
    {
     "data": {
      "text/plain": "<Figure size 432x288 with 1 Axes>",
      "image/png": "[encoded data removed]"
     },
     "metadata": {
      "needs_background": "light"
     },
     "output_type": "display_data"
    }
   ],
   "source": [
    "plt.bar(counts[0], counts[1], color='#FF5733', alpha=0.55)\n",
    "plt.title('Distribution of Students in the Program', color='g')"
   ],
   "metadata": {
    "collapsed": false,
    "pycharm": {
     "name": "#%%\n"
    }
   }
  },
  {
   "cell_type": "code",
   "execution_count": 43,
   "outputs": [
    {
     "data": {
      "text/plain": "Text(0.5, 1.0, 'Distribution of Student in he Program')"
     },
     "execution_count": 43,
     "metadata": {},
     "output_type": "execute_result"
    },
    {
     "data": {
      "text/plain": "<Figure size 432x288 with 1 Axes>",
      "image/png": "[encoded data removed]"
     },
     "metadata": {
      "needs_background": "light"
     },
     "output_type": "display_data"
    }
   ],
   "source": [
    "fig, ax = plt.subplots()\n",
    "ax.bar(counts[0], counts[1], color='#FF5733', alpha=0.55)\n",
    "ax.set_xlabel('Disciplines')\n",
    "ax.set_ylabel('Counts')\n",
    "ax.set_title('Distribution of Student in he Program', color='g')"
   ],
   "metadata": {
    "collapsed": false,
    "pycharm": {
     "name": "#%%\n"
    }
   }
  },
  {
   "cell_type": "code",
   "execution_count": 50,
   "outputs": [
    {
     "data": {
      "text/plain": "<matplotlib.collections.PathCollection at 0x7fbfc3242460>"
     },
     "execution_count": 50,
     "metadata": {},
     "output_type": "execute_result"
    },
    {
     "data": {
      "text/plain": "<Figure size 432x288 with 1 Axes>",
      "image/png": "[encoded data removed]"
     },
     "metadata": {
      "needs_background": "light"
     },
     "output_type": "display_data"
    }
   ],
   "source": [
    "x = np.random.randint(0, 500, 100)\n",
    "y = np.random.randint(0, 500, 100)\n",
    "plt.scatter(x, y, marker='s')"
   ],
   "metadata": {
    "collapsed": false,
    "pycharm": {
     "name": "#%%\n"
    }
   }
  },
  {
   "cell_type": "code",
   "execution_count": 51,
   "outputs": [
    {
     "data": {
      "text/plain": "<function __main__.<lambda>(x)>"
     },
     "execution_count": 51,
     "metadata": {},
     "output_type": "execute_result"
    }
   ],
   "source": [],
   "metadata": {
    "collapsed": false,
    "pycharm": {
     "name": "#%%\n"
    }
   }
  }
 ],
 "metadata": {
  "kernelspec": {
   "display_name": "Python 3 (ipykernel)",
   "language": "python",
   "name": "python3"
  },
  "language_info": {
   "codemirror_mode": {
    "name": "ipython",
    "version": 3
   },
   "file_extension": ".py",
   "mimetype": "text/x-python",
   "name": "python",
   "nbconvert_exporter": "python",
   "pygments_lexer": "ipython3",
   "version": "3.9.9"
  }
 },
 "nbformat": 4,
 "nbformat_minor": 5
}